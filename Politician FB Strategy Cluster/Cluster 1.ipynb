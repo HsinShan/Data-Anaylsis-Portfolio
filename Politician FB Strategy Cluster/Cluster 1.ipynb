{
  "cells": [
    {
      "cell_type": "code",
      "execution_count": null,
      "metadata": {
        "id": "9_jN8hUnnCmt"
      },
      "outputs": [],
      "source": [
        "import csv\n",
        "import pandas as pd\n",
        "import numpy as np"
      ]
    },
    {
      "cell_type": "code",
      "execution_count": null,
      "metadata": {
        "id": "JwIuQT8hnCmx"
      },
      "outputs": [],
      "source": [
        "#挑出立委候選人\n",
        "person = list(data['候選人'][0:91])\n",
        "#讀入候選人數據資料"
      ]
    },
    {
      "cell_type": "code",
      "execution_count": null,
      "metadata": {
        "id": "P1kk-lkBnCmy"
      },
      "outputs": [],
      "source": [
        "data = pd.read_csv('/Users/ruiyuyou/Downloads/preprocess_all.csv')"
      ]
    },
    {
      "cell_type": "code",
      "execution_count": null,
      "metadata": {
        "id": "vxZR5InUnCmy"
      },
      "outputs": [],
      "source": [
        "import csv\n",
        "with open('/Users/ruiyuyou/Downloads/preprocess_all.csv','r') as csvfile:\n",
        "    reader = csv.reader(csvfile)\n",
        "    rows+=[row for row in reader]"
      ]
    },
    {
      "cell_type": "code",
      "execution_count": null,
      "metadata": {
        "id": "cj6JUPCEnCmz"
      },
      "outputs": [],
      "source": [
        "from sklearn.cluster import KMeans"
      ]
    },
    {
      "cell_type": "code",
      "execution_count": null,
      "metadata": {
        "id": "JFqUgWednCmz"
      },
      "outputs": [],
      "source": [
        "#用全部變數做cluster\n",
        "train_all_variables=np.ones((92,16))\n",
        "index = 2\n",
        "for i in range(1,92):\n",
        "    rowsdata = rows[i]\n",
        "    index = 2\n",
        "    while index < 18:\n",
        "        d = rowsdata[index]\n",
        "        train_all_variables[i][index-2] = d\n",
        "        index = index + 1\n",
        "train_all_variables = train_all_variables[1:]"
      ]
    },
    {
      "cell_type": "code",
      "execution_count": null,
      "metadata": {
        "id": "bTBhWEclnCm0",
        "outputId": "7f783496-e9bc-4e94-9a32-499323a979eb"
      },
      "outputs": [
        {
          "name": "stdout",
          "output_type": "stream",
          "text": [
            "[9.76331361e-01 2.42603550e-01 0.00000000e+00 5.30000000e+01\n",
            " 9.00000000e+01 1.12426035e-01 1.06508876e-01 2.07100592e-01\n",
            " 5.91715976e-03 1.24260355e-01 3.07692308e-01 1.36094675e-01\n",
            " 1.69000000e+02 2.10000000e+01 5.00000000e+01 6.30000000e+02]\n"
          ]
        }
      ],
      "source": [
        "print(train_all_variables[90])"
      ]
    },
    {
      "cell_type": "code",
      "execution_count": null,
      "metadata": {
        "id": "1j-2Ttg4nCm1"
      },
      "outputs": [],
      "source": [
        "n_clusters = 15\n",
        "cost = []\n",
        "for i in range(2,n_clusters):\n",
        "    kmeans = KMeans(n_clusters=i)\n",
        "    kmeans.fit(train_all_variables)\n",
        "    cost.append(kmeans.inertia_)"
      ]
    },
    {
      "cell_type": "code",
      "execution_count": null,
      "metadata": {
        "id": "j3TzeByOnCm2",
        "outputId": "4da6ce22-95de-427c-c652-e5946a15efcc"
      },
      "outputs": [
        {
          "data": {
            "text/plain": [
              "[<matplotlib.lines.Line2D at 0x7ff48d48d9a0>]"
            ]
          },
          "execution_count": 194,
          "metadata": {},
          "output_type": "execute_result"
        },
        {
          "data": {
            "image/png": "[encoded data removed]",
            "text/plain": [
              "<Figure size 432x288 with 1 Axes>"
            ]
          },
          "metadata": {
            "needs_background": "light"
          },
          "output_type": "display_data"
        }
      ],
      "source": [
        "import matplotlib.pyplot as plt\n",
        "plt.plot(cost,'bx-')"
      ]
    },
    {
      "cell_type": "code",
      "execution_count": null,
      "metadata": {
        "id": "XBT3_5A8nCm3",
        "outputId": "06b3c409-e73e-475b-8ac5-2c754f116b55"
      },
      "outputs": [
        {
          "data": {
            "text/plain": [
              "KMeans(n_clusters=4)"
            ]
          },
          "execution_count": 332,
          "metadata": {},
          "output_type": "execute_result"
        }
      ],
      "source": [
        "final_n_clusters = 4\n",
        "final_kmeans = KMeans(final_n_clusters)\n",
        "final_kmeans.fit(train_all_variable)"
      ]
    },
    {
      "cell_type": "code",
      "execution_count": null,
      "metadata": {
        "id": "5JlCizzOnCm3"
      },
      "outputs": [],
      "source": [
        "labels_all_variables = final_kmeans.labels_"
      ]
    },
    {
      "cell_type": "code",
      "execution_count": null,
      "metadata": {
        "id": "rTgFcyt3nCm4",
        "outputId": "ffdb7115-39eb-446a-bb7a-daa06ce0df58"
      },
      "outputs": [
        {
          "name": "stdout",
          "output_type": "stream",
          "text": [
            "[1 0 2 0 0 1 3 2 1 2 0 0 0 2 2 2 0 2 2 1 0 0 2 2 2 0 3 0 2 0 2 0 0 0 2 2 0\n",
            " 0 0 0 2 0 2 1 0 2 2 2 0 0 0 2 2 2 2 2 2 2 2 2 2 2 2 2 2 2 2 2 2 2 2 2 2 0\n",
            " 2 2 0 2 3 2 2 2 0 0 2 0 2 0 2 0 0]\n"
          ]
        }
      ],
      "source": [
        "print(labels_all_variables)"
      ]
    },
    {
      "cell_type": "code",
      "execution_count": null,
      "metadata": {
        "id": "Al5jr8xonCm4",
        "outputId": "f9ee720c-e136-474b-ca0a-1323f88126cc"
      },
      "outputs": [
        {
          "data": {
            "text/plain": [
              "<matplotlib.legend.Legend at 0x7ff48fa3a400>"
            ]
          },
          "execution_count": 337,
          "metadata": {},
          "output_type": "execute_result"
        },
        {
          "data": {
            "image/png": "[encoded data removed]",
            "text/plain": [
              "<Figure size 432x288 with 1 Axes>"
            ]
          },
          "metadata": {
            "needs_background": "light"
          },
          "output_type": "display_data"
        }
      ],
      "source": [
        "plt.title('all variables')\n",
        "plt.scatter(train_all_variables[labels_all_variables==0, 0], train_all_variables[labels_all_variables==0, 1], s=100, c='#FF5151', label ='Cluster 1')\n",
        "plt.scatter(train_all_variables[labels_all_variables==1, 0], train_all_variables[labels_all_variables==1, 1], s=100, c='#F2930C', label ='Cluster 2')\n",
        "plt.scatter(train_all_variables[labels_all_variables==2, 0], train_all_variables[labels_all_variables==2, 1], s=100, c='#02C874', label ='Cluster 3')\n",
        "plt.scatter(train_all_variables[labels_all_variables==3, 0], train_all_variables[labels_all_variables==3, 1], s=100, c='#00CACA', label ='Cluster 4')\n",
        "plt.legend(loc='best')"
      ]
    },
    {
      "cell_type": "markdown",
      "metadata": {
        "id": "KYWHoQFnnCm4"
      },
      "source": [
        "只用發文類別做cluster"
      ]
    },
    {
      "cell_type": "code",
      "execution_count": null,
      "metadata": {
        "id": "VbPOJKbinCm6"
      },
      "outputs": [],
      "source": [
        "train_kindOfPost=np.zeros((92,7))\n",
        "for i in range(1,92):\n",
        "    rowsdata = rows[i]\n",
        "    index = 7\n",
        "    while index < 14:\n",
        "        d = rowsdata[index]\n",
        "        train_kindOfPost[i][index-7] = d\n",
        "        index = index + 1\n",
        "train_kindOfPost = train_kindOfPost[1:]"
      ]
    },
    {
      "cell_type": "code",
      "execution_count": null,
      "metadata": {
        "id": "vkJxGSBBnCm6",
        "outputId": "d5f515e1-6691-4b25-e696-9511e68a8985"
      },
      "outputs": [
        {
          "name": "stdout",
          "output_type": "stream",
          "text": [
            "[0.05517241 0.04827586 0.03448276 0.         0.30344828 0.1862069\n",
            " 0.00689655]\n"
          ]
        }
      ],
      "source": [
        "print(train_kindOfPost[0])"
      ]
    },
    {
      "cell_type": "code",
      "execution_count": null,
      "metadata": {
        "id": "9M3MMr80nCm7"
      },
      "outputs": [],
      "source": [
        "n_clusters = 20\n",
        "cost = []\n",
        "for i in range(2,n_clusters):\n",
        "    kmeans = KMeans(n_clusters=i)\n",
        "    kmeans.fit(train_kindOfPost)\n",
        "    cost.append(kmeans.inertia_)"
      ]
    },
    {
      "cell_type": "code",
      "execution_count": null,
      "metadata": {
        "id": "tqYPGBClnCm7",
        "outputId": "a74d6763-0ab4-46c2-c0f1-6987373129c9"
      },
      "outputs": [
        {
          "data": {
            "text/plain": [
              "[<matplotlib.lines.Line2D at 0x7ff490ca9ca0>]"
            ]
          },
          "execution_count": 366,
          "metadata": {},
          "output_type": "execute_result"
        },
        {
          "data": {
            "image/png": "[encoded data removed]",
            "text/plain": [
              "<Figure size 432x288 with 1 Axes>"
            ]
          },
          "metadata": {
            "needs_background": "light"
          },
          "output_type": "display_data"
        }
      ],
      "source": [
        "import matplotlib.pyplot as plt\n",
        "plt.plot(cost,'bx-')"
      ]
    },
    {
      "cell_type": "code",
      "execution_count": null,
      "metadata": {
        "id": "n8BGfP8-nCm7",
        "outputId": "2b643841-c37e-4245-f60c-bf18276a547e"
      },
      "outputs": [
        {
          "data": {
            "text/plain": [
              "KMeans(n_clusters=5)"
            ]
          },
          "execution_count": 367,
          "metadata": {},
          "output_type": "execute_result"
        }
      ],
      "source": [
        "final_n_clusters = 5\n",
        "final_kmeans = KMeans(final_n_clusters)\n",
        "final_kmeans.fit(train_kindOfPost)"
      ]
    },
    {
      "cell_type": "code",
      "execution_count": null,
      "metadata": {
        "id": "WUqpI3QenCm8"
      },
      "outputs": [],
      "source": [
        "labels__kindOfPost = final_kmeans.labels_"
      ]
    },
    {
      "cell_type": "code",
      "execution_count": null,
      "metadata": {
        "id": "BlztJKo2nCm8",
        "outputId": "77749af6-439a-4426-b6b3-a982195c593d"
      },
      "outputs": [
        {
          "name": "stdout",
          "output_type": "stream",
          "text": [
            "[1 0 0 0 0 1 0 0 4 0 1 0 1 0 0 0 4 1 1 2 1 4 0 0 4 1 1 2 1 3 1 4 4 3 1 1 2\n",
            " 3 3 1 4 1 3 2 2 3 3 3 2 1 1 1 2 4 4 1 2 2 1 3 3 4 4 1 1 2 2 1 3 4 4 1 2 1\n",
            " 3 3 3 4 2 1 1 2 3 4 4 1 1 1 1 3 3]\n"
          ]
        }
      ],
      "source": [
        "print(labels__kindOfPost)"
      ]
    },
    {
      "cell_type": "code",
      "execution_count": null,
      "metadata": {
        "id": "ggaY3WDvnCm9",
        "outputId": "01c5e401-62a3-4fa9-8835-ef59e9795bd7"
      },
      "outputs": [
        {
          "data": {
            "text/plain": [
              "<matplotlib.legend.Legend at 0x7ff4911a8c40>"
            ]
          },
          "execution_count": 372,
          "metadata": {},
          "output_type": "execute_result"
        },
        {
          "data": {
            "image/png": "[encoded data removed]",
            "text/plain": [
              "<Figure size 432x288 with 1 Axes>"
            ]
          },
          "metadata": {
            "needs_background": "light"
          },
          "output_type": "display_data"
        }
      ],
      "source": [
        "plt.title('kind of post')\n",
        "plt.scatter(train_kindOfPost[labels__kindOfPost==0, 0], train_kindOfPost[labels__kindOfPost==0, 1], s=100, c='#FF9797', label ='Cluster 1')\n",
        "plt.scatter(train_kindOfPost[labels__kindOfPost==1, 0], train_kindOfPost[labels__kindOfPost==1, 1], s=100, c='#00ACC1', label ='Cluster 2')\n",
        "plt.scatter(train_kindOfPost[labels__kindOfPost==2, 0], train_kindOfPost[labels__kindOfPost==2, 1], s=100, c='#E64A19', label ='Cluster 3')\n",
        "plt.scatter(train_kindOfPost[labels__kindOfPost==3, 0], train_kindOfPost[labels__kindOfPost==3, 1], s=100, c='#2196F3', label ='Cluster 4')\n",
        "plt.scatter(train_kindOfPost[labels__kindOfPost==4, 0], train_kindOfPost[labels__kindOfPost==4, 1], s=100, c='#8BC34A', label ='Cluster 5')\n",
        "# plt.scatter(train_kindOfPost[labels__kindOfPost==5, 0], train_kindOfPost[labels__kindOfPost==5, 1], s=100, c='#E91E63', label ='Cluster 6')\n",
        "# plt.scatter(train_kindOfPost[labels__kindOfPost==6, 0], train_kindOfPost[labels__kindOfPost==6, 1], s=100, c='#29A487', label ='Cluster 7')\n",
        "# plt.scatter(train_kindOfPost[labels__kindOfPost==7, 0], train_kindOfPost[labels__kindOfPost==7, 1], s=100, c='#AED7EB', label ='Cluster 8')\n",
        "# plt.scatter(train_kindOfPost[labels__kindOfPost==8, 0], train_kindOfPost[labels__kindOfPost==8, 1], s=100, c='#651FFF', label ='Cluster 9')\n",
        "# plt.scatter(train_kindOfPost[labels__kindOfPost==9, 0], train_kindOfPost[labels__kindOfPost==9, 1], s=100, c='#F9A825', label ='Cluster 10')\n",
        "plt.legend(loc='best')"
      ]
    },
    {
      "cell_type": "markdown",
      "metadata": {
        "id": "9Q1gKoH1nCm9"
      },
      "source": [
        "用column:C~N"
      ]
    },
    {
      "cell_type": "code",
      "execution_count": null,
      "metadata": {
        "id": "S7X-cxiKnCm-"
      },
      "outputs": [],
      "source": [
        "train_partial_variables=np.ones((92,12))\n",
        "index = 2\n",
        "for i in range(1,92):\n",
        "    rowsdata = rows[i]\n",
        "    index = 2\n",
        "    while index < 13:\n",
        "        d = rowsdata[index]\n",
        "        train_partial_variables[i][index-2] = d\n",
        "        index = index + 1\n",
        "train_partial_variables = train_partial_variables[1:]"
      ]
    },
    {
      "cell_type": "code",
      "execution_count": null,
      "metadata": {
        "id": "Brv9akvanCm-"
      },
      "outputs": [],
      "source": [
        "n_clusters = 15\n",
        "cost = []\n",
        "for i in range(2,n_clusters):\n",
        "    kmeans = KMeans(n_clusters=i)\n",
        "    kmeans.fit(train_partial_variables)\n",
        "    cost.append(kmeans.inertia_)"
      ]
    },
    {
      "cell_type": "code",
      "execution_count": null,
      "metadata": {
        "id": "eRLTerWgnCm-",
        "outputId": "9da36721-7b3e-413f-e1b7-4d7bb0eef2ec"
      },
      "outputs": [
        {
          "data": {
            "text/plain": [
              "[<matplotlib.lines.Line2D at 0x7ff48e5448e0>]"
            ]
          },
          "execution_count": 241,
          "metadata": {},
          "output_type": "execute_result"
        },
        {
          "data": {
            "image/png": "[encoded data removed]",
            "text/plain": [
              "<Figure size 432x288 with 1 Axes>"
            ]
          },
          "metadata": {
            "needs_background": "light"
          },
          "output_type": "display_data"
        }
      ],
      "source": [
        "import matplotlib.pyplot as plt\n",
        "plt.plot(cost,'bx-')"
      ]
    },
    {
      "cell_type": "markdown",
      "metadata": {
        "id": "hn5xKClsnCm_"
      },
      "source": [
        "用column:H~R"
      ]
    },
    {
      "cell_type": "code",
      "execution_count": null,
      "metadata": {
        "id": "u_oQ7mC7nCm_"
      },
      "outputs": [],
      "source": [
        "train_partial_backword_variables=np.zeros((92,11))\n",
        "for i in range(1,92):\n",
        "    rowsdata = rows[i]\n",
        "    index = 7\n",
        "    while index < 18:\n",
        "        d = rowsdata[index]\n",
        "        train_partial_backword_variables[i][index-7] = d\n",
        "        index = index + 1\n",
        "train_partial_backword_variables = train_partial_backword_variables[1:]"
      ]
    },
    {
      "cell_type": "code",
      "execution_count": null,
      "metadata": {
        "id": "e7IW_d7HnCm_"
      },
      "outputs": [],
      "source": [
        "n_clusters = 20\n",
        "cost = []\n",
        "for i in range(2,n_clusters):\n",
        "    kmeans = KMeans(n_clusters=i)\n",
        "    kmeans.fit(train_partial_backword_variables)\n",
        "    cost.append(kmeans.inertia_)"
      ]
    },
    {
      "cell_type": "code",
      "execution_count": null,
      "metadata": {
        "id": "plVxFd0anCm_",
        "outputId": "a5f02db3-3e13-4d56-e6fb-ab29ae44201c"
      },
      "outputs": [
        {
          "data": {
            "text/plain": [
              "[<matplotlib.lines.Line2D at 0x7ff49026b250>]"
            ]
          },
          "execution_count": 345,
          "metadata": {},
          "output_type": "execute_result"
        },
        {
          "data": {
            "image/png": "[encoded data removed]",
            "text/plain": [
              "<Figure size 432x288 with 1 Axes>"
            ]
          },
          "metadata": {
            "needs_background": "light"
          },
          "output_type": "display_data"
        }
      ],
      "source": [
        "import matplotlib.pyplot as plt\n",
        "plt.plot(cost,'bx-')"
      ]
    },
    {
      "cell_type": "code",
      "execution_count": null,
      "metadata": {
        "id": "-5KpUq0VnCm_",
        "outputId": "1e64304c-18ac-4cdf-82f9-8de9ef7d9992"
      },
      "outputs": [
        {
          "data": {
            "text/plain": [
              "KMeans(n_clusters=3)"
            ]
          },
          "execution_count": 350,
          "metadata": {},
          "output_type": "execute_result"
        }
      ],
      "source": [
        "final_n_clusters = 3\n",
        "final_kmeans = KMeans(final_n_clusters)\n",
        "final_kmeans.fit(train_partial_backword_variables)"
      ]
    },
    {
      "cell_type": "code",
      "execution_count": null,
      "metadata": {
        "id": "VmHqlbG4nCnA"
      },
      "outputs": [],
      "source": [
        "labels__partial_backword_variables = final_kmeans.labels_"
      ]
    },
    {
      "cell_type": "code",
      "execution_count": null,
      "metadata": {
        "id": "1wsHi3Q-nCnA",
        "outputId": "29b148ec-c2ee-42f2-ae78-1658308a8ec1"
      },
      "outputs": [
        {
          "name": "stdout",
          "output_type": "stream",
          "text": [
            "[1 0 2 0 0 1 0 2 1 2 0 0 0 2 2 2 0 2 2 1 0 0 2 2 2 0 1 0 2 0 2 0 0 0 2 2 0\n",
            " 0 0 0 2 0 2 1 0 2 2 2 2 2 0 2 2 2 2 2 2 2 2 2 2 2 2 2 2 2 2 2 2 2 2 2 2 0\n",
            " 2 2 0 2 1 2 2 2 0 0 2 0 2 0 2 0 0]\n"
          ]
        }
      ],
      "source": [
        "print(labels__partial_backword_variables)"
      ]
    },
    {
      "cell_type": "code",
      "execution_count": null,
      "metadata": {
        "id": "u7Cn7UF9nCnA",
        "outputId": "cbf43295-a4f1-449a-9ef7-1c57197ad976"
      },
      "outputs": [
        {
          "data": {
            "image/png": "[encoded data removed]",
            "text/plain": [
              "<Figure size 432x288 with 1 Axes>"
            ]
          },
          "metadata": {
            "needs_background": "light"
          },
          "output_type": "display_data"
        }
      ],
      "source": [
        "plt.title('kind of post_backword:')\n",
        "plt.scatter(train_partial_backword_variables[labels__partial_backword_variables==0, 0], train_partial_backword_variables[labels__partial_backword_variables==0, 1], c='#FF9797', label ='Cluster 1')\n",
        "plt.scatter(train_partial_backword_variables[labels__partial_backword_variables==1, 0], train_partial_backword_variables[labels__partial_backword_variables==1, 1], c='#AED7EB', label ='Cluster 2')\n",
        "plt.scatter(train_partial_backword_variables[labels__partial_backword_variables==2, 0], train_partial_backword_variables[labels__partial_backword_variables==2, 1], c='#E6D2D3', label ='Cluster 3')\n",
        "plt.scatter(train_partial_backword_variables[labels__partial_backword_variables==3, 0], train_partial_backword_variables[labels__partial_backword_variables==3, 1], c='#FF946D', label ='Cluster 4')\n",
        "plt.legend(loc='best')\n",
        "plt.show()"
      ]
    },
    {
      "cell_type": "markdown",
      "metadata": {
        "id": "PFt8Kc_YnCnA"
      },
      "source": [
        "用貼文做為分類，把'造勢推廣'去掉\n",
        "7,8,9,10,12"
      ]
    },
    {
      "cell_type": "code",
      "execution_count": null,
      "metadata": {
        "id": "AxHeE5WxnCnA"
      },
      "outputs": [],
      "source": [
        "train_d=np.zeros((92,5))\n",
        "for i in range(1,92):\n",
        "    rowsdata = rows[i]\n",
        "    index = 7\n",
        "    count = 0\n",
        "    while index < 13:\n",
        "        if index == 11:\n",
        "            index = index + 1\n",
        "            continue;\n",
        "        d = rowsdata[index]\n",
        "        train_d[i][count] = d\n",
        "        index = index + 1\n",
        "        count = count + 1\n",
        "train_d = train_d[1:]"
      ]
    },
    {
      "cell_type": "code",
      "execution_count": null,
      "metadata": {
        "id": "vdkkFQ7mnCnB",
        "outputId": "9568bad8-374f-4230-808b-9a2d77c2ec8b"
      },
      "outputs": [
        {
          "name": "stdout",
          "output_type": "stream",
          "text": [
            "[0.05517241 0.04827586 0.03448276 0.         0.1862069 ]\n"
          ]
        }
      ],
      "source": [
        "print(train_d[0])"
      ]
    },
    {
      "cell_type": "code",
      "execution_count": null,
      "metadata": {
        "id": "2Oa1RpA3nCnB"
      },
      "outputs": [],
      "source": [
        "n_clusters = 5\n",
        "cost = []\n",
        "for i in range(2,n_clusters):\n",
        "    kmeans = KMeans(n_clusters=i)\n",
        "    kmeans.fit(train_d)\n",
        "    cost.append(kmeans.inertia_)"
      ]
    },
    {
      "cell_type": "code",
      "execution_count": null,
      "metadata": {
        "id": "h45sGCaAnCnB",
        "outputId": "192d747a-305d-446c-f9e2-424d50109466"
      },
      "outputs": [
        {
          "data": {
            "text/plain": [
              "[<matplotlib.lines.Line2D at 0x7ff4913774c0>]"
            ]
          },
          "execution_count": 376,
          "metadata": {},
          "output_type": "execute_result"
        },
        {
          "data": {
            "image/png": "[encoded data removed]",
            "text/plain": [
              "<Figure size 432x288 with 1 Axes>"
            ]
          },
          "metadata": {
            "needs_background": "light"
          },
          "output_type": "display_data"
        }
      ],
      "source": [
        "import matplotlib.pyplot as plt\n",
        "plt.plot(cost,'bx-')"
      ]
    },
    {
      "cell_type": "code",
      "execution_count": null,
      "metadata": {
        "id": "AF8Kn0SGnCnB"
      },
      "outputs": [],
      "source": [
        ""
      ]
    }
  ],
  "metadata": {
    "kernelspec": {
      "display_name": "Python 3",
      "language": "python",
      "name": "python3"
    },
    "language_info": {
      "codemirror_mode": {
        "name": "ipython",
        "version": 3
      },
      "file_extension": ".py",
      "mimetype": "text/x-python",
      "name": "python",
      "nbconvert_exporter": "python",
      "pygments_lexer": "ipython3",
      "version": "3.8.3"
    },
    "colab": {
      "name": "Untitled.ipynb",
      "provenance": []
    }
  },
  "nbformat": 4,
  "nbformat_minor": 0
}