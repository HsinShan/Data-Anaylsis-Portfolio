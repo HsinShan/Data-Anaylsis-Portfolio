{
 "cells": [
  {
   "cell_type": "markdown",
   "metadata": {
    "id": "f1GhCbKxv3Wg"
   },
   "source": [
    "## SVM"
   ]
  },
  {
   "cell_type": "markdown",
   "metadata": {
    "id": "PxOmYF0KvcAy"
   },
   "source": [
    "引入模組"
   ]
  },
  {
   "cell_type": "code",
   "execution_count": 1,
   "metadata": {
    "id": "XzDyCe6L_y-V"
   },
   "outputs": [],
   "source": [
    "import pandas as pd\n",
    "import re\n",
    "import numpy as np\n",
    "import seaborn as sns\n",
    "import matplotlib.pyplot as plt"
   ]
  },
  {
   "cell_type": "code",
   "execution_count": 2,
   "metadata": {
    "id": "tfr5dAIHuv2g"
   },
   "outputs": [],
   "source": [
    "from sklearn import svm #使用svm演算法\n",
    "from sklearn import datasets\n",
    "from sklearn.model_selection import train_test_split\n",
    "from sklearn import metrics"
   ]
  },
  {
   "cell_type": "markdown",
   "metadata": {
    "id": "4NxwxuWCvnEN"
   },
   "source": [
    "匯入資料"
   ]
  },
  {
   "cell_type": "code",
   "execution_count": 3,
   "metadata": {},
   "outputs": [],
   "source": [
    "#from google.colab import files\n",
    "#files.upload()"
   ]
  },
  {
   "cell_type": "code",
   "execution_count": 4,
   "metadata": {
    "id": "VR-eCsW6_-92"
   },
   "outputs": [],
   "source": [
    "df = pd.read_csv('training_X_binary-2%_700詞.csv', index_col=0)\n",
    "#df = pd.read_csv('training_X_times-2%_700詞.csv', index_col=0)"
   ]
  },
  {
   "cell_type": "code",
   "execution_count": 5,
   "metadata": {
    "id": "hCDWMTUYALWi",
    "scrolled": true
   },
   "outputs": [
    {
     "data": {
      "text/html": [
       "<div>\n",
       "<style scoped>\n",
       "    .dataframe tbody tr th:only-of-type {\n",
       "        vertical-align: middle;\n",
       "    }\n",
       "\n",
       "    .dataframe tbody tr th {\n",
       "        vertical-align: top;\n",
       "    }\n",
       "\n",
       "    .dataframe thead th {\n",
       "        text-align: right;\n",
       "    }\n",
       "</style>\n",
       "<table border=\"1\" class=\"dataframe\">\n",
       "  <thead>\n",
       "    <tr style=\"text-align: right;\">\n",
       "      <th></th>\n",
       "      <th>短多</th>\n",
       "      <th>紙類</th>\n",
       "      <th>年後</th>\n",
       "      <th>董監</th>\n",
       "      <th>盛餘</th>\n",
       "      <th>允強</th>\n",
       "      <th>造紙類</th>\n",
       "      <th>推薦</th>\n",
       "      <th>股三大指</th>\n",
       "      <th>年封關</th>\n",
       "      <th>...</th>\n",
       "      <th>再創新高股</th>\n",
       "      <th>元創近個月</th>\n",
       "      <th>香港及陸股</th>\n",
       "      <th>生技月即將</th>\n",
       "      <th>分析師點名</th>\n",
       "      <th>台灣大賣超</th>\n",
       "      <th>台積電群創</th>\n",
       "      <th>線失而復得</th>\n",
       "      <th>元季增</th>\n",
       "      <th>郭英理表示</th>\n",
       "    </tr>\n",
       "    <tr>\n",
       "      <th>三大指</th>\n",
       "      <th></th>\n",
       "      <th></th>\n",
       "      <th></th>\n",
       "      <th></th>\n",
       "      <th></th>\n",
       "      <th></th>\n",
       "      <th></th>\n",
       "      <th></th>\n",
       "      <th></th>\n",
       "      <th></th>\n",
       "      <th></th>\n",
       "      <th></th>\n",
       "      <th></th>\n",
       "      <th></th>\n",
       "      <th></th>\n",
       "      <th></th>\n",
       "      <th></th>\n",
       "      <th></th>\n",
       "      <th></th>\n",
       "      <th></th>\n",
       "      <th></th>\n",
       "    </tr>\n",
       "  </thead>\n",
       "  <tbody>\n",
       "    <tr>\n",
       "      <th>0</th>\n",
       "      <td>0</td>\n",
       "      <td>0</td>\n",
       "      <td>0</td>\n",
       "      <td>0</td>\n",
       "      <td>0</td>\n",
       "      <td>0</td>\n",
       "      <td>0</td>\n",
       "      <td>0</td>\n",
       "      <td>0</td>\n",
       "      <td>0</td>\n",
       "      <td>...</td>\n",
       "      <td>0</td>\n",
       "      <td>0</td>\n",
       "      <td>0</td>\n",
       "      <td>0</td>\n",
       "      <td>0</td>\n",
       "      <td>0</td>\n",
       "      <td>0</td>\n",
       "      <td>0</td>\n",
       "      <td>0</td>\n",
       "      <td>0</td>\n",
       "    </tr>\n",
       "    <tr>\n",
       "      <th>0</th>\n",
       "      <td>0</td>\n",
       "      <td>0</td>\n",
       "      <td>0</td>\n",
       "      <td>0</td>\n",
       "      <td>0</td>\n",
       "      <td>0</td>\n",
       "      <td>0</td>\n",
       "      <td>0</td>\n",
       "      <td>0</td>\n",
       "      <td>0</td>\n",
       "      <td>...</td>\n",
       "      <td>0</td>\n",
       "      <td>0</td>\n",
       "      <td>0</td>\n",
       "      <td>0</td>\n",
       "      <td>0</td>\n",
       "      <td>0</td>\n",
       "      <td>0</td>\n",
       "      <td>0</td>\n",
       "      <td>0</td>\n",
       "      <td>0</td>\n",
       "    </tr>\n",
       "    <tr>\n",
       "      <th>0</th>\n",
       "      <td>1</td>\n",
       "      <td>0</td>\n",
       "      <td>1</td>\n",
       "      <td>0</td>\n",
       "      <td>0</td>\n",
       "      <td>0</td>\n",
       "      <td>0</td>\n",
       "      <td>0</td>\n",
       "      <td>0</td>\n",
       "      <td>0</td>\n",
       "      <td>...</td>\n",
       "      <td>0</td>\n",
       "      <td>0</td>\n",
       "      <td>0</td>\n",
       "      <td>0</td>\n",
       "      <td>0</td>\n",
       "      <td>0</td>\n",
       "      <td>0</td>\n",
       "      <td>0</td>\n",
       "      <td>0</td>\n",
       "      <td>0</td>\n",
       "    </tr>\n",
       "    <tr>\n",
       "      <th>0</th>\n",
       "      <td>0</td>\n",
       "      <td>0</td>\n",
       "      <td>0</td>\n",
       "      <td>0</td>\n",
       "      <td>0</td>\n",
       "      <td>0</td>\n",
       "      <td>0</td>\n",
       "      <td>1</td>\n",
       "      <td>0</td>\n",
       "      <td>0</td>\n",
       "      <td>...</td>\n",
       "      <td>0</td>\n",
       "      <td>0</td>\n",
       "      <td>0</td>\n",
       "      <td>0</td>\n",
       "      <td>0</td>\n",
       "      <td>0</td>\n",
       "      <td>0</td>\n",
       "      <td>0</td>\n",
       "      <td>0</td>\n",
       "      <td>0</td>\n",
       "    </tr>\n",
       "    <tr>\n",
       "      <th>1</th>\n",
       "      <td>0</td>\n",
       "      <td>0</td>\n",
       "      <td>0</td>\n",
       "      <td>0</td>\n",
       "      <td>0</td>\n",
       "      <td>0</td>\n",
       "      <td>0</td>\n",
       "      <td>0</td>\n",
       "      <td>1</td>\n",
       "      <td>0</td>\n",
       "      <td>...</td>\n",
       "      <td>0</td>\n",
       "      <td>0</td>\n",
       "      <td>0</td>\n",
       "      <td>0</td>\n",
       "      <td>0</td>\n",
       "      <td>0</td>\n",
       "      <td>0</td>\n",
       "      <td>0</td>\n",
       "      <td>0</td>\n",
       "      <td>0</td>\n",
       "    </tr>\n",
       "    <tr>\n",
       "      <th>...</th>\n",
       "      <td>...</td>\n",
       "      <td>...</td>\n",
       "      <td>...</td>\n",
       "      <td>...</td>\n",
       "      <td>...</td>\n",
       "      <td>...</td>\n",
       "      <td>...</td>\n",
       "      <td>...</td>\n",
       "      <td>...</td>\n",
       "      <td>...</td>\n",
       "      <td>...</td>\n",
       "      <td>...</td>\n",
       "      <td>...</td>\n",
       "      <td>...</td>\n",
       "      <td>...</td>\n",
       "      <td>...</td>\n",
       "      <td>...</td>\n",
       "      <td>...</td>\n",
       "      <td>...</td>\n",
       "      <td>...</td>\n",
       "      <td>...</td>\n",
       "    </tr>\n",
       "    <tr>\n",
       "      <th>0</th>\n",
       "      <td>0</td>\n",
       "      <td>0</td>\n",
       "      <td>0</td>\n",
       "      <td>0</td>\n",
       "      <td>0</td>\n",
       "      <td>0</td>\n",
       "      <td>0</td>\n",
       "      <td>0</td>\n",
       "      <td>0</td>\n",
       "      <td>0</td>\n",
       "      <td>...</td>\n",
       "      <td>0</td>\n",
       "      <td>0</td>\n",
       "      <td>0</td>\n",
       "      <td>0</td>\n",
       "      <td>0</td>\n",
       "      <td>0</td>\n",
       "      <td>0</td>\n",
       "      <td>0</td>\n",
       "      <td>1</td>\n",
       "      <td>0</td>\n",
       "    </tr>\n",
       "    <tr>\n",
       "      <th>0</th>\n",
       "      <td>0</td>\n",
       "      <td>0</td>\n",
       "      <td>0</td>\n",
       "      <td>0</td>\n",
       "      <td>0</td>\n",
       "      <td>0</td>\n",
       "      <td>0</td>\n",
       "      <td>0</td>\n",
       "      <td>0</td>\n",
       "      <td>0</td>\n",
       "      <td>...</td>\n",
       "      <td>0</td>\n",
       "      <td>0</td>\n",
       "      <td>0</td>\n",
       "      <td>0</td>\n",
       "      <td>0</td>\n",
       "      <td>0</td>\n",
       "      <td>0</td>\n",
       "      <td>0</td>\n",
       "      <td>0</td>\n",
       "      <td>0</td>\n",
       "    </tr>\n",
       "    <tr>\n",
       "      <th>0</th>\n",
       "      <td>0</td>\n",
       "      <td>0</td>\n",
       "      <td>0</td>\n",
       "      <td>0</td>\n",
       "      <td>0</td>\n",
       "      <td>0</td>\n",
       "      <td>0</td>\n",
       "      <td>0</td>\n",
       "      <td>0</td>\n",
       "      <td>0</td>\n",
       "      <td>...</td>\n",
       "      <td>0</td>\n",
       "      <td>0</td>\n",
       "      <td>0</td>\n",
       "      <td>0</td>\n",
       "      <td>0</td>\n",
       "      <td>0</td>\n",
       "      <td>0</td>\n",
       "      <td>0</td>\n",
       "      <td>0</td>\n",
       "      <td>0</td>\n",
       "    </tr>\n",
       "    <tr>\n",
       "      <th>0</th>\n",
       "      <td>0</td>\n",
       "      <td>0</td>\n",
       "      <td>0</td>\n",
       "      <td>0</td>\n",
       "      <td>0</td>\n",
       "      <td>0</td>\n",
       "      <td>0</td>\n",
       "      <td>0</td>\n",
       "      <td>0</td>\n",
       "      <td>0</td>\n",
       "      <td>...</td>\n",
       "      <td>0</td>\n",
       "      <td>0</td>\n",
       "      <td>0</td>\n",
       "      <td>0</td>\n",
       "      <td>0</td>\n",
       "      <td>0</td>\n",
       "      <td>0</td>\n",
       "      <td>0</td>\n",
       "      <td>0</td>\n",
       "      <td>0</td>\n",
       "    </tr>\n",
       "    <tr>\n",
       "      <th>0</th>\n",
       "      <td>0</td>\n",
       "      <td>0</td>\n",
       "      <td>0</td>\n",
       "      <td>0</td>\n",
       "      <td>0</td>\n",
       "      <td>0</td>\n",
       "      <td>0</td>\n",
       "      <td>0</td>\n",
       "      <td>0</td>\n",
       "      <td>0</td>\n",
       "      <td>...</td>\n",
       "      <td>0</td>\n",
       "      <td>0</td>\n",
       "      <td>0</td>\n",
       "      <td>0</td>\n",
       "      <td>0</td>\n",
       "      <td>0</td>\n",
       "      <td>0</td>\n",
       "      <td>0</td>\n",
       "      <td>0</td>\n",
       "      <td>0</td>\n",
       "    </tr>\n",
       "  </tbody>\n",
       "</table>\n",
       "<p>3183 rows × 1399 columns</p>\n",
       "</div>"
      ],
      "text/plain": [
       "     短多  紙類  年後  董監  盛餘  允強  造紙類  推薦  股三大指  年封關  ...  再創新高股  元創近個月  香港及陸股  \\\n",
       "三大指                                              ...                        \n",
       "0     0   0   0   0   0   0    0   0     0    0  ...      0      0      0   \n",
       "0     0   0   0   0   0   0    0   0     0    0  ...      0      0      0   \n",
       "0     1   0   1   0   0   0    0   0     0    0  ...      0      0      0   \n",
       "0     0   0   0   0   0   0    0   1     0    0  ...      0      0      0   \n",
       "1     0   0   0   0   0   0    0   0     1    0  ...      0      0      0   \n",
       "..   ..  ..  ..  ..  ..  ..  ...  ..   ...  ...  ...    ...    ...    ...   \n",
       "0     0   0   0   0   0   0    0   0     0    0  ...      0      0      0   \n",
       "0     0   0   0   0   0   0    0   0     0    0  ...      0      0      0   \n",
       "0     0   0   0   0   0   0    0   0     0    0  ...      0      0      0   \n",
       "0     0   0   0   0   0   0    0   0     0    0  ...      0      0      0   \n",
       "0     0   0   0   0   0   0    0   0     0    0  ...      0      0      0   \n",
       "\n",
       "     生技月即將  分析師點名  台灣大賣超  台積電群創  線失而復得  元季增  郭英理表示  \n",
       "三大指                                                 \n",
       "0        0      0      0      0      0    0      0  \n",
       "0        0      0      0      0      0    0      0  \n",
       "0        0      0      0      0      0    0      0  \n",
       "0        0      0      0      0      0    0      0  \n",
       "1        0      0      0      0      0    0      0  \n",
       "..     ...    ...    ...    ...    ...  ...    ...  \n",
       "0        0      0      0      0      0    1      0  \n",
       "0        0      0      0      0      0    0      0  \n",
       "0        0      0      0      0      0    0      0  \n",
       "0        0      0      0      0      0    0      0  \n",
       "0        0      0      0      0      0    0      0  \n",
       "\n",
       "[3183 rows x 1399 columns]"
      ]
     },
     "execution_count": 5,
     "metadata": {},
     "output_type": "execute_result"
    }
   ],
   "source": [
    "df"
   ]
  },
  {
   "cell_type": "code",
   "execution_count": 6,
   "metadata": {
    "id": "wPaTFqcJz58h"
   },
   "outputs": [
    {
     "data": {
      "text/plain": [
       "<bound method NDFrame.head of      短多  紙類  年後  董監  盛餘  允強  造紙類  推薦  股三大指  年封關  ...  再創新高股  元創近個月  香港及陸股  \\\n",
       "三大指                                              ...                        \n",
       "0     0   0   0   0   0   0    0   0     0    0  ...      0      0      0   \n",
       "0     0   0   0   0   0   0    0   0     0    0  ...      0      0      0   \n",
       "0     1   0   1   0   0   0    0   0     0    0  ...      0      0      0   \n",
       "0     0   0   0   0   0   0    0   1     0    0  ...      0      0      0   \n",
       "1     0   0   0   0   0   0    0   0     1    0  ...      0      0      0   \n",
       "..   ..  ..  ..  ..  ..  ..  ...  ..   ...  ...  ...    ...    ...    ...   \n",
       "0     0   0   0   0   0   0    0   0     0    0  ...      0      0      0   \n",
       "0     0   0   0   0   0   0    0   0     0    0  ...      0      0      0   \n",
       "0     0   0   0   0   0   0    0   0     0    0  ...      0      0      0   \n",
       "0     0   0   0   0   0   0    0   0     0    0  ...      0      0      0   \n",
       "0     0   0   0   0   0   0    0   0     0    0  ...      0      0      0   \n",
       "\n",
       "     生技月即將  分析師點名  台灣大賣超  台積電群創  線失而復得  元季增  郭英理表示  \n",
       "三大指                                                 \n",
       "0        0      0      0      0      0    0      0  \n",
       "0        0      0      0      0      0    0      0  \n",
       "0        0      0      0      0      0    0      0  \n",
       "0        0      0      0      0      0    0      0  \n",
       "1        0      0      0      0      0    0      0  \n",
       "..     ...    ...    ...    ...    ...  ...    ...  \n",
       "0        0      0      0      0      0    1      0  \n",
       "0        0      0      0      0      0    0      0  \n",
       "0        0      0      0      0      0    0      0  \n",
       "0        0      0      0      0      0    0      0  \n",
       "0        0      0      0      0      0    0      0  \n",
       "\n",
       "[3183 rows x 1399 columns]>"
      ]
     },
     "execution_count": 6,
     "metadata": {},
     "output_type": "execute_result"
    }
   ],
   "source": [
    "header = list(df.columns.values)\n",
    "df.head"
   ]
  },
  {
   "cell_type": "code",
   "execution_count": 7,
   "metadata": {
    "id": "4fn8cSH-0aiI"
   },
   "outputs": [
    {
     "name": "stdout",
     "output_type": "stream",
     "text": [
      "<class 'pandas.core.frame.DataFrame'>\n",
      "Int64Index: 3183 entries, 0 to 0\n",
      "Columns: 1399 entries, 短多 to 郭英理表示\n",
      "dtypes: int64(1399)\n",
      "memory usage: 34.0 MB\n",
      "<bound method DataFrame.info of      短多  紙類  年後  董監  盛餘  允強  造紙類  推薦  股三大指  年封關  ...  再創新高股  元創近個月  香港及陸股  \\\n",
      "三大指                                              ...                        \n",
      "0     0   0   0   0   0   0    0   0     0    0  ...      0      0      0   \n",
      "0     0   0   0   0   0   0    0   0     0    0  ...      0      0      0   \n",
      "0     1   0   1   0   0   0    0   0     0    0  ...      0      0      0   \n",
      "0     0   0   0   0   0   0    0   1     0    0  ...      0      0      0   \n",
      "1     0   0   0   0   0   0    0   0     1    0  ...      0      0      0   \n",
      "..   ..  ..  ..  ..  ..  ..  ...  ..   ...  ...  ...    ...    ...    ...   \n",
      "0     0   0   0   0   0   0    0   0     0    0  ...      0      0      0   \n",
      "0     0   0   0   0   0   0    0   0     0    0  ...      0      0      0   \n",
      "0     0   0   0   0   0   0    0   0     0    0  ...      0      0      0   \n",
      "0     0   0   0   0   0   0    0   0     0    0  ...      0      0      0   \n",
      "0     0   0   0   0   0   0    0   0     0    0  ...      0      0      0   \n",
      "\n",
      "     生技月即將  分析師點名  台灣大賣超  台積電群創  線失而復得  元季增  郭英理表示  \n",
      "三大指                                                 \n",
      "0        0      0      0      0      0    0      0  \n",
      "0        0      0      0      0      0    0      0  \n",
      "0        0      0      0      0      0    0      0  \n",
      "0        0      0      0      0      0    0      0  \n",
      "1        0      0      0      0      0    0      0  \n",
      "..     ...    ...    ...    ...    ...  ...    ...  \n",
      "0        0      0      0      0      0    1      0  \n",
      "0        0      0      0      0      0    0      0  \n",
      "0        0      0      0      0      0    0      0  \n",
      "0        0      0      0      0      0    0      0  \n",
      "0        0      0      0      0      0    0      0  \n",
      "\n",
      "[3183 rows x 1399 columns]>\n"
     ]
    }
   ],
   "source": [
    "df.info()\n",
    "print(df.info)"
   ]
  },
  {
   "cell_type": "markdown",
   "metadata": {
    "id": "It1-zVE74w3O"
   },
   "source": [
    "資料準備"
   ]
  },
  {
   "cell_type": "code",
   "execution_count": 8,
   "metadata": {
    "id": "Y_82sEov4yYu"
   },
   "outputs": [],
   "source": [
    "#轉成data frame來做操作 -> 我沒有很懂這個\n",
    "#df = pd.DataFrame(cancer['data'],columns=cancer['feature_names'])\n",
    "#df.info()"
   ]
  },
  {
   "cell_type": "code",
   "execution_count": 9,
   "metadata": {},
   "outputs": [
    {
     "data": {
      "text/plain": [
       "array([[0, 0, 0, ..., 0, 0, 0],\n",
       "       [0, 0, 0, ..., 0, 0, 0],\n",
       "       [1, 0, 1, ..., 0, 0, 0],\n",
       "       ...,\n",
       "       [0, 0, 0, ..., 0, 0, 0],\n",
       "       [0, 0, 0, ..., 0, 0, 0],\n",
       "       [0, 0, 0, ..., 0, 0, 0]])"
      ]
     },
     "execution_count": 9,
     "metadata": {},
     "output_type": "execute_result"
    }
   ],
   "source": [
    "df.values"
   ]
  },
  {
   "cell_type": "code",
   "execution_count": 10,
   "metadata": {},
   "outputs": [
    {
     "data": {
      "text/plain": [
       "array([[0, 0, 0, ..., 0, 0, 0],\n",
       "       [0, 0, 0, ..., 0, 0, 0],\n",
       "       [1, 0, 1, ..., 0, 0, 0],\n",
       "       ...,\n",
       "       [0, 0, 0, ..., 0, 0, 0],\n",
       "       [0, 0, 0, ..., 0, 0, 0],\n",
       "       [0, 0, 0, ..., 0, 0, 0]])"
      ]
     },
     "execution_count": 10,
     "metadata": {},
     "output_type": "execute_result"
    }
   ],
   "source": [
    "x = df.values\n",
    "x"
   ]
  },
  {
   "cell_type": "code",
   "execution_count": 11,
   "metadata": {},
   "outputs": [],
   "source": [
    "target_list = []\n",
    "for i in range(3183):\n",
    "    if i <= 1692:\n",
    "        target_list.append(1)\n",
    "    else:\n",
    "        target_list.append(0)"
   ]
  },
  {
   "cell_type": "code",
   "execution_count": 12,
   "metadata": {},
   "outputs": [
    {
     "data": {
      "text/plain": [
       "array([1, 1, 1, ..., 0, 0, 0])"
      ]
     },
     "execution_count": 12,
     "metadata": {},
     "output_type": "execute_result"
    }
   ],
   "source": [
    "y = np.array(target_list)\n",
    "y"
   ]
  },
  {
   "cell_type": "code",
   "execution_count": 13,
   "metadata": {},
   "outputs": [
    {
     "data": {
      "text/plain": [
       "array(['POS', 'NEG'], dtype='<U3')"
      ]
     },
     "execution_count": 13,
     "metadata": {},
     "output_type": "execute_result"
    }
   ],
   "source": [
    "name = [\"POS\", \"NEG\"]\n",
    "target_name = np.array(name)\n",
    "target_name"
   ]
  },
  {
   "cell_type": "markdown",
   "metadata": {
    "id": "FkAkGIj9zaA4"
   },
   "source": [
    "將資料區分為訓練集與測試集(80% / 20%)"
   ]
  },
  {
   "cell_type": "code",
   "execution_count": 14,
   "metadata": {
    "id": "9ynaFN-Syuae"
   },
   "outputs": [],
   "source": [
    "x = df.values \n",
    "y = np.array(target_list)"
   ]
  },
  {
   "cell_type": "code",
   "execution_count": 27,
   "metadata": {},
   "outputs": [
    {
     "name": "stdout",
     "output_type": "stream",
     "text": [
      "max_training_set_score: 0.8782403770620582\n",
      "max_test_set_score: 0.7080062794348508\n",
      "[[208 104]\n",
      " [ 82 243]]\n"
     ]
    },
    {
     "data": {
      "text/plain": [
       "Text(91.68, 0.5, 'predicted label')"
      ]
     },
     "execution_count": 27,
     "metadata": {},
     "output_type": "execute_result"
    },
    {
     "data": {
      "image/png": "[encoded data removed]",
      "text/plain": [
       "<Figure size 432x288 with 1 Axes>"
      ]
     },
     "metadata": {
      "needs_background": "light"
     },
     "output_type": "display_data"
    }
   ],
   "source": [
    "from sklearn.metrics import classification_report,confusion_matrix #載入classification report & confusion matrix\n",
    "# 跑迴圈數次，看最大可以跑多少\n",
    "Training_Set_Score = []\n",
    "Test_Set_Score = []\n",
    "Confusion_Matrix = []\n",
    "max_training_set_score = float()\n",
    "max_test_set_score = float()\n",
    "max_confusion_matrix = []\n",
    "\n",
    "for i in range(20):\n",
    "    X_train, X_test, y_train, y_test = train_test_split(x, y, test_size=0.2)  # 套件功能把資料打散分為訓練集跟測試集\n",
    "    \n",
    "    from sklearn import svm #使用svm演算法\n",
    "    from sklearn.svm import SVC\n",
    "    #svm = svm.SVC(kernel = 'linear', C = 10, gamma = 0.001)\n",
    "    svm = svm.SVC(kernel = 'linear', C = 1, gamma = 'auto')\n",
    "    svm.fit(X_train,y_train)\n",
    "    pred = svm.predict(X_test) #預測\n",
    "        \n",
    "    # 記錄每次的結果,可以print出來看\n",
    "    #Training_Set_Score.append(modelm.score(X_train,y_train))\n",
    "    #Test_Set_Score.append(modelm.score(X_test,y_test))\n",
    "    #Confusion_Matrix.append(confusion_matrix(y_test, labels))\n",
    "    \n",
    "    test_set_score = svm.score(X_test,y_test)\n",
    "    if test_set_score > max_test_set_score:\n",
    "        max_test_set_score = test_set_score\n",
    "        max_training_set_score = svm.score(X_train,y_train)\n",
    "        max_confusion_matrix = confusion_matrix(y_test, pred)\n",
    "    \n",
    "\n",
    "#print(Training_Set_Score)\n",
    "#print(Test_Set_Score)\n",
    "#print(Confusion_Matrix)\n",
    "\n",
    "print('max_training_set_score:',max_training_set_score)\n",
    "print('max_test_set_score:',max_test_set_score)\n",
    "print(max_confusion_matrix)\n",
    "\n",
    "from sklearn.metrics import confusion_matrix\n",
    "mat = confusion_matrix(y_test, pred)\n",
    "sns.heatmap(mat.T, square=True, annot=True, fmt='d', cbar=False,\n",
    "            xticklabels=target_name, yticklabels=target_name)\n",
    "plt.xlabel('true label')\n",
    "plt.ylabel('predicted label')"
   ]
  },
  {
   "cell_type": "code",
   "execution_count": 26,
   "metadata": {
    "id": "qdAm7haxwl3F"
   },
   "outputs": [],
   "source": [
    "X_train, X_test, y_train, y_test = train_test_split(x, y, test_size=0.2)"
   ]
  },
  {
   "cell_type": "markdown",
   "metadata": {
    "id": "GpswDvoO6ZDm"
   },
   "source": [
    "模型建立"
   ]
  },
  {
   "cell_type": "code",
   "execution_count": 56,
   "metadata": {
    "id": "E-y8azZZF4I2"
   },
   "outputs": [],
   "source": [
    "from sklearn import svm #使用svm演算法\n",
    "from sklearn.svm import SVC\n",
    "#載入Support Vector Classifier套件\n",
    "#如果是連續型的資料，可以採用svm.SVR(Support Vector Regression)\n",
    "#線性還有一種svm.LinearSVC (Linear Support Vector Classification)，其中演算法跟採用svm.SVC(kernel=’linear’)是不一樣的\n",
    "#樣本非常龐大時，用svm.LinearSVC的運算速度會比較快\n",
    "#針對連續型資料同樣可以採用svm.LinearSVR (Linear Support Vector Regression)\n",
    "\n",
    "#svm = svm.SVC(kernel = 'linear', C = 1, gamma = 'auto')\n",
    "svm = svm.SVC(kernel = 'linear', C = 10, gamma = 0.001)\n",
    "\n",
    "#核函數 kernel: 可以選擇各式各樣的核函數，包含 linear（線性）、poly（多項式）、rbf（高斯）、sigmoid等等，也可以自訂，以符合資料的需求\n",
    "#C為懲罰係數，愈大代表錯誤的容忍程度愈低，在訓練集樣本中會區分的愈精細，因此設定太大容易造成過度擬和的問題。反之，設定太小則會造成低度擬合的問題。若沒設定，模型中預設為1\n",
    "#參數gamma決定支援向量的多寡，並影響訓練速度與預測速度 。此參數有兩個自動運算選擇，分別為’scale’與’auto’，或是也可以直接指定數值，未設定下預設為’scale’\n"
   ]
  },
  {
   "cell_type": "code",
   "execution_count": 57,
   "metadata": {
    "id": "iVYEEqdII2Ka"
   },
   "outputs": [],
   "source": [
    "#使用Support Vector Classifier來建立模型\n",
    "svm.fit(X_train,y_train)\n",
    "pred = svm.predict(X_test) #預測"
   ]
  },
  {
   "cell_type": "code",
   "execution_count": 58,
   "metadata": {},
   "outputs": [
    {
     "data": {
      "text/plain": [
       "SVC(C=10, gamma=0.001, kernel='linear')"
      ]
     },
     "execution_count": 58,
     "metadata": {},
     "output_type": "execute_result"
    }
   ],
   "source": [
    "svm"
   ]
  },
  {
   "cell_type": "code",
   "execution_count": 59,
   "metadata": {
    "id": "KYTJxuX7-p85"
   },
   "outputs": [
    {
     "name": "stdout",
     "output_type": "stream",
     "text": [
      "0.9933228593872742\n",
      "0.6373626373626373\n"
     ]
    }
   ],
   "source": [
    "#準確度評估\n",
    "print(svm.score(X_train,y_train))\n",
    "print(svm.score(X_test, y_test))"
   ]
  },
  {
   "cell_type": "markdown",
   "metadata": {
    "id": "Z2Ik02kY-777"
   },
   "source": [
    "測試SVM演算法的好壞"
   ]
  },
  {
   "cell_type": "code",
   "execution_count": 38,
   "metadata": {
    "id": "cAv1ifTy9knJ"
   },
   "outputs": [
    {
     "name": "stdout",
     "output_type": "stream",
     "text": [
      "[[183 106]\n",
      " [128 220]]\n",
      "\n",
      "\n"
     ]
    }
   ],
   "source": [
    "from sklearn.metrics import classification_report,confusion_matrix #載入classification report & confusion matrix\n",
    "print(confusion_matrix(y_test,pred))\n",
    "print('\\n')"
   ]
  },
  {
   "cell_type": "code",
   "execution_count": 39,
   "metadata": {},
   "outputs": [
    {
     "data": {
      "text/plain": [
       "Text(91.68, 0.5, 'predicted label')"
      ]
     },
     "execution_count": 39,
     "metadata": {},
     "output_type": "execute_result"
    },
    {
     "data": {
      "image/png": "[encoded data removed]",
      "text/plain": [
       "<Figure size 432x288 with 1 Axes>"
      ]
     },
     "metadata": {
      "needs_background": "light"
     },
     "output_type": "display_data"
    }
   ],
   "source": [
    "from sklearn.metrics import confusion_matrix\n",
    "mat = confusion_matrix(y_test, pred)\n",
    "sns.heatmap(mat.T, square=True, annot=True, fmt='d', cbar=False,\n",
    "            xticklabels=target_name, yticklabels=target_name)\n",
    "plt.xlabel('true label')\n",
    "plt.ylabel('predicted label')"
   ]
  },
  {
   "cell_type": "code",
   "execution_count": 26,
   "metadata": {
    "id": "WsiBBqmP-KCM"
   },
   "outputs": [
    {
     "name": "stdout",
     "output_type": "stream",
     "text": [
      "              precision    recall  f1-score   support\n",
      "\n",
      "           0       0.60      0.63      0.61       287\n",
      "           1       0.68      0.66      0.67       350\n",
      "\n",
      "    accuracy                           0.65       637\n",
      "   macro avg       0.64      0.64      0.64       637\n",
      "weighted avg       0.65      0.65      0.65       637\n",
      "\n"
     ]
    }
   ],
   "source": [
    "print(classification_report(y_test,pred))"
   ]
  },
  {
   "cell_type": "code",
   "execution_count": 112,
   "metadata": {
    "id": "taI48WlJOCaK"
   },
   "outputs": [],
   "source": [
    "#看結果，如果分類結果都只出現在特定的類別，就要修正模型。model.fit(X_train,y_train)輸出結果中有看到有許多參數可以修改，像是C及gamma值。\n",
    "#由於要選到適合的C值及gamma值，有好幾種排列組合，這時候就可以使用格狀組合的參數來找到最佳結果的Gridsearch。"
   ]
  },
  {
   "cell_type": "markdown",
   "metadata": {
    "id": "xSA64BSI_U4v"
   },
   "source": [
    "額外補充 - GridSearch"
   ]
  },
  {
   "cell_type": "code",
   "execution_count": 113,
   "metadata": {
    "id": "GtqBbWPFOuYo"
   },
   "outputs": [],
   "source": [
    "#載入GridSearchCV\n",
    "from sklearn.model_selection import GridSearchCV"
   ]
  },
  {
   "cell_type": "code",
   "execution_count": 114,
   "metadata": {
    "id": "GEfCmdAiO0Fk"
   },
   "outputs": [],
   "source": [
    "param_grid = {'C':[0.1,1,10,100,1000],'gamma':[1,0.1,0.01,0.001,0.0001]}"
   ]
  },
  {
   "cell_type": "code",
   "execution_count": 115,
   "metadata": {
    "id": "vnLNwpAlO51F"
   },
   "outputs": [],
   "source": [
    "#GridSearchCV算是一個meta-estimator，參數中帶有estimator，像是SVC。重點是會創造一個新的estimator，但又表現得一模一樣，也就是estimator=SVC時，就是作為分類器\n",
    "grid = GridSearchCV(SVC(),param_grid,verbose=3)\n",
    "#Verbose可設定為任一整數，它只是代表數字越高，文字解釋越多"
   ]
  },
  {
   "cell_type": "code",
   "execution_count": 116,
   "metadata": {
    "id": "ZExkM6OqPD-6"
   },
   "outputs": [
    {
     "name": "stdout",
     "output_type": "stream",
     "text": [
      "Fitting 5 folds for each of 25 candidates, totalling 125 fits\n",
      "[CV 1/5] END .................................C=0.1, gamma=1; total time=  16.3s\n",
      "[CV 2/5] END .................................C=0.1, gamma=1; total time=  16.5s\n",
      "[CV 3/5] END .................................C=0.1, gamma=1; total time=  16.0s\n",
      "[CV 4/5] END .................................C=0.1, gamma=1; total time=  16.2s\n",
      "[CV 5/5] END .................................C=0.1, gamma=1; total time=  16.0s\n",
      "[CV 1/5] END ...............................C=0.1, gamma=0.1; total time=  16.9s\n",
      "[CV 2/5] END ...............................C=0.1, gamma=0.1; total time=  24.0s\n",
      "[CV 3/5] END ...............................C=0.1, gamma=0.1; total time=  16.9s\n",
      "[CV 4/5] END ...............................C=0.1, gamma=0.1; total time=  15.8s\n",
      "[CV 5/5] END ...............................C=0.1, gamma=0.1; total time=  15.5s\n",
      "[CV 1/5] END ..............................C=0.1, gamma=0.01; total time=  16.5s\n",
      "[CV 2/5] END ..............................C=0.1, gamma=0.01; total time=  16.0s\n",
      "[CV 3/5] END ..............................C=0.1, gamma=0.01; total time=  15.7s\n",
      "[CV 4/5] END ..............................C=0.1, gamma=0.01; total time=  15.0s\n",
      "[CV 5/5] END ..............................C=0.1, gamma=0.01; total time=  15.1s\n",
      "[CV 1/5] END .............................C=0.1, gamma=0.001; total time=  15.7s\n",
      "[CV 2/5] END .............................C=0.1, gamma=0.001; total time=  15.3s\n",
      "[CV 3/5] END .............................C=0.1, gamma=0.001; total time=  15.1s\n",
      "[CV 4/5] END .............................C=0.1, gamma=0.001; total time=  17.1s\n",
      "[CV 5/5] END .............................C=0.1, gamma=0.001; total time=  15.8s\n",
      "[CV 1/5] END ............................C=0.1, gamma=0.0001; total time=  15.2s\n",
      "[CV 2/5] END ............................C=0.1, gamma=0.0001; total time=  15.2s\n",
      "[CV 3/5] END ............................C=0.1, gamma=0.0001; total time=  18.2s\n",
      "[CV 4/5] END ............................C=0.1, gamma=0.0001; total time=  15.8s\n",
      "[CV 5/5] END ............................C=0.1, gamma=0.0001; total time=  15.2s\n",
      "[CV 1/5] END ...................................C=1, gamma=1; total time=  15.9s\n",
      "[CV 2/5] END ...................................C=1, gamma=1; total time=  19.6s\n",
      "[CV 3/5] END ...................................C=1, gamma=1; total time=  17.7s\n",
      "[CV 4/5] END ...................................C=1, gamma=1; total time=  17.3s\n",
      "[CV 5/5] END ...................................C=1, gamma=1; total time=  17.6s\n",
      "[CV 1/5] END .................................C=1, gamma=0.1; total time=  15.3s\n",
      "[CV 2/5] END .................................C=1, gamma=0.1; total time=  15.6s\n",
      "[CV 3/5] END .................................C=1, gamma=0.1; total time=  15.6s\n",
      "[CV 4/5] END .................................C=1, gamma=0.1; total time=  17.7s\n",
      "[CV 5/5] END .................................C=1, gamma=0.1; total time=  19.4s\n",
      "[CV 1/5] END ................................C=1, gamma=0.01; total time=  14.8s\n",
      "[CV 2/5] END ................................C=1, gamma=0.01; total time=  21.9s\n",
      "[CV 3/5] END ................................C=1, gamma=0.01; total time=  17.2s\n",
      "[CV 4/5] END ................................C=1, gamma=0.01; total time=  16.2s\n",
      "[CV 5/5] END ................................C=1, gamma=0.01; total time=  15.4s\n",
      "[CV 1/5] END ...............................C=1, gamma=0.001; total time=  15.6s\n",
      "[CV 2/5] END ...............................C=1, gamma=0.001; total time=  15.6s\n",
      "[CV 3/5] END ...............................C=1, gamma=0.001; total time=  15.3s\n",
      "[CV 4/5] END ...............................C=1, gamma=0.001; total time=  15.8s\n",
      "[CV 5/5] END ...............................C=1, gamma=0.001; total time=  15.4s\n",
      "[CV 1/5] END ..............................C=1, gamma=0.0001; total time=  15.4s\n",
      "[CV 2/5] END ..............................C=1, gamma=0.0001; total time=  15.2s\n",
      "[CV 3/5] END ..............................C=1, gamma=0.0001; total time=  14.9s\n",
      "[CV 4/5] END ..............................C=1, gamma=0.0001; total time=  15.8s\n",
      "[CV 5/5] END ..............................C=1, gamma=0.0001; total time=  15.5s\n",
      "[CV 1/5] END ..................................C=10, gamma=1; total time=  15.0s\n",
      "[CV 2/5] END ..................................C=10, gamma=1; total time=  19.3s\n",
      "[CV 3/5] END ..................................C=10, gamma=1; total time=  17.8s\n",
      "[CV 4/5] END ..................................C=10, gamma=1; total time=  18.5s\n",
      "[CV 5/5] END ..................................C=10, gamma=1; total time=  16.5s\n",
      "[CV 1/5] END ................................C=10, gamma=0.1; total time=  16.0s\n",
      "[CV 2/5] END ................................C=10, gamma=0.1; total time=  15.0s\n",
      "[CV 3/5] END ................................C=10, gamma=0.1; total time=  16.5s\n",
      "[CV 4/5] END ................................C=10, gamma=0.1; total time=  19.0s\n",
      "[CV 5/5] END ................................C=10, gamma=0.1; total time=74.2min\n",
      "[CV 1/5] END ...............................C=10, gamma=0.01; total time=  31.3s\n",
      "[CV 2/5] END ...............................C=10, gamma=0.01; total time=  27.0s\n",
      "[CV 3/5] END ...............................C=10, gamma=0.01; total time=  30.8s\n",
      "[CV 4/5] END ...............................C=10, gamma=0.01; total time=  20.4s\n",
      "[CV 5/5] END ...............................C=10, gamma=0.01; total time=  17.1s\n",
      "[CV 1/5] END ..............................C=10, gamma=0.001; total time=  25.5s\n",
      "[CV 2/5] END ..............................C=10, gamma=0.001; total time=  21.6s\n",
      "[CV 3/5] END ..............................C=10, gamma=0.001; total time=  16.6s\n",
      "[CV 4/5] END ..............................C=10, gamma=0.001; total time=  15.8s\n",
      "[CV 5/5] END ..............................C=10, gamma=0.001; total time=  15.7s\n",
      "[CV 1/5] END .............................C=10, gamma=0.0001; total time=  17.1s\n",
      "[CV 2/5] END .............................C=10, gamma=0.0001; total time=  16.6s\n",
      "[CV 3/5] END .............................C=10, gamma=0.0001; total time=  16.5s\n",
      "[CV 4/5] END .............................C=10, gamma=0.0001; total time=  15.9s\n",
      "[CV 5/5] END .............................C=10, gamma=0.0001; total time=  15.1s\n",
      "[CV 1/5] END .................................C=100, gamma=1; total time=  15.3s\n",
      "[CV 2/5] END .................................C=100, gamma=1; total time=  15.5s\n",
      "[CV 3/5] END .................................C=100, gamma=1; total time=  15.2s\n",
      "[CV 4/5] END .................................C=100, gamma=1; total time=  15.3s\n",
      "[CV 5/5] END .................................C=100, gamma=1; total time=  15.6s\n",
      "[CV 1/5] END ...............................C=100, gamma=0.1; total time=  15.0s\n",
      "[CV 2/5] END ...............................C=100, gamma=0.1; total time=  15.2s\n",
      "[CV 3/5] END ...............................C=100, gamma=0.1; total time=  16.3s\n",
      "[CV 4/5] END ...............................C=100, gamma=0.1; total time=  15.4s\n",
      "[CV 5/5] END ...............................C=100, gamma=0.1; total time=  14.9s\n",
      "[CV 1/5] END ..............................C=100, gamma=0.01; total time=  13.8s\n",
      "[CV 2/5] END ..............................C=100, gamma=0.01; total time=  13.8s\n",
      "[CV 3/5] END ..............................C=100, gamma=0.01; total time=  13.5s\n",
      "[CV 4/5] END ..............................C=100, gamma=0.01; total time=  14.2s\n",
      "[CV 5/5] END ..............................C=100, gamma=0.01; total time=  13.5s\n",
      "[CV 1/5] END .............................C=100, gamma=0.001; total time=  11.9s\n",
      "[CV 2/5] END .............................C=100, gamma=0.001; total time=  12.1s\n",
      "[CV 3/5] END .............................C=100, gamma=0.001; total time=  12.0s\n",
      "[CV 4/5] END .............................C=100, gamma=0.001; total time=  11.8s\n",
      "[CV 5/5] END .............................C=100, gamma=0.001; total time=  12.0s\n",
      "[CV 1/5] END ............................C=100, gamma=0.0001; total time=  13.5s\n",
      "[CV 2/5] END ............................C=100, gamma=0.0001; total time=  13.4s\n",
      "[CV 3/5] END ............................C=100, gamma=0.0001; total time=  13.5s\n",
      "[CV 4/5] END ............................C=100, gamma=0.0001; total time=  15.5s\n",
      "[CV 5/5] END ............................C=100, gamma=0.0001; total time=  18.6s\n",
      "[CV 1/5] END ................................C=1000, gamma=1; total time=  16.7s\n"
     ]
    },
    {
     "name": "stdout",
     "output_type": "stream",
     "text": [
      "[CV 2/5] END ................................C=1000, gamma=1; total time=  15.1s\n",
      "[CV 3/5] END ................................C=1000, gamma=1; total time=  16.3s\n",
      "[CV 4/5] END ................................C=1000, gamma=1; total time=  15.3s\n",
      "[CV 5/5] END ................................C=1000, gamma=1; total time=  15.1s\n",
      "[CV 1/5] END ..............................C=1000, gamma=0.1; total time=  14.7s\n",
      "[CV 2/5] END ..............................C=1000, gamma=0.1; total time=  15.1s\n",
      "[CV 3/5] END ..............................C=1000, gamma=0.1; total time=  14.9s\n",
      "[CV 4/5] END ..............................C=1000, gamma=0.1; total time=  14.7s\n",
      "[CV 5/5] END ..............................C=1000, gamma=0.1; total time=  14.7s\n",
      "[CV 1/5] END .............................C=1000, gamma=0.01; total time=  13.4s\n",
      "[CV 2/5] END .............................C=1000, gamma=0.01; total time=  13.3s\n",
      "[CV 3/5] END .............................C=1000, gamma=0.01; total time=  15.8s\n",
      "[CV 4/5] END .............................C=1000, gamma=0.01; total time=  14.1s\n",
      "[CV 5/5] END .............................C=1000, gamma=0.01; total time=  13.5s\n",
      "[CV 1/5] END ............................C=1000, gamma=0.001; total time=  13.3s\n",
      "[CV 2/5] END ............................C=1000, gamma=0.001; total time=  14.3s\n",
      "[CV 3/5] END ............................C=1000, gamma=0.001; total time=  14.7s\n",
      "[CV 4/5] END ............................C=1000, gamma=0.001; total time=  14.4s\n",
      "[CV 5/5] END ............................C=1000, gamma=0.001; total time=  14.5s\n",
      "[CV 1/5] END ...........................C=1000, gamma=0.0001; total time=  12.2s\n",
      "[CV 2/5] END ...........................C=1000, gamma=0.0001; total time=  11.3s\n",
      "[CV 3/5] END ...........................C=1000, gamma=0.0001; total time=  11.6s\n",
      "[CV 4/5] END ...........................C=1000, gamma=0.0001; total time=  11.8s\n",
      "[CV 5/5] END ...........................C=1000, gamma=0.0001; total time=  11.7s\n"
     ]
    },
    {
     "data": {
      "text/plain": [
       "GridSearchCV(estimator=SVC(),\n",
       "             param_grid={'C': [0.1, 1, 10, 100, 1000],\n",
       "                         'gamma': [1, 0.1, 0.01, 0.001, 0.0001]},\n",
       "             verbose=3)"
      ]
     },
     "execution_count": 116,
     "metadata": {},
     "output_type": "execute_result"
    }
   ],
   "source": [
    "grid.fit(X_train,y_train) #利用剛剛設定的參數來找到最適合的模型"
   ]
  },
  {
   "cell_type": "code",
   "execution_count": 117,
   "metadata": {
    "id": "c0iOjG7ZPV9a"
   },
   "outputs": [
    {
     "data": {
      "text/plain": [
       "SVC(C=10, gamma=0.001)"
      ]
     },
     "execution_count": 117,
     "metadata": {},
     "output_type": "execute_result"
    }
   ],
   "source": [
    "grid.best_estimator_ #顯示最佳estimator參數"
   ]
  },
  {
   "cell_type": "code",
   "execution_count": 118,
   "metadata": {
    "id": "fW_ud7LiPcMQ"
   },
   "outputs": [],
   "source": [
    "grid_predictions = grid.predict(X_test) #利用剛剛的最佳參考再重新預測測試組"
   ]
  },
  {
   "cell_type": "code",
   "execution_count": 119,
   "metadata": {
    "id": "sZ_hId7WPzDQ"
   },
   "outputs": [
    {
     "name": "stdout",
     "output_type": "stream",
     "text": [
      "[[231 156]\n",
      " [163 327]]\n",
      "\n",
      "\n",
      "              precision    recall  f1-score   support\n",
      "\n",
      "           0       0.59      0.60      0.59       387\n",
      "           1       0.68      0.67      0.67       490\n",
      "\n",
      "    accuracy                           0.64       877\n",
      "   macro avg       0.63      0.63      0.63       877\n",
      "weighted avg       0.64      0.64      0.64       877\n",
      "\n"
     ]
    }
   ],
   "source": [
    "#評估新參考的預測結果好壞\n",
    "print(confusion_matrix(y_test,grid_predictions))\n",
    "print('\\n')\n",
    "print(classification_report(y_test,grid_predictions))"
   ]
  },
  {
   "cell_type": "code",
   "execution_count": 120,
   "metadata": {},
   "outputs": [
    {
     "data": {
      "text/plain": [
       "Text(91.68, 0.5, 'predicted label')"
      ]
     },
     "execution_count": 120,
     "metadata": {},
     "output_type": "execute_result"
    },
    {
     "data": {
      "image/png": "[encoded data removed]",
      "text/plain": [
       "<Figure size 432x288 with 1 Axes>"
      ]
     },
     "metadata": {
      "needs_background": "light"
     },
     "output_type": "display_data"
    }
   ],
   "source": [
    "from sklearn.metrics import confusion_matrix\n",
    "mat = confusion_matrix(y_test, grid_predictions)\n",
    "sns.heatmap(mat.T, square=True, annot=True, fmt='d', cbar=False,\n",
    "            xticklabels=target_name, yticklabels=target_name)\n",
    "plt.xlabel('true label')\n",
    "plt.ylabel('predicted label')"
   ]
  },
  {
   "cell_type": "code",
   "execution_count": null,
   "metadata": {},
   "outputs": [],
   "source": []
  }
 ],
 "metadata": {
  "colab": {
   "collapsed_sections": [],
   "name": "midproject-svm.ipynb",
   "provenance": []
  },
  "kernelspec": {
   "display_name": "Python 3",
   "language": "python",
   "name": "python3"
  },
  "language_info": {
   "codemirror_mode": {
    "name": "ipython",
    "version": 3
   },
   "file_extension": ".py",
   "mimetype": "text/x-python",
   "name": "python",
   "nbconvert_exporter": "python",
   "pygments_lexer": "ipython3",
   "version": "3.9.2"
  }
 },
 "nbformat": 4,
 "nbformat_minor": 1
}
