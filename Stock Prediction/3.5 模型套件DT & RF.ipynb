{
 "cells": [
  {
   "cell_type": "code",
   "execution_count": 1,
   "id": "numeric-kennedy",
   "metadata": {},
   "outputs": [],
   "source": [
    "from sklearn.naive_bayes import GaussianNB\n",
    "from sklearn.naive_bayes import MultinomialNB\n",
    "from sklearn.naive_bayes import BernoulliNB\n",
    "from sklearn import datasets\n",
    "from sklearn.model_selection import train_test_split\n",
    "import matplotlib.pyplot as plt\n",
    "import numpy as np\n",
    "import pandas as pd\n",
    "%matplotlib inline\n",
    "import seaborn as sns; sns.set()"
   ]
  },
  {
   "cell_type": "code",
   "execution_count": 2,
   "id": "amino-financing",
   "metadata": {},
   "outputs": [],
   "source": [
    "# 導入關鍵詞向量\n",
    "keyword_vector = pd.read_csv('training_X_binary_2%_700.csv',index_col = 0)\n",
    "#keyword_vector = pd.read_csv('training_X_times_開根號.csv',index_col = 0)\n",
    "keyword_vector.values\n",
    "\n",
    "header = list(keyword_vector.columns.values)\n",
    "# print(keyword_vector.info)\n",
    "# print(header)"
   ]
  },
  {
   "cell_type": "code",
   "execution_count": 3,
   "id": "explicit-manner",
   "metadata": {},
   "outputs": [
    {
     "name": "stdout",
     "output_type": "stream",
     "text": [
      "X: [[0 0 0 ... 0 0 0]\n",
      " [0 0 0 ... 0 0 0]\n",
      " [1 0 1 ... 0 0 0]\n",
      " ...\n",
      " [0 0 0 ... 0 0 0]\n",
      " [0 0 0 ... 0 0 0]\n",
      " [0 0 0 ... 0 0 0]]\n",
      "target_name: ['POS' 'NEG']\n",
      "y: [1 1 1 ... 0 0 0]\n"
     ]
    }
   ],
   "source": [
    "# 定義好資料向量內容\n",
    "X = keyword_vector.values\n",
    "print('X:',X)\n",
    "\n",
    "\n",
    "# 定義好目標名稱: 看漲/看跌\n",
    "name = [\"POS\", \"NEG\"]\n",
    "target_name = np.array(name)\n",
    "print('target_name:',target_name)\n",
    "\n",
    "\n",
    "# 定義好目標: 看漲為1,看跌為0\n",
    "target_list = []\n",
    "for i in range(3183):  # 總共3183篇\n",
    "    if i <= 1691: # 0到1691篇是pos\n",
    "        target_list.append(1)\n",
    "    else:\n",
    "        target_list.append(0)\n",
    "y = np.array(target_list)\n",
    "print('y:',y)"
   ]
  },
  {
   "cell_type": "code",
   "execution_count": 32,
   "id": "broad-shopper",
   "metadata": {},
   "outputs": [],
   "source": [
    "# 如果要跑迴圈 這行要註解掉\n",
    "# X_train, X_test, y_train, y_test = train_test_split(X,y,test_size=0.2)  # 套件功能把資料打散分為訓練集跟測試集"
   ]
  },
  {
   "cell_type": "markdown",
   "id": "catholic-mapping",
   "metadata": {},
   "source": [
    "# 決策樹"
   ]
  },
  {
   "cell_type": "code",
   "execution_count": 5,
   "id": "surface-handling",
   "metadata": {
    "scrolled": true
   },
   "outputs": [
    {
     "name": "stdout",
     "output_type": "stream",
     "text": [
      "max_training_set_score: 0.9595443833464258\n",
      "max_test_set_score: 0.6232339089481946\n",
      "[[183 103]\n",
      " [137 214]]\n"
     ]
    }
   ],
   "source": [
    "from sklearn.tree import DecisionTreeClassifier\n",
    "from sklearn.metrics import confusion_matrix\n",
    "\n",
    "# 跑迴圈數次，看最大可以跑多少\n",
    "Training_Set_Score = []\n",
    "Test_Set_Score = []\n",
    "Confusion_Matrix = []\n",
    "max_training_set_score = float()\n",
    "max_test_set_score = float()\n",
    "max_confusion_matrix = []\n",
    "\n",
    "for i in range(50):\n",
    "    X_train, X_test, y_train, y_test = train_test_split(X,y,test_size=0.2)  # 套件功能把資料打散分為訓練集跟測試集\n",
    "    \n",
    "    dtree = DecisionTreeClassifier()\n",
    "    dtree.fit(X_train,y_train)\n",
    "    predictions = dtree.predict(X_test)\n",
    "    \n",
    "    # 多項氏貝式分類器 Multinomial Naive Bayes\n",
    "    # modelm=MultinomialNB()  # alpha預設為1\n",
    "    # modelm.fit(X_train,y_train)  # 資料集餵入模型\n",
    "    # labels=modelm.predict(X_test)  # 看測試集分類結果\n",
    "        \n",
    "    # 記錄每次的結果,可以print出來看\n",
    "    #Training_Set_Score.append(dtree.score(X_train,y_train))\n",
    "    #Test_Set_Score.append(dtree.score(X_test,y_test))\n",
    "    #Confusion_Matrix.append(confusion_matrix(y_test, predictions))\n",
    "    \n",
    "    test_set_score = dtree.score(X_test,y_test)\n",
    "    if test_set_score > max_test_set_score:\n",
    "        max_test_set_score = test_set_score\n",
    "        max_training_set_score = dtree.score(X_train,y_train)\n",
    "        max_confusion_matrix = confusion_matrix(y_test, predictions)\n",
    "    \n",
    "\n",
    "#print(Training_Set_Score)\n",
    "#print(Test_Set_Score)\n",
    "#print(Confusion_Matrix)\n",
    "\n",
    "print('max_training_set_score:',max_training_set_score)\n",
    "print('max_test_set_score:',max_test_set_score)\n",
    "print(max_confusion_matrix)"
   ]
  },
  {
   "cell_type": "code",
   "execution_count": 8,
   "id": "painful-bahrain",
   "metadata": {},
   "outputs": [],
   "source": [
    "#使用決策樹演算法\n",
    "from sklearn.tree import DecisionTreeClassifier\n",
    "dtree = DecisionTreeClassifier()\n",
    "dtree.fit(X_train,y_train)\n",
    "predictions = dtree.predict(X_test)"
   ]
  },
  {
   "cell_type": "code",
   "execution_count": 9,
   "id": "apart-relative",
   "metadata": {},
   "outputs": [
    {
     "name": "stdout",
     "output_type": "stream",
     "text": [
      "Training Set Score: 0.9968578161822467\n",
      "Test Set Score: 0.5667189952904239\n"
     ]
    }
   ],
   "source": [
    "print('Training Set Score:',dtree.score(X_train,y_train))  # 訓練集成效\n",
    "print('Test Set Score:',dtree.score(X_test,y_test))  # 測試集成效"
   ]
  },
  {
   "cell_type": "code",
   "execution_count": 11,
   "id": "wicked-answer",
   "metadata": {},
   "outputs": [
    {
     "name": "stdout",
     "output_type": "stream",
     "text": [
      "[[163 131]\n",
      " [145 198]]\n"
     ]
    }
   ],
   "source": [
    "from sklearn.metrics import confusion_matrix\n",
    "print(confusion_matrix(y_test,predictions))"
   ]
  },
  {
   "cell_type": "code",
   "execution_count": 12,
   "id": "confused-covering",
   "metadata": {},
   "outputs": [
    {
     "data": {
      "text/plain": [
       "Text(89.18, 0.5, 'predicted label')"
      ]
     },
     "execution_count": 12,
     "metadata": {},
     "output_type": "execute_result"
    },
    {
     "data": {
      "image/png": "[encoded data removed]",
      "text/plain": [
       "<Figure size 432x288 with 1 Axes>"
      ]
     },
     "metadata": {},
     "output_type": "display_data"
    }
   ],
   "source": [
    "from sklearn.metrics import confusion_matrix\n",
    "mat = confusion_matrix(y_test, predictions)\n",
    "sns.heatmap(mat.T, square=True, annot=True, fmt='d', cbar=False,\n",
    "            xticklabels=target_name, yticklabels=target_name)\n",
    "plt.xlabel('true label')\n",
    "plt.ylabel('predicted label')"
   ]
  },
  {
   "cell_type": "code",
   "execution_count": 13,
   "id": "hidden-romance",
   "metadata": {},
   "outputs": [
    {
     "name": "stdout",
     "output_type": "stream",
     "text": [
      "              precision    recall  f1-score   support\n",
      "\n",
      "           0       0.53      0.55      0.54       294\n",
      "           1       0.60      0.58      0.59       343\n",
      "\n",
      "    accuracy                           0.57       637\n",
      "   macro avg       0.57      0.57      0.57       637\n",
      "weighted avg       0.57      0.57      0.57       637\n",
      "\n"
     ]
    }
   ],
   "source": [
    "#評估決策樹模型好壞\n",
    "from sklearn.metrics import classification_report,confusion_matrix\n",
    "print(classification_report(y_test,predictions))"
   ]
  },
  {
   "cell_type": "markdown",
   "id": "automated-spencer",
   "metadata": {},
   "source": [
    "# 隨機森林"
   ]
  },
  {
   "cell_type": "code",
   "execution_count": 49,
   "id": "combined-description",
   "metadata": {},
   "outputs": [
    {
     "name": "stdout",
     "output_type": "stream",
     "text": [
      "max_training_set_score: 0.9937156323644933\n",
      "max_test_set_score: 0.6656200941915228\n",
      "[[186 118]\n",
      " [ 95 238]]\n"
     ]
    }
   ],
   "source": [
    "from sklearn.ensemble import RandomForestClassifier\n",
    "from sklearn.metrics import confusion_matrix\n",
    "\n",
    "# 跑迴圈數次，看最大可以跑多少\n",
    "Training_Set_Score = []\n",
    "Test_Set_Score = []\n",
    "Confusion_Matrix = []\n",
    "max_training_set_score = float()\n",
    "max_test_set_score = float()\n",
    "max_confusion_matrix = []\n",
    "\n",
    "for i in range(20):\n",
    "    X_train, X_test, y_train, y_test = train_test_split(X,y,test_size=0.2)  # 套件功能把資料打散分為訓練集跟測試集\n",
    "    \n",
    "    rfc = RandomForestClassifier(n_estimators=100)\n",
    "    rfc.fit(X_train,y_train)\n",
    "    rfc_pred = rfc.predict(X_test)\n",
    "  \n",
    "    # 記錄每次的結果,可以print出來看\n",
    "    #Training_Set_Score.append(rfc.score(X_train,y_train))\n",
    "    #Test_Set_Score.append(rfc.score(X_test,y_test))\n",
    "    #Confusion_Matrix.append(confusion_matrix(y_test, rfc_pred))\n",
    "    \n",
    "    test_set_score = rfc.score(X_test,y_test)\n",
    "    if test_set_score > max_test_set_score:\n",
    "        max_test_set_score = test_set_score\n",
    "        max_training_set_score = rfc.score(X_train,y_train)\n",
    "        max_confusion_matrix = confusion_matrix(y_test, rfc_pred)\n",
    "    \n",
    "\n",
    "#print(Training_Set_Score)\n",
    "#print(Test_Set_Score)\n",
    "#print(Confusion_Matrix)\n",
    "\n",
    "print('max_training_set_score:',max_training_set_score)\n",
    "print('max_test_set_score:',max_test_set_score)\n",
    "print(max_confusion_matrix)"
   ]
  },
  {
   "cell_type": "code",
   "execution_count": 14,
   "id": "infrared-riverside",
   "metadata": {},
   "outputs": [],
   "source": [
    "#使用隨機森林與決策樹做比較\n",
    "from sklearn.ensemble import RandomForestClassifier\n",
    "\n",
    "#n_estimator代表要使用多少CART樹（CART樹為使用GINI算法的決策樹）\n",
    "rfc = RandomForestClassifier(n_estimators=100)\n",
    "\n",
    "#從訓練組資料中建立隨機森林模型\n",
    "rfc.fit(X_train,y_train)\n",
    "\n",
    "#預測測試組的駝背是否發生\n",
    "rfc_pred = rfc.predict(X_test)"
   ]
  },
  {
   "cell_type": "code",
   "execution_count": 15,
   "id": "lightweight-absence",
   "metadata": {},
   "outputs": [
    {
     "name": "stdout",
     "output_type": "stream",
     "text": [
      "Training Set Score: 0.9968578161822467\n",
      "Test Set Score: 0.6232339089481946\n"
     ]
    }
   ],
   "source": [
    "print('Training Set Score:',rfc.score(X_train,y_train))  # 訓練集成效\n",
    "print('Test Set Score:',rfc.score(X_test,y_test))  # 測試集成效"
   ]
  },
  {
   "cell_type": "code",
   "execution_count": 16,
   "id": "hawaiian-representation",
   "metadata": {},
   "outputs": [
    {
     "data": {
      "text/plain": [
       "Text(89.18, 0.5, 'predicted label')"
      ]
     },
     "execution_count": 16,
     "metadata": {},
     "output_type": "execute_result"
    },
    {
     "data": {
      "image/png": "[encoded data removed]",
      "text/plain": [
       "<Figure size 432x288 with 1 Axes>"
      ]
     },
     "metadata": {},
     "output_type": "display_data"
    }
   ],
   "source": [
    "mat = confusion_matrix(y_test, rfc_pred)\n",
    "sns.heatmap(mat.T, square=True, annot=True, fmt='d', cbar=False,\n",
    "            xticklabels=target_name, yticklabels=target_name)\n",
    "plt.xlabel('true label')\n",
    "plt.ylabel('predicted label')"
   ]
  },
  {
   "cell_type": "code",
   "execution_count": 17,
   "id": "taken-score",
   "metadata": {},
   "outputs": [
    {
     "name": "stdout",
     "output_type": "stream",
     "text": [
      "              precision    recall  f1-score   support\n",
      "\n",
      "           0       0.60      0.56      0.58       294\n",
      "           1       0.64      0.68      0.66       343\n",
      "\n",
      "    accuracy                           0.62       637\n",
      "   macro avg       0.62      0.62      0.62       637\n",
      "weighted avg       0.62      0.62      0.62       637\n",
      "\n"
     ]
    }
   ],
   "source": [
    "#評估決策樹模型好壞\n",
    "from sklearn.metrics import classification_report,confusion_matrix\n",
    "print(classification_report(y_test,rfc_pred))"
   ]
  },
  {
   "cell_type": "code",
   "execution_count": null,
   "id": "welcome-stupid",
   "metadata": {},
   "outputs": [],
   "source": []
  },
  {
   "cell_type": "code",
   "execution_count": null,
   "id": "urban-assault",
   "metadata": {},
   "outputs": [],
   "source": []
  }
 ],
 "metadata": {
  "kernelspec": {
   "display_name": "Python 3",
   "language": "python",
   "name": "python3"
  },
  "language_info": {
   "codemirror_mode": {
    "name": "ipython",
    "version": 3
   },
   "file_extension": ".py",
   "mimetype": "text/x-python",
   "name": "python",
   "nbconvert_exporter": "python",
   "pygments_lexer": "ipython3",
   "version": "3.8.6"
  }
 },
 "nbformat": 4,
 "nbformat_minor": 5
}
