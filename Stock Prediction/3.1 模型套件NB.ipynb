{
 "cells": [
  {
   "cell_type": "code",
   "execution_count": 1,
   "id": "charitable-hanging",
   "metadata": {},
   "outputs": [],
   "source": [
    "from sklearn.naive_bayes import GaussianNB\n",
    "from sklearn.naive_bayes import MultinomialNB\n",
    "from sklearn.naive_bayes import BernoulliNB\n",
    "from sklearn import datasets\n",
    "from sklearn.model_selection import train_test_split\n",
    "import matplotlib.pyplot as plt\n",
    "import numpy as np\n",
    "import pandas as pd\n",
    "%matplotlib inline\n",
    "import seaborn as sns; sns.set()"
   ]
  },
  {
   "cell_type": "code",
   "execution_count": 5,
   "id": "parliamentary-algorithm",
   "metadata": {},
   "outputs": [
    {
     "name": "stdout",
     "output_type": "stream",
     "text": [
      "[[0 0 0 ... 0 0 0]\n",
      " [0 0 0 ... 0 0 0]\n",
      " [1 0 1 ... 0 0 0]\n",
      " ...\n",
      " [0 0 0 ... 0 0 0]\n",
      " [0 0 0 ... 0 0 0]\n",
      " [0 0 0 ... 0 0 0]]\n"
     ]
    }
   ],
   "source": [
    "# 導入關鍵詞向量\n",
    "keyword_vector = pd.read_csv('training_X_binary_2%_700.csv',index_col = 0)\n",
    "#keyword_vector = pd.read_csv('training_X_times_開根號.csv',index_col = 0)\n",
    "print(keyword_vector.values)\n",
    "\n",
    "header = list(keyword_vector.columns.values)\n",
    "# print(keyword_vector.info)\n",
    "# print(header)"
   ]
  },
  {
   "cell_type": "code",
   "execution_count": 11,
   "id": "solved-auckland",
   "metadata": {
    "scrolled": false
   },
   "outputs": [
    {
     "name": "stdout",
     "output_type": "stream",
     "text": [
      "X: [[0 0 0 ... 0 0 0]\n",
      " [0 0 0 ... 0 0 0]\n",
      " [1 0 1 ... 0 0 0]\n",
      " ...\n",
      " [0 0 0 ... 0 0 0]\n",
      " [0 0 0 ... 0 0 0]\n",
      " [0 0 0 ... 0 0 0]]\n",
      "target_name: ['POS' 'NEG']\n",
      "y: [ 1  1  1 ... -1 -1 -1]\n",
      "      y\n",
      "0     1\n",
      "1     1\n",
      "2     1\n",
      "3     1\n",
      "4     1\n",
      "...  ..\n",
      "3178 -1\n",
      "3179 -1\n",
      "3180 -1\n",
      "3181 -1\n",
      "3182 -1\n",
      "\n",
      "[3183 rows x 1 columns]\n"
     ]
    }
   ],
   "source": [
    "# 定義好資料向量內容\n",
    "X = keyword_vector.values\n",
    "print('X:',X)\n",
    "\n",
    "\n",
    "# 定義好目標名稱: 看漲/看跌\n",
    "name = [\"POS\", \"NEG\"]\n",
    "target_name = np.array(name)\n",
    "print('target_name:',target_name)\n",
    "\n",
    "# 導入文章漲跌篇數\n",
    "real_updown = pd.read_csv('training_Y_2%_700.csv')\n",
    "target_list = []\n",
    "\n",
    "for i in range(len(real_updown.values)):  # 總共3183篇\n",
    "    num = int(real_updown.values[i][0])\n",
    "    target_list.append(num)\n",
    "\n",
    "y = np.array(target_list)\n",
    "print('y:',y)\n",
    "print(real_updown)"
   ]
  },
  {
   "cell_type": "code",
   "execution_count": 111,
   "id": "certain-species",
   "metadata": {
    "scrolled": true
   },
   "outputs": [
    {
     "name": "stdout",
     "output_type": "stream",
     "text": [
      "max_training_set_score: 0.7545168892380204\n",
      "max_test_set_score: 0.7582417582417582\n",
      "[[233  82]\n",
      " [ 72 250]]\n"
     ]
    }
   ],
   "source": [
    "from sklearn.metrics import confusion_matrix\n",
    "\n",
    "# 跑迴圈數次，看最大可以跑多少\n",
    "Training_Set_Score = []\n",
    "Test_Set_Score = []\n",
    "Confusion_Matrix = []\n",
    "max_training_set_score = float()\n",
    "max_test_set_score = float()\n",
    "max_confusion_matrix = []\n",
    "\n",
    "for i in range(100):\n",
    "    X_train, X_test, y_train, y_test = train_test_split(X,y,test_size=0.2)  # 套件功能把資料打散分為訓練集跟測試集\n",
    "    \n",
    "    # 多項氏貝式分類器 Multinomial Naive Bayes\n",
    "    modelm=MultinomialNB()  # alpha預設為1\n",
    "    modelm.fit(X_train,y_train)  # 資料集餵入模型\n",
    "    labels=modelm.predict(X_test)  # 看測試集分類結果\n",
    "        \n",
    "    # 記錄每次的結果,可以print出來看\n",
    "    #Training_Set_Score.append(modelm.score(X_train,y_train))\n",
    "    #Test_Set_Score.append(modelm.score(X_test,y_test))\n",
    "    #Confusion_Matrix.append(confusion_matrix(y_test, labels))\n",
    "    \n",
    "    test_set_score = modelm.score(X_test,y_test)\n",
    "    if test_set_score > max_test_set_score:\n",
    "        max_test_set_score = test_set_score\n",
    "        max_training_set_score = modelm.score(X_train,y_train)\n",
    "        max_confusion_matrix = confusion_matrix(y_test, labels)\n",
    "    \n",
    "\n",
    "#print(Training_Set_Score)\n",
    "#print(Test_Set_Score)\n",
    "#print(Confusion_Matrix)\n",
    "\n",
    "print('max_training_set_score:',max_training_set_score)\n",
    "print('max_test_set_score:',max_test_set_score)\n",
    "print(max_confusion_matrix)"
   ]
  },
  {
   "cell_type": "code",
   "execution_count": 10,
   "id": "statutory-rachel",
   "metadata": {},
   "outputs": [
    {
     "name": "stdout",
     "output_type": "stream",
     "text": [
      "[ 1 -1  1 ... -1 -1  1]\n"
     ]
    }
   ],
   "source": [
    "# X是每篇文章的關鍵詞向量, y是每篇文章的實際漲跌\n",
    "# X_train第1~5月文章關鍵詞, X_test第6月文章關鍵詞, y_train第1~5月文章實際漲跌, y_test第6月文章實際漲跌\n",
    "\n",
    "X_train, X_test, y_train, y_test = train_test_split(X,y,test_size=0.2)  # 套件功能把資料打散分為訓練集跟測試集\n",
    "\n",
    "# 多項氏貝式分類器 Multinomial Naive Bayes\n",
    "modelm=MultinomialNB()  # alpha預設為1\n",
    "modelm.fit(X_train,y_train)  # 資料集餵入模型\n",
    "labels=modelm.predict(X_test)  # 看測試集分類結果\n",
    "\n",
    "print(y_train)"
   ]
  },
  {
   "cell_type": "code",
   "execution_count": 8,
   "id": "saving-williams",
   "metadata": {},
   "outputs": [
    {
     "name": "stdout",
     "output_type": "stream",
     "text": [
      "Training Set Score: 0.7647289866457188\n",
      "Test Set Score: 0.7142857142857143\n"
     ]
    }
   ],
   "source": [
    "print('Training Set Score:',modelm.score(X_train,y_train))  # 訓練集成效\n",
    "print('Test Set Score:',modelm.score(X_test,y_test))  # 測試集成效"
   ]
  },
  {
   "cell_type": "code",
   "execution_count": 114,
   "id": "efficient-brisbane",
   "metadata": {},
   "outputs": [
    {
     "name": "stdout",
     "output_type": "stream",
     "text": [
      "[[202 103]\n",
      " [ 86 246]]\n"
     ]
    }
   ],
   "source": [
    "print(confusion_matrix(y_test, labels))"
   ]
  },
  {
   "cell_type": "code",
   "execution_count": null,
   "id": "cloudy-testament",
   "metadata": {
    "scrolled": true
   },
   "outputs": [],
   "source": [
    "from sklearn.metrics import confusion_matrix\n",
    "mat = confusion_matrix(y_test, labels)\n",
    "sns.heatmap(mat.T, square=True, annot=True, fmt='d', cbar=False,\n",
    "            xticklabels=target_name, yticklabels=target_name)\n",
    "plt.xlabel('true label')\n",
    "plt.ylabel('predicted label')"
   ]
  },
  {
   "cell_type": "code",
   "execution_count": null,
   "id": "continuous-witness",
   "metadata": {},
   "outputs": [],
   "source": [
    "from sklearn.metrics import classification_report\n",
    "print(classification_report(y_test, labels))"
   ]
  },
  {
   "cell_type": "code",
   "execution_count": null,
   "id": "peaceful-shift",
   "metadata": {},
   "outputs": [],
   "source": []
  },
  {
   "cell_type": "code",
   "execution_count": null,
   "id": "cathedral-experience",
   "metadata": {},
   "outputs": [],
   "source": []
  }
 ],
 "metadata": {
  "kernelspec": {
   "display_name": "Python 3",
   "language": "python",
   "name": "python3"
  },
  "language_info": {
   "codemirror_mode": {
    "name": "ipython",
    "version": 3
   },
   "file_extension": ".py",
   "mimetype": "text/x-python",
   "name": "python",
   "nbconvert_exporter": "python",
   "pygments_lexer": "ipython3",
   "version": "3.8.6"
  }
 },
 "nbformat": 4,
 "nbformat_minor": 5
}
