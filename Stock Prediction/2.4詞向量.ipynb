{
 "cells": [
  {
   "cell_type": "code",
   "execution_count": 154,
   "metadata": {},
   "outputs": [],
   "source": [
    "import pandas as pd"
   ]
  },
  {
   "cell_type": "code",
   "execution_count": 155,
   "metadata": {},
   "outputs": [],
   "source": [
    "up_keywords = []\n",
    "with open(\"看漲-篩掉負號.TXT\",'r',encoding = 'UTF8') as file:\n",
    "    for data in file.readlines():\n",
    "        data = data.strip()\n",
    "        up_keywords.append(data)"
   ]
  },
  {
   "cell_type": "code",
   "execution_count": 156,
   "metadata": {},
   "outputs": [],
   "source": [
    "down_keywords = []\n",
    "with open(\"看跌-篩掉負號.TXT\",'r',encoding = 'UTF8') as file:\n",
    "    for data in file.readlines():\n",
    "        data = data.strip()\n",
    "        down_keywords.append(data)"
   ]
  },
  {
   "cell_type": "code",
   "execution_count": 188,
   "metadata": {},
   "outputs": [],
   "source": [
    "word_vec = up_keywords[:500] + down_keywords[:500]"
   ]
  },
  {
   "cell_type": "code",
   "execution_count": 189,
   "metadata": {},
   "outputs": [],
   "source": [
    "size = len(word_vec)"
   ]
  },
  {
   "cell_type": "code",
   "execution_count": 190,
   "metadata": {},
   "outputs": [
    {
     "data": {
      "text/plain": [
       "1000"
      ]
     },
     "execution_count": 190,
     "metadata": {},
     "output_type": "execute_result"
    }
   ],
   "source": [
    "size"
   ]
  },
  {
   "cell_type": "code",
   "execution_count": 191,
   "metadata": {},
   "outputs": [],
   "source": [
    "up_news = pd.read_csv('看漲-幅度大於2%.csv')\n",
    "down_news = pd.read_csv('看跌-幅度大於2%.csv')"
   ]
  },
  {
   "cell_type": "code",
   "execution_count": 192,
   "metadata": {},
   "outputs": [],
   "source": [
    "up_news_content = list(up_news['content'])\n",
    "down_news_content = list(down_news['content'])"
   ]
  },
  {
   "cell_type": "code",
   "execution_count": 193,
   "metadata": {},
   "outputs": [],
   "source": [
    "news = up_news_content + down_news_content"
   ]
  },
  {
   "cell_type": "code",
   "execution_count": 194,
   "metadata": {},
   "outputs": [
    {
     "data": {
      "text/plain": [
       "3183"
      ]
     },
     "execution_count": 194,
     "metadata": {},
     "output_type": "execute_result"
    }
   ],
   "source": [
    "len(news)"
   ]
  },
  {
   "cell_type": "code",
   "execution_count": 195,
   "metadata": {},
   "outputs": [],
   "source": [
    "import re"
   ]
  },
  {
   "cell_type": "code",
   "execution_count": 196,
   "metadata": {},
   "outputs": [],
   "source": [
    "def preprocess(sent): # 不切 ngram\n",
    "    sent = re.sub(r'[^\\w]',\"\",sent)\n",
    "    sent = re.sub(r'[A-Za-z0-9]',\"\",sent)\n",
    "    return sent"
   ]
  },
  {
   "cell_type": "code",
   "execution_count": 198,
   "metadata": {},
   "outputs": [
    {
     "name": "stdout",
     "output_type": "stream",
     "text": [
      "1692 1491\n",
      "3183\n"
     ]
    }
   ],
   "source": [
    "print(len(up_news), len(down_news))\n",
    "print(len(up_news) + len(down_news))"
   ]
  },
  {
   "cell_type": "code",
   "execution_count": 199,
   "metadata": {},
   "outputs": [],
   "source": [
    "news_data_binary = []\n",
    "news_data_times = []\n",
    "for index, row in up_news.iterrows():\n",
    "    text_vec = []\n",
    "    content = preprocess(row[\"title\"] + row[\"content\"])\n",
    "    \n",
    "    data_bi = {\n",
    "        'index': index,\n",
    "        'title': row['title'],\n",
    "        'content': row['content'],\n",
    "        'y': 1\n",
    "    }\n",
    "    \n",
    "    data_times = {\n",
    "        'index': index,\n",
    "        'title': row['title'],\n",
    "        'content': row['content'],\n",
    "        'y': 1\n",
    "    }\n",
    "    \n",
    "    for word in word_vec:\n",
    "        data_bi[word] = 0\n",
    "        data_times[word] = 0\n",
    "        if word in content:\n",
    "            data_times[word] = content.count(word)\n",
    "            data_bi[word] = 1\n",
    "    \n",
    "    news_data_binary.append(data_bi)\n",
    "    news_data_times.append(data_times)"
   ]
  },
  {
   "cell_type": "code",
   "execution_count": 200,
   "metadata": {},
   "outputs": [
    {
     "name": "stdout",
     "output_type": "stream",
     "text": [
      "1692 1692\n"
     ]
    }
   ],
   "source": [
    "print(len(news_data_binary), len(news_data_times))"
   ]
  },
  {
   "cell_type": "code",
   "execution_count": 201,
   "metadata": {},
   "outputs": [
    {
     "data": {
      "text/plain": [
       "1692"
      ]
     },
     "execution_count": 201,
     "metadata": {},
     "output_type": "execute_result"
    }
   ],
   "source": [
    "up_size = len(up_news)\n",
    "up_size"
   ]
  },
  {
   "cell_type": "code",
   "execution_count": 202,
   "metadata": {},
   "outputs": [],
   "source": [
    "for index, row in down_news.iterrows():\n",
    "    text_vec = []\n",
    "    content = preprocess(row[\"title\"] + row[\"content\"])\n",
    "    i = index + up_size\n",
    "    \n",
    "    data_bi = {\n",
    "        'index': i,\n",
    "        'title': row[\"title\"],\n",
    "        'content': row['content'],\n",
    "        'y': -1\n",
    "    }\n",
    "    \n",
    "    data_times = {\n",
    "        'index': i,\n",
    "        'title': row[\"title\"],\n",
    "        'content': row['content'],\n",
    "        'y': -1\n",
    "    }\n",
    "    \n",
    "    for word in word_vec:\n",
    "        data_bi[word] = 0\n",
    "        data_times[word] = 0\n",
    "        if word in content:\n",
    "            data_times[word] = content.count(word)\n",
    "            data_bi[word] = 1\n",
    "    \n",
    "    news_data_binary.append(data_bi)\n",
    "    news_data_times.append(data_times)"
   ]
  },
  {
   "cell_type": "code",
   "execution_count": 203,
   "metadata": {},
   "outputs": [
    {
     "name": "stdout",
     "output_type": "stream",
     "text": [
      "3183 3183\n"
     ]
    }
   ],
   "source": [
    "print(len(news_data_binary), len(news_data_times))"
   ]
  },
  {
   "cell_type": "code",
   "execution_count": 204,
   "metadata": {},
   "outputs": [],
   "source": [
    "binary_pd = pd.DataFrame(news_data_binary)"
   ]
  },
  {
   "cell_type": "code",
   "execution_count": 207,
   "metadata": {},
   "outputs": [],
   "source": [
    "base_data = pd.concat([\n",
    "    binary_pd['index'],\n",
    "    binary_pd['title'],\n",
    "    binary_pd['content'],\n",
    "    binary_pd['y']\n",
    "],axis=1)"
   ]
  },
  {
   "cell_type": "code",
   "execution_count": 208,
   "metadata": {},
   "outputs": [],
   "source": [
    "base_data.to_csv(r'基本資料-開根號500.csv', index = False)"
   ]
  },
  {
   "cell_type": "code",
   "execution_count": 209,
   "metadata": {},
   "outputs": [],
   "source": [
    "n = 0 - size\n",
    "X = binary_pd[binary_pd.columns[n:]]"
   ]
  },
  {
   "cell_type": "code",
   "execution_count": 210,
   "metadata": {},
   "outputs": [],
   "source": [
    "X.to_csv(r'training_X_binary-開根號500.csv', index = False)"
   ]
  },
  {
   "cell_type": "code",
   "execution_count": 211,
   "metadata": {},
   "outputs": [],
   "source": [
    "binary_pd['y'].to_csv(r'training_Y-開根號500.csv', index = False)"
   ]
  },
  {
   "cell_type": "code",
   "execution_count": 212,
   "metadata": {},
   "outputs": [],
   "source": [
    "times_pd = pd.DataFrame(news_data_times)"
   ]
  },
  {
   "cell_type": "code",
   "execution_count": 213,
   "metadata": {},
   "outputs": [
    {
     "data": {
      "text/plain": [
       "index                                                      1\n",
       "title                             《外資》外資挺大立光：蘋果扶植Kantatsu非入股\n",
       "content    受到台股重挫拖累，大立光 (3008) 今天早盤股價跌幅逾5.5%，針對市場再將去年第4季已...\n",
       "y                                                          1\n",
       "不適用                                                        0\n",
       "                                 ...                        \n",
       "類股全面                                                       0\n",
       "大指數漲跌互                                                     0\n",
       "利空消息                                                       0\n",
       "擴大至                                                        0\n",
       "連紅台股今                                                      0\n",
       "Name: 1, Length: 1004, dtype: object"
      ]
     },
     "execution_count": 213,
     "metadata": {},
     "output_type": "execute_result"
    }
   ],
   "source": [
    "times_pd.loc[1]"
   ]
  },
  {
   "cell_type": "code",
   "execution_count": 214,
   "metadata": {},
   "outputs": [],
   "source": [
    "X = times_pd[times_pd.columns[n:]]"
   ]
  },
  {
   "cell_type": "code",
   "execution_count": 215,
   "metadata": {},
   "outputs": [],
   "source": [
    "X.to_csv(r'training_X_times-開根號500.csv', index = False)"
   ]
  }
 ],
 "metadata": {
  "kernelspec": {
   "display_name": "Python 3",
   "language": "python",
   "name": "python3"
  },
  "language_info": {
   "codemirror_mode": {
    "name": "ipython",
    "version": 3
   },
   "file_extension": ".py",
   "mimetype": "text/x-python",
   "name": "python",
   "nbconvert_exporter": "python",
   "pygments_lexer": "ipython3",
   "version": "3.7.1"
  }
 },
 "nbformat": 4,
 "nbformat_minor": 4
}
