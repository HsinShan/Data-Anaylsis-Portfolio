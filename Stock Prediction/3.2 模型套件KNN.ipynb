{
 "cells": [
  {
   "cell_type": "markdown",
   "metadata": {},
   "source": [
    "# KNN"
   ]
  },
  {
   "cell_type": "markdown",
   "metadata": {
    "id": "PxOmYF0KvcAy"
   },
   "source": [
    "引入模組"
   ]
  },
  {
   "cell_type": "code",
   "execution_count": 3,
   "metadata": {
    "id": "XzDyCe6L_y-V"
   },
   "outputs": [],
   "source": [
    "import pandas as pd\n",
    "import re\n",
    "import numpy as np\n",
    "import seaborn as sns\n",
    "import matplotlib.pyplot as plt"
   ]
  },
  {
   "cell_type": "code",
   "execution_count": 4,
   "metadata": {
    "id": "tfr5dAIHuv2g"
   },
   "outputs": [],
   "source": [
    "from sklearn.neighbors import KNeighborsClassifier #使用KNN演算法\n",
    "from sklearn import datasets\n",
    "from sklearn.model_selection import train_test_split\n",
    "from sklearn import metrics"
   ]
  },
  {
   "cell_type": "markdown",
   "metadata": {
    "id": "4NxwxuWCvnEN"
   },
   "source": [
    "匯入資料"
   ]
  },
  {
   "cell_type": "code",
   "execution_count": 5,
   "metadata": {
    "id": "VmAl1vVM_5T_"
   },
   "outputs": [],
   "source": [
    "#from google.colab import files\n",
    "#files.upload()"
   ]
  },
  {
   "cell_type": "code",
   "execution_count": 36,
   "metadata": {
    "id": "VR-eCsW6_-92"
   },
   "outputs": [],
   "source": [
    "df = pd.read_csv('training_X_binary-2%_700詞.csv', index_col=0)\n",
    "#df = pd.read_csv('training_X_times-2%_700詞.csv', index_col=0)"
   ]
  },
  {
   "cell_type": "code",
   "execution_count": 37,
   "metadata": {
    "id": "hCDWMTUYALWi"
   },
   "outputs": [
    {
     "data": {
      "text/html": [
       "<div>\n",
       "<style scoped>\n",
       "    .dataframe tbody tr th:only-of-type {\n",
       "        vertical-align: middle;\n",
       "    }\n",
       "\n",
       "    .dataframe tbody tr th {\n",
       "        vertical-align: top;\n",
       "    }\n",
       "\n",
       "    .dataframe thead th {\n",
       "        text-align: right;\n",
       "    }\n",
       "</style>\n",
       "<table border=\"1\" class=\"dataframe\">\n",
       "  <thead>\n",
       "    <tr style=\"text-align: right;\">\n",
       "      <th></th>\n",
       "      <th>短多</th>\n",
       "      <th>紙類</th>\n",
       "      <th>年後</th>\n",
       "      <th>董監</th>\n",
       "      <th>盛餘</th>\n",
       "      <th>允強</th>\n",
       "      <th>造紙類</th>\n",
       "      <th>推薦</th>\n",
       "      <th>股三大指</th>\n",
       "      <th>年封關</th>\n",
       "      <th>...</th>\n",
       "      <th>再創新高股</th>\n",
       "      <th>元創近個月</th>\n",
       "      <th>香港及陸股</th>\n",
       "      <th>生技月即將</th>\n",
       "      <th>分析師點名</th>\n",
       "      <th>台灣大賣超</th>\n",
       "      <th>台積電群創</th>\n",
       "      <th>線失而復得</th>\n",
       "      <th>元季增</th>\n",
       "      <th>郭英理表示</th>\n",
       "    </tr>\n",
       "    <tr>\n",
       "      <th>三大指</th>\n",
       "      <th></th>\n",
       "      <th></th>\n",
       "      <th></th>\n",
       "      <th></th>\n",
       "      <th></th>\n",
       "      <th></th>\n",
       "      <th></th>\n",
       "      <th></th>\n",
       "      <th></th>\n",
       "      <th></th>\n",
       "      <th></th>\n",
       "      <th></th>\n",
       "      <th></th>\n",
       "      <th></th>\n",
       "      <th></th>\n",
       "      <th></th>\n",
       "      <th></th>\n",
       "      <th></th>\n",
       "      <th></th>\n",
       "      <th></th>\n",
       "      <th></th>\n",
       "    </tr>\n",
       "  </thead>\n",
       "  <tbody>\n",
       "    <tr>\n",
       "      <th>0</th>\n",
       "      <td>0</td>\n",
       "      <td>0</td>\n",
       "      <td>0</td>\n",
       "      <td>0</td>\n",
       "      <td>0</td>\n",
       "      <td>0</td>\n",
       "      <td>0</td>\n",
       "      <td>0</td>\n",
       "      <td>0</td>\n",
       "      <td>0</td>\n",
       "      <td>...</td>\n",
       "      <td>0</td>\n",
       "      <td>0</td>\n",
       "      <td>0</td>\n",
       "      <td>0</td>\n",
       "      <td>0</td>\n",
       "      <td>0</td>\n",
       "      <td>0</td>\n",
       "      <td>0</td>\n",
       "      <td>0</td>\n",
       "      <td>0</td>\n",
       "    </tr>\n",
       "    <tr>\n",
       "      <th>0</th>\n",
       "      <td>0</td>\n",
       "      <td>0</td>\n",
       "      <td>0</td>\n",
       "      <td>0</td>\n",
       "      <td>0</td>\n",
       "      <td>0</td>\n",
       "      <td>0</td>\n",
       "      <td>0</td>\n",
       "      <td>0</td>\n",
       "      <td>0</td>\n",
       "      <td>...</td>\n",
       "      <td>0</td>\n",
       "      <td>0</td>\n",
       "      <td>0</td>\n",
       "      <td>0</td>\n",
       "      <td>0</td>\n",
       "      <td>0</td>\n",
       "      <td>0</td>\n",
       "      <td>0</td>\n",
       "      <td>0</td>\n",
       "      <td>0</td>\n",
       "    </tr>\n",
       "    <tr>\n",
       "      <th>0</th>\n",
       "      <td>1</td>\n",
       "      <td>0</td>\n",
       "      <td>1</td>\n",
       "      <td>0</td>\n",
       "      <td>0</td>\n",
       "      <td>0</td>\n",
       "      <td>0</td>\n",
       "      <td>0</td>\n",
       "      <td>0</td>\n",
       "      <td>0</td>\n",
       "      <td>...</td>\n",
       "      <td>0</td>\n",
       "      <td>0</td>\n",
       "      <td>0</td>\n",
       "      <td>0</td>\n",
       "      <td>0</td>\n",
       "      <td>0</td>\n",
       "      <td>0</td>\n",
       "      <td>0</td>\n",
       "      <td>0</td>\n",
       "      <td>0</td>\n",
       "    </tr>\n",
       "    <tr>\n",
       "      <th>0</th>\n",
       "      <td>0</td>\n",
       "      <td>0</td>\n",
       "      <td>0</td>\n",
       "      <td>0</td>\n",
       "      <td>0</td>\n",
       "      <td>0</td>\n",
       "      <td>0</td>\n",
       "      <td>1</td>\n",
       "      <td>0</td>\n",
       "      <td>0</td>\n",
       "      <td>...</td>\n",
       "      <td>0</td>\n",
       "      <td>0</td>\n",
       "      <td>0</td>\n",
       "      <td>0</td>\n",
       "      <td>0</td>\n",
       "      <td>0</td>\n",
       "      <td>0</td>\n",
       "      <td>0</td>\n",
       "      <td>0</td>\n",
       "      <td>0</td>\n",
       "    </tr>\n",
       "    <tr>\n",
       "      <th>1</th>\n",
       "      <td>0</td>\n",
       "      <td>0</td>\n",
       "      <td>0</td>\n",
       "      <td>0</td>\n",
       "      <td>0</td>\n",
       "      <td>0</td>\n",
       "      <td>0</td>\n",
       "      <td>0</td>\n",
       "      <td>1</td>\n",
       "      <td>0</td>\n",
       "      <td>...</td>\n",
       "      <td>0</td>\n",
       "      <td>0</td>\n",
       "      <td>0</td>\n",
       "      <td>0</td>\n",
       "      <td>0</td>\n",
       "      <td>0</td>\n",
       "      <td>0</td>\n",
       "      <td>0</td>\n",
       "      <td>0</td>\n",
       "      <td>0</td>\n",
       "    </tr>\n",
       "    <tr>\n",
       "      <th>...</th>\n",
       "      <td>...</td>\n",
       "      <td>...</td>\n",
       "      <td>...</td>\n",
       "      <td>...</td>\n",
       "      <td>...</td>\n",
       "      <td>...</td>\n",
       "      <td>...</td>\n",
       "      <td>...</td>\n",
       "      <td>...</td>\n",
       "      <td>...</td>\n",
       "      <td>...</td>\n",
       "      <td>...</td>\n",
       "      <td>...</td>\n",
       "      <td>...</td>\n",
       "      <td>...</td>\n",
       "      <td>...</td>\n",
       "      <td>...</td>\n",
       "      <td>...</td>\n",
       "      <td>...</td>\n",
       "      <td>...</td>\n",
       "      <td>...</td>\n",
       "    </tr>\n",
       "    <tr>\n",
       "      <th>0</th>\n",
       "      <td>0</td>\n",
       "      <td>0</td>\n",
       "      <td>0</td>\n",
       "      <td>0</td>\n",
       "      <td>0</td>\n",
       "      <td>0</td>\n",
       "      <td>0</td>\n",
       "      <td>0</td>\n",
       "      <td>0</td>\n",
       "      <td>0</td>\n",
       "      <td>...</td>\n",
       "      <td>0</td>\n",
       "      <td>0</td>\n",
       "      <td>0</td>\n",
       "      <td>0</td>\n",
       "      <td>0</td>\n",
       "      <td>0</td>\n",
       "      <td>0</td>\n",
       "      <td>0</td>\n",
       "      <td>1</td>\n",
       "      <td>0</td>\n",
       "    </tr>\n",
       "    <tr>\n",
       "      <th>0</th>\n",
       "      <td>0</td>\n",
       "      <td>0</td>\n",
       "      <td>0</td>\n",
       "      <td>0</td>\n",
       "      <td>0</td>\n",
       "      <td>0</td>\n",
       "      <td>0</td>\n",
       "      <td>0</td>\n",
       "      <td>0</td>\n",
       "      <td>0</td>\n",
       "      <td>...</td>\n",
       "      <td>0</td>\n",
       "      <td>0</td>\n",
       "      <td>0</td>\n",
       "      <td>0</td>\n",
       "      <td>0</td>\n",
       "      <td>0</td>\n",
       "      <td>0</td>\n",
       "      <td>0</td>\n",
       "      <td>0</td>\n",
       "      <td>0</td>\n",
       "    </tr>\n",
       "    <tr>\n",
       "      <th>0</th>\n",
       "      <td>0</td>\n",
       "      <td>0</td>\n",
       "      <td>0</td>\n",
       "      <td>0</td>\n",
       "      <td>0</td>\n",
       "      <td>0</td>\n",
       "      <td>0</td>\n",
       "      <td>0</td>\n",
       "      <td>0</td>\n",
       "      <td>0</td>\n",
       "      <td>...</td>\n",
       "      <td>0</td>\n",
       "      <td>0</td>\n",
       "      <td>0</td>\n",
       "      <td>0</td>\n",
       "      <td>0</td>\n",
       "      <td>0</td>\n",
       "      <td>0</td>\n",
       "      <td>0</td>\n",
       "      <td>0</td>\n",
       "      <td>0</td>\n",
       "    </tr>\n",
       "    <tr>\n",
       "      <th>0</th>\n",
       "      <td>0</td>\n",
       "      <td>0</td>\n",
       "      <td>0</td>\n",
       "      <td>0</td>\n",
       "      <td>0</td>\n",
       "      <td>0</td>\n",
       "      <td>0</td>\n",
       "      <td>0</td>\n",
       "      <td>0</td>\n",
       "      <td>0</td>\n",
       "      <td>...</td>\n",
       "      <td>0</td>\n",
       "      <td>0</td>\n",
       "      <td>0</td>\n",
       "      <td>0</td>\n",
       "      <td>0</td>\n",
       "      <td>0</td>\n",
       "      <td>0</td>\n",
       "      <td>0</td>\n",
       "      <td>0</td>\n",
       "      <td>0</td>\n",
       "    </tr>\n",
       "    <tr>\n",
       "      <th>0</th>\n",
       "      <td>0</td>\n",
       "      <td>0</td>\n",
       "      <td>0</td>\n",
       "      <td>0</td>\n",
       "      <td>0</td>\n",
       "      <td>0</td>\n",
       "      <td>0</td>\n",
       "      <td>0</td>\n",
       "      <td>0</td>\n",
       "      <td>0</td>\n",
       "      <td>...</td>\n",
       "      <td>0</td>\n",
       "      <td>0</td>\n",
       "      <td>0</td>\n",
       "      <td>0</td>\n",
       "      <td>0</td>\n",
       "      <td>0</td>\n",
       "      <td>0</td>\n",
       "      <td>0</td>\n",
       "      <td>0</td>\n",
       "      <td>0</td>\n",
       "    </tr>\n",
       "  </tbody>\n",
       "</table>\n",
       "<p>3183 rows × 1399 columns</p>\n",
       "</div>"
      ],
      "text/plain": [
       "     短多  紙類  年後  董監  盛餘  允強  造紙類  推薦  股三大指  年封關  ...  再創新高股  元創近個月  香港及陸股  \\\n",
       "三大指                                              ...                        \n",
       "0     0   0   0   0   0   0    0   0     0    0  ...      0      0      0   \n",
       "0     0   0   0   0   0   0    0   0     0    0  ...      0      0      0   \n",
       "0     1   0   1   0   0   0    0   0     0    0  ...      0      0      0   \n",
       "0     0   0   0   0   0   0    0   1     0    0  ...      0      0      0   \n",
       "1     0   0   0   0   0   0    0   0     1    0  ...      0      0      0   \n",
       "..   ..  ..  ..  ..  ..  ..  ...  ..   ...  ...  ...    ...    ...    ...   \n",
       "0     0   0   0   0   0   0    0   0     0    0  ...      0      0      0   \n",
       "0     0   0   0   0   0   0    0   0     0    0  ...      0      0      0   \n",
       "0     0   0   0   0   0   0    0   0     0    0  ...      0      0      0   \n",
       "0     0   0   0   0   0   0    0   0     0    0  ...      0      0      0   \n",
       "0     0   0   0   0   0   0    0   0     0    0  ...      0      0      0   \n",
       "\n",
       "     生技月即將  分析師點名  台灣大賣超  台積電群創  線失而復得  元季增  郭英理表示  \n",
       "三大指                                                 \n",
       "0        0      0      0      0      0    0      0  \n",
       "0        0      0      0      0      0    0      0  \n",
       "0        0      0      0      0      0    0      0  \n",
       "0        0      0      0      0      0    0      0  \n",
       "1        0      0      0      0      0    0      0  \n",
       "..     ...    ...    ...    ...    ...  ...    ...  \n",
       "0        0      0      0      0      0    1      0  \n",
       "0        0      0      0      0      0    0      0  \n",
       "0        0      0      0      0      0    0      0  \n",
       "0        0      0      0      0      0    0      0  \n",
       "0        0      0      0      0      0    0      0  \n",
       "\n",
       "[3183 rows x 1399 columns]"
      ]
     },
     "execution_count": 37,
     "metadata": {},
     "output_type": "execute_result"
    }
   ],
   "source": [
    "df"
   ]
  },
  {
   "cell_type": "code",
   "execution_count": 38,
   "metadata": {
    "id": "wPaTFqcJz58h"
   },
   "outputs": [
    {
     "data": {
      "text/plain": [
       "<bound method NDFrame.head of      短多  紙類  年後  董監  盛餘  允強  造紙類  推薦  股三大指  年封關  ...  再創新高股  元創近個月  香港及陸股  \\\n",
       "三大指                                              ...                        \n",
       "0     0   0   0   0   0   0    0   0     0    0  ...      0      0      0   \n",
       "0     0   0   0   0   0   0    0   0     0    0  ...      0      0      0   \n",
       "0     1   0   1   0   0   0    0   0     0    0  ...      0      0      0   \n",
       "0     0   0   0   0   0   0    0   1     0    0  ...      0      0      0   \n",
       "1     0   0   0   0   0   0    0   0     1    0  ...      0      0      0   \n",
       "..   ..  ..  ..  ..  ..  ..  ...  ..   ...  ...  ...    ...    ...    ...   \n",
       "0     0   0   0   0   0   0    0   0     0    0  ...      0      0      0   \n",
       "0     0   0   0   0   0   0    0   0     0    0  ...      0      0      0   \n",
       "0     0   0   0   0   0   0    0   0     0    0  ...      0      0      0   \n",
       "0     0   0   0   0   0   0    0   0     0    0  ...      0      0      0   \n",
       "0     0   0   0   0   0   0    0   0     0    0  ...      0      0      0   \n",
       "\n",
       "     生技月即將  分析師點名  台灣大賣超  台積電群創  線失而復得  元季增  郭英理表示  \n",
       "三大指                                                 \n",
       "0        0      0      0      0      0    0      0  \n",
       "0        0      0      0      0      0    0      0  \n",
       "0        0      0      0      0      0    0      0  \n",
       "0        0      0      0      0      0    0      0  \n",
       "1        0      0      0      0      0    0      0  \n",
       "..     ...    ...    ...    ...    ...  ...    ...  \n",
       "0        0      0      0      0      0    1      0  \n",
       "0        0      0      0      0      0    0      0  \n",
       "0        0      0      0      0      0    0      0  \n",
       "0        0      0      0      0      0    0      0  \n",
       "0        0      0      0      0      0    0      0  \n",
       "\n",
       "[3183 rows x 1399 columns]>"
      ]
     },
     "execution_count": 38,
     "metadata": {},
     "output_type": "execute_result"
    }
   ],
   "source": [
    "header = list(df.columns.values)\n",
    "df.head"
   ]
  },
  {
   "cell_type": "code",
   "execution_count": 39,
   "metadata": {
    "id": "4fn8cSH-0aiI"
   },
   "outputs": [
    {
     "name": "stdout",
     "output_type": "stream",
     "text": [
      "<class 'pandas.core.frame.DataFrame'>\n",
      "Int64Index: 3183 entries, 0 to 0\n",
      "Columns: 1399 entries, 短多 to 郭英理表示\n",
      "dtypes: int64(1399)\n",
      "memory usage: 34.0 MB\n",
      "<bound method DataFrame.info of      短多  紙類  年後  董監  盛餘  允強  造紙類  推薦  股三大指  年封關  ...  再創新高股  元創近個月  香港及陸股  \\\n",
      "三大指                                              ...                        \n",
      "0     0   0   0   0   0   0    0   0     0    0  ...      0      0      0   \n",
      "0     0   0   0   0   0   0    0   0     0    0  ...      0      0      0   \n",
      "0     1   0   1   0   0   0    0   0     0    0  ...      0      0      0   \n",
      "0     0   0   0   0   0   0    0   1     0    0  ...      0      0      0   \n",
      "1     0   0   0   0   0   0    0   0     1    0  ...      0      0      0   \n",
      "..   ..  ..  ..  ..  ..  ..  ...  ..   ...  ...  ...    ...    ...    ...   \n",
      "0     0   0   0   0   0   0    0   0     0    0  ...      0      0      0   \n",
      "0     0   0   0   0   0   0    0   0     0    0  ...      0      0      0   \n",
      "0     0   0   0   0   0   0    0   0     0    0  ...      0      0      0   \n",
      "0     0   0   0   0   0   0    0   0     0    0  ...      0      0      0   \n",
      "0     0   0   0   0   0   0    0   0     0    0  ...      0      0      0   \n",
      "\n",
      "     生技月即將  分析師點名  台灣大賣超  台積電群創  線失而復得  元季增  郭英理表示  \n",
      "三大指                                                 \n",
      "0        0      0      0      0      0    0      0  \n",
      "0        0      0      0      0      0    0      0  \n",
      "0        0      0      0      0      0    0      0  \n",
      "0        0      0      0      0      0    0      0  \n",
      "1        0      0      0      0      0    0      0  \n",
      "..     ...    ...    ...    ...    ...  ...    ...  \n",
      "0        0      0      0      0      0    1      0  \n",
      "0        0      0      0      0      0    0      0  \n",
      "0        0      0      0      0      0    0      0  \n",
      "0        0      0      0      0      0    0      0  \n",
      "0        0      0      0      0      0    0      0  \n",
      "\n",
      "[3183 rows x 1399 columns]>\n"
     ]
    }
   ],
   "source": [
    "df.info()\n",
    "print(df.info)"
   ]
  },
  {
   "cell_type": "code",
   "execution_count": 40,
   "metadata": {},
   "outputs": [
    {
     "data": {
      "text/plain": [
       "array([[0, 0, 0, ..., 0, 0, 0],\n",
       "       [0, 0, 0, ..., 0, 0, 0],\n",
       "       [1, 0, 1, ..., 0, 0, 0],\n",
       "       ...,\n",
       "       [0, 0, 0, ..., 0, 0, 0],\n",
       "       [0, 0, 0, ..., 0, 0, 0],\n",
       "       [0, 0, 0, ..., 0, 0, 0]])"
      ]
     },
     "execution_count": 40,
     "metadata": {},
     "output_type": "execute_result"
    }
   ],
   "source": [
    "df.values"
   ]
  },
  {
   "cell_type": "code",
   "execution_count": 41,
   "metadata": {},
   "outputs": [
    {
     "data": {
      "text/plain": [
       "array([[0, 0, 0, ..., 0, 0, 0],\n",
       "       [0, 0, 0, ..., 0, 0, 0],\n",
       "       [1, 0, 1, ..., 0, 0, 0],\n",
       "       ...,\n",
       "       [0, 0, 0, ..., 0, 0, 0],\n",
       "       [0, 0, 0, ..., 0, 0, 0],\n",
       "       [0, 0, 0, ..., 0, 0, 0]])"
      ]
     },
     "execution_count": 41,
     "metadata": {},
     "output_type": "execute_result"
    }
   ],
   "source": [
    "x = df.values\n",
    "x"
   ]
  },
  {
   "cell_type": "code",
   "execution_count": 42,
   "metadata": {},
   "outputs": [],
   "source": [
    "target_list = []\n",
    "for i in range(3183):\n",
    "    if i <= 1692:\n",
    "        target_list.append(1)\n",
    "    else:\n",
    "        target_list.append(0)"
   ]
  },
  {
   "cell_type": "code",
   "execution_count": 43,
   "metadata": {},
   "outputs": [],
   "source": [
    "#tg = pd.read_csv('training_Y-2_1000詞.csv', index_col=0)"
   ]
  },
  {
   "cell_type": "code",
   "execution_count": 44,
   "metadata": {},
   "outputs": [
    {
     "data": {
      "text/plain": [
       "array(['POS', 'NEG'], dtype='<U3')"
      ]
     },
     "execution_count": 44,
     "metadata": {},
     "output_type": "execute_result"
    }
   ],
   "source": [
    "name = [\"POS\", \"NEG\"]\n",
    "target_name = np.array(name)\n",
    "target_name"
   ]
  },
  {
   "cell_type": "markdown",
   "metadata": {
    "id": "It1-zVE74w3O"
   },
   "source": [
    "資料準備"
   ]
  },
  {
   "cell_type": "code",
   "execution_count": 45,
   "metadata": {
    "id": "Y_82sEov4yYu"
   },
   "outputs": [],
   "source": [
    "#由於KNN分類法是藉由確認最近的觀察值來預測分類，因此變數的比例就會影響很大\n",
    "#載入標準化比例尺(StandardScaler)套件\n",
    "from sklearn.preprocessing import StandardScaler"
   ]
  },
  {
   "cell_type": "code",
   "execution_count": 46,
   "metadata": {
    "id": "NcVtzyYc40LJ"
   },
   "outputs": [],
   "source": [
    "#scaler = StandardScaler()\n",
    "#scaler.fit(df.drop('TARGET CLASS',axis=1)) #Targer class為資料中目標的那行，就是分類（0/1）？ 到時候要改\n",
    "#scaled_features = scaler.transform(df.drop('TARGET CLASS',axis=1))\n",
    "#df_feat = pd.DataFrame(scaled_features,columns=df.columns[:-1])\n",
    "#df_feat.head()"
   ]
  },
  {
   "cell_type": "markdown",
   "metadata": {
    "id": "FkAkGIj9zaA4"
   },
   "source": [
    "將資料區分為訓練集與測試集(80% / 20%)"
   ]
  },
  {
   "cell_type": "code",
   "execution_count": 47,
   "metadata": {
    "id": "9ynaFN-Syuae"
   },
   "outputs": [],
   "source": [
    "x = df.values \n",
    "y = np.array(target_list) "
   ]
  },
  {
   "cell_type": "code",
   "execution_count": 48,
   "metadata": {},
   "outputs": [],
   "source": [
    "from sklearn.metrics import classification_report,confusion_matrix #載入classification report & confusion matrix"
   ]
  },
  {
   "cell_type": "code",
   "execution_count": 70,
   "metadata": {},
   "outputs": [
    {
     "name": "stdout",
     "output_type": "stream",
     "text": [
      "max_training_set_score: 0.959937156323645\n",
      "max_test_set_score: 0.598116169544741\n",
      "[[107 181]\n",
      " [ 75 274]]\n"
     ]
    },
    {
     "data": {
      "text/plain": [
       "Text(91.68, 0.5, 'predicted label')"
      ]
     },
     "execution_count": 70,
     "metadata": {},
     "output_type": "execute_result"
    },
    {
     "data": {
      "image/png": "[encoded data removed]",
      "text/plain": [
       "<Figure size 432x288 with 1 Axes>"
      ]
     },
     "metadata": {
      "needs_background": "light"
     },
     "output_type": "display_data"
    }
   ],
   "source": [
    "# 跑迴圈數次，看最大可以跑多少\n",
    "Training_Set_Score = []\n",
    "Test_Set_Score = []\n",
    "Confusion_Matrix = []\n",
    "max_training_set_score = float()\n",
    "max_test_set_score = float()\n",
    "max_confusion_matrix = []\n",
    "\n",
    "for i in range(150):\n",
    "    X_train, X_test, y_train, y_test = train_test_split(x, y, test_size=0.2)  # 套件功能把資料打散分為訓練集跟測試集\n",
    "    \n",
    "    knn = KNeighborsClassifier(n_neighbors = 3, p = 2, weights = 'distance', algorithm = 'auto')\n",
    "    #knn = KNeighborsClassifier(n_neighbors = 3, p = 2, weights = 'uniform', algorithm = 'auto')\n",
    "    knn.fit(X_train, y_train) \n",
    "    pred = knn.predict(X_test)\n",
    "        \n",
    "    # 記錄每次的結果,可以print出來看\n",
    "    #Training_Set_Score.append(modelm.score(X_train,y_train))\n",
    "    #Test_Set_Score.append(modelm.score(X_test,y_test))\n",
    "    #Confusion_Matrix.append(confusion_matrix(y_test, labels))\n",
    "    \n",
    "    test_set_score = knn.score(X_test,y_test)\n",
    "    if test_set_score > max_test_set_score:\n",
    "        max_test_set_score = test_set_score\n",
    "        max_training_set_score = knn.score(X_train,y_train)\n",
    "        max_confusion_matrix = confusion_matrix(y_test, pred)\n",
    "    \n",
    "\n",
    "#print(Training_Set_Score)\n",
    "#print(Test_Set_Score)\n",
    "#print(Confusion_Matrix)\n",
    "\n",
    "print('max_training_set_score:',max_training_set_score)\n",
    "print('max_test_set_score:',max_test_set_score)\n",
    "print(max_confusion_matrix)\n",
    "from sklearn.metrics import confusion_matrix\n",
    "mat = confusion_matrix(y_test, pred)\n",
    "sns.heatmap(mat.T, square=True, annot=True, fmt='d', cbar=False,\n",
    "            xticklabels=target_name, yticklabels=target_name)\n",
    "plt.xlabel('true label')\n",
    "plt.ylabel('predicted label')"
   ]
  },
  {
   "cell_type": "code",
   "execution_count": 20,
   "metadata": {
    "id": "qdAm7haxwl3F"
   },
   "outputs": [],
   "source": [
    "X_train, X_test, y_train, y_test = train_test_split(x, y, test_size=0.2)"
   ]
  },
  {
   "cell_type": "markdown",
   "metadata": {
    "id": "GpswDvoO6ZDm"
   },
   "source": [
    "模型建立"
   ]
  },
  {
   "cell_type": "code",
   "execution_count": 27,
   "metadata": {
    "id": "iVYEEqdII2Ka"
   },
   "outputs": [],
   "source": [
    "knn = KNeighborsClassifier(n_neighbors = 1, p = 2, weights = 'distance', algorithm = 'auto') #從k=1開始測試\n",
    "#knn = KNeighborsClassifier(n_neighbors = 1, p = 2, weights = 'uniform', algorithm = 'auto') #從k=1開始測試\n",
    "\n",
    "#主要模型: KNeighborsClassifier\n",
    "#n_neighbors: 要取幾個鄰居: KNN的K!\n",
    "#p: 選擇距離的計算方式: 1-曼哈頓距離, 2-歐幾里德距離（一般使用）, 其他數字-明氏距離\n",
    "#weights: 投票方式為距離等權重或加權: 'uniform'-不管遠近權重都一樣，就是最普通的 KNN 算法的形式, 'distance'-權重和距離成反比，距離預測目標越近具有越高的權重, 其他-自己寫函數\n",
    "#algorithm:演算法的選擇 (計算效率的考慮): 'auto'-默認參數，自動選擇合適的方法構建模型, 'brute'-蠻力法（資料少可用） , kd_tree'-資料量大, 'ball_tree'-kd很慢可用\n",
    "\n",
    "\n",
    "knn.fit(X_train, y_train) \n",
    "pred = knn.predict(X_test) #預測"
   ]
  },
  {
   "cell_type": "code",
   "execution_count": 28,
   "metadata": {},
   "outputs": [
    {
     "data": {
      "text/plain": [
       "KNeighborsClassifier(n_neighbors=1, weights='distance')"
      ]
     },
     "execution_count": 28,
     "metadata": {},
     "output_type": "execute_result"
    }
   ],
   "source": [
    "knn"
   ]
  },
  {
   "cell_type": "code",
   "execution_count": 29,
   "metadata": {
    "id": "KYTJxuX7-p85"
   },
   "outputs": [
    {
     "name": "stdout",
     "output_type": "stream",
     "text": [
      "0.9984289080911233\n",
      "0.5368916797488226\n"
     ]
    }
   ],
   "source": [
    "#準確度評估\n",
    "print(knn.score(X_train,y_train))\n",
    "print(knn.score(X_test, y_test))"
   ]
  },
  {
   "cell_type": "markdown",
   "metadata": {
    "id": "Z2Ik02kY-777"
   },
   "source": [
    "測試KNN演算法的好壞"
   ]
  },
  {
   "cell_type": "code",
   "execution_count": 30,
   "metadata": {
    "id": "cAv1ifTy9knJ"
   },
   "outputs": [
    {
     "name": "stdout",
     "output_type": "stream",
     "text": [
      "[[ 71 235]\n",
      " [ 60 271]]\n"
     ]
    }
   ],
   "source": [
    "from sklearn.metrics import classification_report,confusion_matrix #載入classification report & confusion matrix\n",
    "print(confusion_matrix(y_test,pred))"
   ]
  },
  {
   "cell_type": "code",
   "execution_count": 31,
   "metadata": {},
   "outputs": [
    {
     "data": {
      "text/plain": [
       "Text(91.68, 0.5, 'predicted label')"
      ]
     },
     "execution_count": 31,
     "metadata": {},
     "output_type": "execute_result"
    },
    {
     "data": {
      "image/png": "[encoded data removed]",
      "text/plain": [
       "<Figure size 432x288 with 1 Axes>"
      ]
     },
     "metadata": {
      "needs_background": "light"
     },
     "output_type": "display_data"
    }
   ],
   "source": [
    "from sklearn.metrics import confusion_matrix\n",
    "mat = confusion_matrix(y_test, pred)\n",
    "sns.heatmap(mat.T, square=True, annot=True, fmt='d', cbar=False,\n",
    "            xticklabels=target_name, yticklabels=target_name)\n",
    "plt.xlabel('true label')\n",
    "plt.ylabel('predicted label')"
   ]
  },
  {
   "cell_type": "code",
   "execution_count": 32,
   "metadata": {
    "id": "WsiBBqmP-KCM"
   },
   "outputs": [
    {
     "name": "stdout",
     "output_type": "stream",
     "text": [
      "              precision    recall  f1-score   support\n",
      "\n",
      "           0       0.54      0.23      0.32       306\n",
      "           1       0.54      0.82      0.65       331\n",
      "\n",
      "    accuracy                           0.54       637\n",
      "   macro avg       0.54      0.53      0.49       637\n",
      "weighted avg       0.54      0.54      0.49       637\n",
      "\n"
     ]
    }
   ],
   "source": [
    "print(classification_report(y_test,pred))"
   ]
  },
  {
   "cell_type": "markdown",
   "metadata": {
    "id": "xSA64BSI_U4v"
   },
   "source": [
    "剛剛只先用了k=1來建立模型，現在利用for loop來建立迴圈，找尋適合的K值"
   ]
  },
  {
   "cell_type": "code",
   "execution_count": 53,
   "metadata": {
    "id": "9hA8jtXi_apK"
   },
   "outputs": [],
   "source": [
    "error_rate = []\n",
    "\n",
    "for i in range(1,100):\n",
    "  knn = KNeighborsClassifier(n_neighbors = i)\n",
    "  knn.fit(X_train, y_train)\n",
    "  pred_i = knn.predict(X_test)\n",
    "  error_rate.append(np.mean(pred_i != y_test))"
   ]
  },
  {
   "cell_type": "code",
   "execution_count": 54,
   "metadata": {},
   "outputs": [
    {
     "name": "stdout",
     "output_type": "stream",
     "text": [
      "[0.45054945054945056, 0.4662480376766091, 0.45839874411302983, 0.478806907378336, 0.478806907378336, 0.478806907378336, 0.5054945054945055, 0.48665620094191525, 0.47095761381475665, 0.4740973312401884, 0.4489795918367347, 0.44583987441130296, 0.43956043956043955, 0.4411302982731554, 0.4474097331240188, 0.4427001569858713, 0.434850863422292, 0.43956043956043955, 0.44583987441130296, 0.4301412872841444, 0.4489795918367347, 0.44427001569858715, 0.4301412872841444, 0.43956043956043955, 0.4364207221350079, 0.43328100470957615, 0.4489795918367347, 0.45054945054945056, 0.4489795918367347, 0.4521193092621664, 0.4489795918367347, 0.4552590266875981, 0.4599686028257457, 0.4489795918367347, 0.4552590266875981, 0.43956043956043955, 0.44583987441130296, 0.4489795918367347, 0.45054945054945056, 0.46781789638932497, 0.46938775510204084, 0.46153846153846156, 0.4599686028257457, 0.4631083202511774, 0.4599686028257457, 0.4552590266875981, 0.45368916797488223, 0.45368916797488223, 0.46467817896389324, 0.4772370486656201, 0.47566718995290425, 0.4803767660910518, 0.4850863422291994, 0.48665620094191525, 0.48194662480376765, 0.4850863422291994, 0.478806907378336, 0.478806907378336, 0.4850863422291994, 0.4725274725274725, 0.5054945054945055, 0.48822605965463106, 0.48665620094191525, 0.48194662480376765, 0.4552590266875981, 0.47566718995290425, 0.48822605965463106, 0.4725274725274725, 0.4803767660910518, 0.46467817896389324, 0.46781789638932497, 0.47566718995290425, 0.478806907378336, 0.4725274725274725, 0.48194662480376765, 0.46938775510204084, 0.46781789638932497, 0.4521193092621664, 0.45368916797488223, 0.4427001569858713, 0.44583987441130296, 0.46153846153846156, 0.45368916797488223, 0.4631083202511774, 0.4521193092621664, 0.46467817896389324, 0.4772370486656201, 0.4662480376766091, 0.46781789638932497, 0.47095761381475665, 0.46153846153846156, 0.45368916797488223, 0.4489795918367347, 0.4489795918367347, 0.45368916797488223, 0.4411302982731554, 0.45054945054945056, 0.47095761381475665, 0.4521193092621664]\n"
     ]
    }
   ],
   "source": [
    "print(error_rate)"
   ]
  },
  {
   "cell_type": "markdown",
   "metadata": {
    "id": "0ZPdHuWLAF60"
   },
   "source": [
    "將k=1~100的錯誤率製圖畫出，找出最低錯誤率的k值"
   ]
  },
  {
   "cell_type": "code",
   "execution_count": 55,
   "metadata": {
    "id": "ToZ8c83OAMaU"
   },
   "outputs": [
    {
     "data": {
      "text/plain": [
       "Text(0, 0.5, 'Error Rate')"
      ]
     },
     "execution_count": 55,
     "metadata": {},
     "output_type": "execute_result"
    },
    {
     "data": {
      "image/png": "[encoded data removed]",
      "text/plain": [
       "<Figure size 1440x720 with 1 Axes>"
      ]
     },
     "metadata": {
      "needs_background": "light"
     },
     "output_type": "display_data"
    }
   ],
   "source": [
    "plt.figure(figsize=(20,10))\n",
    "plt.plot(range(1,100),error_rate,color='blue',linestyle='dashed',marker='o',markerfacecolor='red',markersize=10)\n",
    "plt.title('Error Rate vs. K Value')\n",
    "plt.xlabel('K')\n",
    "plt.ylabel('Error Rate')"
   ]
  },
  {
   "cell_type": "markdown",
   "metadata": {
    "id": "5xsAZrhXAtHe"
   },
   "source": [
    "選擇錯誤率最低的K= a， 來看precision、recall、f1-score、support表現"
   ]
  },
  {
   "cell_type": "code",
   "execution_count": 59,
   "metadata": {
    "id": "HIqnpTjSA3QG",
    "scrolled": true
   },
   "outputs": [
    {
     "name": "stdout",
     "output_type": "stream",
     "text": [
      "0.6166535742340927\n",
      "0.5698587127158555\n",
      "WITH k=1\n",
      "\n",
      "\n",
      "[[172 130]\n",
      " [144 191]]\n",
      "\n",
      "\n",
      "              precision    recall  f1-score   support\n",
      "\n",
      "           0       0.54      0.57      0.56       302\n",
      "           1       0.60      0.57      0.58       335\n",
      "\n",
      "    accuracy                           0.57       637\n",
      "   macro avg       0.57      0.57      0.57       637\n",
      "weighted avg       0.57      0.57      0.57       637\n",
      "\n",
      "[[140 157]\n",
      " [ 89 251]]\n"
     ]
    },
    {
     "data": {
      "text/plain": [
       "Text(91.68, 0.5, 'predicted label')"
      ]
     },
     "execution_count": 59,
     "metadata": {},
     "output_type": "execute_result"
    },
    {
     "data": {
      "image/png": "[encoded data removed]",
      "text/plain": [
       "<Figure size 432x288 with 1 Axes>"
      ]
     },
     "metadata": {
      "needs_background": "light"
     },
     "output_type": "display_data"
    }
   ],
   "source": [
    "knn = KNeighborsClassifier(n_neighbors = 20) #a要記得改成最好（錯誤率最低）的k值，或者可以改成任意值來看/做比對\n",
    "\n",
    "knn.fit(X_train,y_train)\n",
    "pred = knn.predict(X_test)\n",
    "\n",
    "#準確度評估\n",
    "print(knn.score(X_train,y_train))\n",
    "print(knn.score(X_test, y_test))\n",
    "\n",
    "print('WITH k=1')\n",
    "print('\\n')\n",
    "print(confusion_matrix(y_test,pred))\n",
    "print('\\n')\n",
    "print(classification_report(y_test,pred))\n",
    "from sklearn.metrics import confusion_matrix\n",
    "mat = confusion_matrix(y_test, pred)\n",
    "sns.heatmap(mat.T, square=True, annot=True, fmt='d', cbar=False,\n",
    "            xticklabels=target_name, yticklabels=target_name)\n",
    "plt.xlabel('true label')\n",
    "plt.ylabel('predicted label')\n",
    "\n",
    "print(max_confusion_matrix)\n",
    "from sklearn.metrics import confusion_matrix\n",
    "mat = confusion_matrix(y_test, pred)\n",
    "sns.heatmap(mat.T, square=True, annot=True, fmt='d', cbar=False,\n",
    "            xticklabels=target_name, yticklabels=target_name)\n",
    "plt.xlabel('true label')\n",
    "plt.ylabel('predicted label')"
   ]
  },
  {
   "cell_type": "code",
   "execution_count": null,
   "metadata": {},
   "outputs": [],
   "source": []
  }
 ],
 "metadata": {
  "colab": {
   "collapsed_sections": [],
   "name": "midproject-knn.ipynb",
   "provenance": []
  },
  "kernelspec": {
   "display_name": "Python 3",
   "language": "python",
   "name": "python3"
  },
  "language_info": {
   "codemirror_mode": {
    "name": "ipython",
    "version": 3
   },
   "file_extension": ".py",
   "mimetype": "text/x-python",
   "name": "python",
   "nbconvert_exporter": "python",
   "pygments_lexer": "ipython3",
   "version": "3.9.2"
  }
 },
 "nbformat": 4,
 "nbformat_minor": 1
}
