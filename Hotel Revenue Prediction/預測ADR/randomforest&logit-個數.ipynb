{
 "cells": [
  {
   "cell_type": "code",
   "execution_count": 1,
   "metadata": {},
   "outputs": [],
   "source": [
    "from sklearn.ensemble import RandomForestClassifier\n",
    "from sklearn.model_selection import train_test_split"
   ]
  },
  {
   "cell_type": "markdown",
   "metadata": {},
   "source": [
    "## predict is_canceled"
   ]
  },
  {
   "cell_type": "code",
   "execution_count": 2,
   "metadata": {},
   "outputs": [],
   "source": [
    "import pandas as pd\n",
    "trainX = pd.read_csv('preprocess_train_dummy.csv')\n",
    "trainY = pd.read_csv('is_canceled.csv')"
   ]
  },
  {
   "cell_type": "code",
   "execution_count": 3,
   "metadata": {},
   "outputs": [],
   "source": [
    "trainX = trainX.drop('arrival_date', 1)\n",
    "trainX=trainX.fillna(0)\n",
    "# trainY = trainY.drop('arrival_date', 1)"
   ]
  },
  {
   "cell_type": "code",
   "execution_count": 4,
   "metadata": {},
   "outputs": [
    {
     "data": {
      "text/html": [
       "<div>\n",
       "<style scoped>\n",
       "    .dataframe tbody tr th:only-of-type {\n",
       "        vertical-align: middle;\n",
       "    }\n",
       "\n",
       "    .dataframe tbody tr th {\n",
       "        vertical-align: top;\n",
       "    }\n",
       "\n",
       "    .dataframe thead th {\n",
       "        text-align: right;\n",
       "    }\n",
       "</style>\n",
       "<table border=\"1\" class=\"dataframe\">\n",
       "  <thead>\n",
       "    <tr style=\"text-align: right;\">\n",
       "      <th></th>\n",
       "      <th>is_canceled</th>\n",
       "    </tr>\n",
       "  </thead>\n",
       "  <tbody>\n",
       "    <tr>\n",
       "      <th>53000</th>\n",
       "      <td>1</td>\n",
       "    </tr>\n",
       "    <tr>\n",
       "      <th>57093</th>\n",
       "      <td>0</td>\n",
       "    </tr>\n",
       "    <tr>\n",
       "      <th>37964</th>\n",
       "      <td>0</td>\n",
       "    </tr>\n",
       "    <tr>\n",
       "      <th>60638</th>\n",
       "      <td>1</td>\n",
       "    </tr>\n",
       "    <tr>\n",
       "      <th>61468</th>\n",
       "      <td>0</td>\n",
       "    </tr>\n",
       "    <tr>\n",
       "      <th>...</th>\n",
       "      <td>...</td>\n",
       "    </tr>\n",
       "    <tr>\n",
       "      <th>63206</th>\n",
       "      <td>0</td>\n",
       "    </tr>\n",
       "    <tr>\n",
       "      <th>61404</th>\n",
       "      <td>1</td>\n",
       "    </tr>\n",
       "    <tr>\n",
       "      <th>17730</th>\n",
       "      <td>0</td>\n",
       "    </tr>\n",
       "    <tr>\n",
       "      <th>28030</th>\n",
       "      <td>0</td>\n",
       "    </tr>\n",
       "    <tr>\n",
       "      <th>15725</th>\n",
       "      <td>0</td>\n",
       "    </tr>\n",
       "  </tbody>\n",
       "</table>\n",
       "<p>82377 rows × 1 columns</p>\n",
       "</div>"
      ],
      "text/plain": [
       "       is_canceled\n",
       "53000            1\n",
       "57093            0\n",
       "37964            0\n",
       "60638            1\n",
       "61468            0\n",
       "...            ...\n",
       "63206            0\n",
       "61404            1\n",
       "17730            0\n",
       "28030            0\n",
       "15725            0\n",
       "\n",
       "[82377 rows x 1 columns]"
      ]
     },
     "execution_count": 4,
     "metadata": {},
     "output_type": "execute_result"
    }
   ],
   "source": [
    "# Create the training and test sets\n",
    "X_train, X_test, y_train, y_test = train_test_split(\n",
    "    trainX, trainY, test_size=0.1, random_state=123\n",
    ")\n",
    "y_train"
   ]
  },
  {
   "cell_type": "code",
   "execution_count": 5,
   "metadata": {},
   "outputs": [
    {
     "name": "stderr",
     "output_type": "stream",
     "text": [
      "/Library/Frameworks/Python.framework/Versions/3.7/lib/python3.7/site-packages/ipykernel_launcher.py:4: DataConversionWarning: A column-vector y was passed when a 1d array was expected. Please change the shape of y to (n_samples,), for example using ravel().\n",
      "  after removing the cwd from sys.path.\n"
     ]
    },
    {
     "name": "stdout",
     "output_type": "stream",
     "text": [
      "MAE(train): 0.207461\n",
      "MAE(test): 0.211274\n"
     ]
    }
   ],
   "source": [
    "from sklearn.metrics import mean_absolute_error\n",
    "rf_model = RandomForestClassifier(max_depth=6, random_state=0)\n",
    "# rf_model = RandomForestClassifier(random_state=0)\n",
    "rf_model.fit(X_train, y_train)\n",
    "preds = rf_model.predict(X_train)\n",
    "mae = mean_absolute_error(y_train,preds)\n",
    "preds_val = rf_model.predict(X_test)\n",
    "mae_val = mean_absolute_error(y_test,preds_val)\n",
    "print(\"MAE(train): %f\" % (mae))\n",
    "print(\"MAE(test): %f\" % (mae_val))"
   ]
  },
  {
   "cell_type": "code",
   "execution_count": 6,
   "metadata": {},
   "outputs": [
    {
     "data": {
      "text/plain": [
       "0.7887262398951278"
      ]
     },
     "execution_count": 6,
     "metadata": {},
     "output_type": "execute_result"
    }
   ],
   "source": [
    "rf_model.score(X_test, y_test)"
   ]
  },
  {
   "cell_type": "code",
   "execution_count": null,
   "metadata": {},
   "outputs": [],
   "source": [
    "import warnings\n",
    "warnings.filterwarnings(\"ignore\")\n",
    "from sklearn.model_selection import cross_val_score\n",
    "rf_model=RandomForestClassifier( random_state=0)\n",
    "# rf_model=RandomForestClassifier(random_state=0)\n",
    "mae=cross_val_score(rf_model,trainX,trainY,scoring='neg_mean_absolute_error',cv=10)\n",
    "accuracy=cross_val_score(rf_model,trainX,trainY,scoring='accuracy',cv=10)\n",
    "print(-1*mae)\n",
    "print(-1*mae.mean())\n",
    "print(accuracy)\n",
    "print(accuracy.mean())"
   ]
  },
  {
   "cell_type": "code",
   "execution_count": null,
   "metadata": {},
   "outputs": [],
   "source": [
    "from sklearn.linear_model import LogisticRegression\n",
    "lr_model = LogisticRegression(random_state=0)\n",
    "# rf_model = RandomForestClassifier(random_state=0)\n",
    "lr_model.fit(X_train, y_train)\n",
    "preds = lr_model.predict(X_train)\n",
    "mae = mean_absolute_error(y_train,preds)\n",
    "preds_val = lr_model.predict(X_test)\n",
    "mae_val = mean_absolute_error(y_test,preds_val)\n",
    "print(\"MAE(train): %f\" % (mae))\n",
    "print(\"MAE(test): %f\" % (mae_val))"
   ]
  },
  {
   "cell_type": "code",
   "execution_count": null,
   "metadata": {},
   "outputs": [],
   "source": [
    "lr_model.score(X_test, y_test)"
   ]
  },
  {
   "cell_type": "code",
   "execution_count": null,
   "metadata": {},
   "outputs": [],
   "source": [
    "import warnings\n",
    "warnings.filterwarnings(\"ignore\")\n",
    "from sklearn.model_selection import cross_val_score\n",
    "lr_model=LogisticRegression(random_state=0)\n",
    "# rf_model=RandomForestClassifier(random_state=0)\n",
    "mae=cross_val_score(lr_model,trainX,trainY,scoring='neg_mean_absolute_error',cv=10)\n",
    "accuracy=cross_val_score(lr_model,trainX,trainY,scoring='accuracy',cv=10)\n",
    "print(-1*mae)\n",
    "print(-1*mae.mean())\n",
    "print(accuracy)\n",
    "print(accuracy.mean())"
   ]
  },
  {
   "cell_type": "code",
   "execution_count": null,
   "metadata": {},
   "outputs": [],
   "source": []
  }
 ],
 "metadata": {
  "kernelspec": {
   "display_name": "Python 3",
   "language": "python",
   "name": "python3"
  },
  "language_info": {
   "codemirror_mode": {
    "name": "ipython",
    "version": 3
   },
   "file_extension": ".py",
   "mimetype": "text/x-python",
   "name": "python",
   "nbconvert_exporter": "python",
   "pygments_lexer": "ipython3",
   "version": "3.7.8"
  }
 },
 "nbformat": 4,
 "nbformat_minor": 4
}
