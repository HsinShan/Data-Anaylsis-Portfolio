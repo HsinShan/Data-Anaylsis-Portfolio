{
  "cells": [
    {
      "cell_type": "code",
      "execution_count": null,
      "metadata": {
        "id": "KOBDU9WwkGAX"
      },
      "outputs": [],
      "source": [
        "from xgboost import XGBClassifier, XGBRegressor\n",
        "from sklearn.model_selection import train_test_split\n",
        "import xgboost as xgb"
      ]
    },
    {
      "cell_type": "markdown",
      "metadata": {
        "id": "Rta2zMxHkGAd"
      },
      "source": [
        "## predict is_canceled"
      ]
    },
    {
      "cell_type": "code",
      "execution_count": null,
      "metadata": {
        "id": "mSS4WPiCkGAf"
      },
      "outputs": [],
      "source": [
        "import pandas as pd\n",
        "trainX = pd.read_csv('preprocess_train_dummy.csv')\n",
        "trainY = pd.read_csv('is_canceled.csv')"
      ]
    },
    {
      "cell_type": "code",
      "execution_count": null,
      "metadata": {
        "id": "j08KrWMGkGAg"
      },
      "outputs": [],
      "source": [
        "trainX = trainX.drop('arrival_date', 1)\n",
        "# trainY = trainY.drop('arrival_date', 1)"
      ]
    },
    {
      "cell_type": "code",
      "execution_count": null,
      "metadata": {
        "id": "mx9MhanQkGAg"
      },
      "outputs": [],
      "source": [
        "# Create the training and test sets\n",
        "# X_train, X_test, y_train, y_test = train_test_split(\n",
        "#     trainX, trainY, test_size=0, random_state=123\n",
        "# )\n",
        "# y_train\n",
        "\n",
        "X_train = trainX\n",
        "y_train = trainY\n",
        "X_test = trainX\n",
        "y_test = trainY"
      ]
    },
    {
      "cell_type": "code",
      "execution_count": null,
      "metadata": {
        "id": "lC3o3-VZkGAh",
        "outputId": "593fd2f9-b069-43a8-83da-3626fa638195"
      },
      "outputs": [
        {
          "name": "stderr",
          "output_type": "stream",
          "text": [
            "C:\\Users\\Police\\Anaconda3\\lib\\site-packages\\xgboost\\sklearn.py:892: UserWarning: The use of label encoder in XGBClassifier is deprecated and will be removed in a future release. To remove this warning, do the following: 1) Pass option use_label_encoder=False when constructing XGBClassifier object; and 2) Encode your labels (y) as integers starting with 0, i.e. 0, 1, 2, ..., [num_class - 1].\n",
            "  warnings.warn(label_encoder_deprecation_msg, UserWarning)\n",
            "C:\\Users\\Police\\Anaconda3\\lib\\site-packages\\sklearn\\utils\\validation.py:72: DataConversionWarning: A column-vector y was passed when a 1d array was expected. Please change the shape of y to (n_samples, ), for example using ravel().\n",
            "  return f(**kwargs)\n"
          ]
        },
        {
          "name": "stdout",
          "output_type": "stream",
          "text": [
            "[23:28:33] WARNING: C:/Users/Administrator/workspace/xgboost-win64_release_1.3.0/src/learner.cc:1061: Starting in XGBoost 1.3.0, the default evaluation metric used with the objective 'binary:logistic' was changed from 'error' to 'logloss'. Explicitly set eval_metric if you'd like to restore the old behavior.\n",
            "MAE(train): 0.100862\n",
            "MAE(test): 0.100862\n"
          ]
        }
      ],
      "source": [
        "from sklearn.metrics import mean_absolute_error\n",
        "origin_params = {\"objective\":\"binary:logistic\", \"n_estimators\":100, \"seed\":123}\n",
        "best_params = {'learning_rate': 0.1, 'n_estimators': 700, 'max_depth': 6, 'min_child_weight': 1, 'seed': 123,\n",
        "'subsample': 0.8, 'colsample_bytree': 0.8, 'gamma': 0.1, 'reg_alpha': 0.1, 'reg_lambda': 0.1}\n",
        "# best_params = {'learning_rate': 0.1, 'n_estimators': 700, 'max_depth': 6, 'min_child_weight': 1, 'seed': 123,\n",
        "# 'gamma': 0.1, 'reg_alpha': 0.1, 'reg_lambda': 0.1}\n",
        "xgbc = xgb.XGBClassifier(**best_params)\n",
        "xgbc.fit(X_train, y_train)\n",
        "preds = xgbc.predict(X_train)\n",
        "mae = mean_absolute_error(y_train,preds)\n",
        "preds_val = xgbc.predict(X_test)\n",
        "mae_val = mean_absolute_error(y_test,preds_val)\n",
        "print(\"MAE(train): %f\" % (mae))\n",
        "print(\"MAE(test): %f\" % (mae_val))"
      ]
    },
    {
      "cell_type": "code",
      "execution_count": null,
      "metadata": {
        "id": "b3781YQKkGAi",
        "outputId": "d3bd3723-f71e-4c0d-a174-4cb4c95e20ec"
      },
      "outputs": [
        {
          "data": {
            "text/plain": [
              "0.8991379969627776"
            ]
          },
          "execution_count": 66,
          "metadata": {},
          "output_type": "execute_result"
        }
      ],
      "source": [
        "xgbc.score(X_test, y_test)"
      ]
    },
    {
      "cell_type": "code",
      "execution_count": null,
      "metadata": {
        "id": "wjRrlZBQkGAj",
        "outputId": "89693a80-e611-453c-df30-0d361af8ef9d"
      },
      "outputs": [
        {
          "data": {
            "text/plain": [
              "array([0, 0, 0, ..., 0, 0, 0], dtype=int64)"
            ]
          },
          "execution_count": 67,
          "metadata": {},
          "output_type": "execute_result"
        }
      ],
      "source": [
        "preds"
      ]
    },
    {
      "cell_type": "code",
      "execution_count": null,
      "metadata": {
        "id": "AClyP7krkGAk"
      },
      "outputs": [],
      "source": [
        "test_data_x = pd.read_csv('preprocess_test_dummy.csv')"
      ]
    },
    {
      "cell_type": "code",
      "execution_count": null,
      "metadata": {
        "id": "zXua5jhqkGAl"
      },
      "outputs": [],
      "source": [
        "arrival_date = list(test_data_x['arrival_date'])"
      ]
    },
    {
      "cell_type": "code",
      "execution_count": null,
      "metadata": {
        "id": "EoFn90q7kGAl"
      },
      "outputs": [],
      "source": [
        "test_data_x = test_data_x.drop('arrival_date', 1)"
      ]
    },
    {
      "cell_type": "code",
      "execution_count": null,
      "metadata": {
        "id": "yr2XaweqkGAm"
      },
      "outputs": [],
      "source": [
        "preds_test = xgbc.predict(test_data_x)"
      ]
    },
    {
      "cell_type": "code",
      "execution_count": null,
      "metadata": {
        "id": "l_JE2ekdkGAm",
        "outputId": "9ea5d2bc-03e1-48b0-e706-adb09e2e4bb8"
      },
      "outputs": [
        {
          "data": {
            "text/plain": [
              "array([0, 1, 0, ..., 0, 0, 0], dtype=int64)"
            ]
          },
          "execution_count": 72,
          "metadata": {},
          "output_type": "execute_result"
        }
      ],
      "source": [
        "preds_test"
      ]
    },
    {
      "cell_type": "code",
      "execution_count": null,
      "metadata": {
        "id": "cq5NsomckGAm"
      },
      "outputs": [],
      "source": [
        "df = pd.DataFrame(list(zip(arrival_date, preds_test)), columns =['arrival_date', 'is_canceled']) "
      ]
    },
    {
      "cell_type": "code",
      "execution_count": null,
      "metadata": {
        "id": "RULISK25kGAn"
      },
      "outputs": [],
      "source": [
        "df.to_csv(r'test_label_is_canceled_v4.csv', index = False)"
      ]
    },
    {
      "cell_type": "markdown",
      "metadata": {
        "id": "YUmNmC-gkGAn"
      },
      "source": [
        "## predict adr"
      ]
    },
    {
      "cell_type": "code",
      "execution_count": null,
      "metadata": {
        "id": "QBwwuw1gkGAo"
      },
      "outputs": [],
      "source": [
        "trainX = pd.read_csv('preprocess_train_dummy.csv')\n",
        "trainY = pd.read_csv('adr.csv')"
      ]
    },
    {
      "cell_type": "code",
      "execution_count": null,
      "metadata": {
        "id": "czeE_mOCkGAo",
        "outputId": "d28a40b5-a880-4941-8162-6d71f55da270"
      },
      "outputs": [
        {
          "name": "stdout",
          "output_type": "stream",
          "text": [
            "91531 91531\n"
          ]
        }
      ],
      "source": [
        "trainX = trainX.drop('arrival_date', 1)\n",
        "print(len(trainX), len(trainY))"
      ]
    },
    {
      "cell_type": "code",
      "execution_count": null,
      "metadata": {
        "id": "mYO9HKZckGAo"
      },
      "outputs": [],
      "source": [
        "# Create the training and test sets\n",
        "# X_train, X_test, y_train, y_test = train_test_split(\n",
        "#     trainX, trainY, test_size=0.1, random_state=123\n",
        "# )\n",
        "X_train = trainX\n",
        "y_train = trainY\n",
        "X_test = trainX\n",
        "y_test = trainY"
      ]
    },
    {
      "cell_type": "code",
      "execution_count": null,
      "metadata": {
        "id": "oe5IjPnxkGAo",
        "outputId": "6f8a51c4-a3bf-4e2d-fe03-f66954480d48"
      },
      "outputs": [
        {
          "name": "stdout",
          "output_type": "stream",
          "text": [
            "MSE(train): 151.290665\n",
            "MSE(test): 151.290665\n"
          ]
        }
      ],
      "source": [
        "from sklearn.metrics import mean_squared_error\n",
        "origin_params = {\"objective\":\"binary:logistic\", \"n_estimators\":100, \"seed\":123}\n",
        "best_params = {'learning_rate': 0.1, 'n_estimators': 700, 'max_depth': 9, 'min_child_weight': 1, 'seed': 123,\n",
        "'subsample': 0.8, 'colsample_bytree': 0.8, 'gamma': 0.1, 'reg_alpha': 0.1, 'reg_lambda': 0.1}\n",
        "# best_params = {'learning_rate': 0.1, 'n_estimators': 700, 'max_depth': 6, 'min_child_weight': 1, 'seed': 123,\n",
        "# 'gamma': 0.1, 'reg_alpha': 0.1, 'reg_lambda': 0.1}\n",
        "xgbc = xgb.XGBRegressor(**best_params)\n",
        "xgbc.fit(X_train, y_train)\n",
        "preds = xgbc.predict(X_train)\n",
        "mae = mean_squared_error(y_train,preds)\n",
        "preds_val = xgbc.predict(X_test)\n",
        "mae_val = mean_squared_error(y_test,preds_val)\n",
        "print(\"MSE(train): %f\" % (mae))\n",
        "print(\"MSE(test): %f\" % (mae_val))"
      ]
    },
    {
      "cell_type": "code",
      "execution_count": null,
      "metadata": {
        "id": "Tfveh_XikGAp",
        "outputId": "9df56711-7fb1-4c11-8798-7a67cb8b963c"
      },
      "outputs": [
        {
          "data": {
            "text/plain": [
              "0.9427527891310569"
            ]
          },
          "execution_count": 79,
          "metadata": {},
          "output_type": "execute_result"
        }
      ],
      "source": [
        "xgbc.score(X_test, y_test)"
      ]
    },
    {
      "cell_type": "code",
      "execution_count": null,
      "metadata": {
        "id": "et6iBXE3kGAq"
      },
      "outputs": [],
      "source": [
        "test_data_x = pd.read_csv('preprocess_test_dummy.csv')"
      ]
    },
    {
      "cell_type": "code",
      "execution_count": null,
      "metadata": {
        "id": "EPxp8bNqkGAq"
      },
      "outputs": [],
      "source": [
        "arrival_date = list(test_data_x['arrival_date'])"
      ]
    },
    {
      "cell_type": "code",
      "execution_count": null,
      "metadata": {
        "id": "T6Y-Q9onkGAr"
      },
      "outputs": [],
      "source": [
        "test_data_x = test_data_x.drop('arrival_date', 1)"
      ]
    },
    {
      "cell_type": "code",
      "execution_count": null,
      "metadata": {
        "id": "R1wiFr6FkGAr"
      },
      "outputs": [],
      "source": [
        "preds_test = xgbc.predict(test_data_x)"
      ]
    },
    {
      "cell_type": "code",
      "execution_count": null,
      "metadata": {
        "id": "IPIXvAf4kGAr",
        "outputId": "6d1ee2a4-0a5e-4868-f47e-61f2830b71cc"
      },
      "outputs": [
        {
          "data": {
            "text/plain": [
              "array([ 97.03325 ,  45.788464,  59.20065 , ..., 198.489   ,  87.59262 ,\n",
              "        90.77602 ], dtype=float32)"
            ]
          },
          "execution_count": 84,
          "metadata": {},
          "output_type": "execute_result"
        }
      ],
      "source": [
        "preds_test"
      ]
    },
    {
      "cell_type": "code",
      "execution_count": null,
      "metadata": {
        "id": "VunqKGuzkGAs"
      },
      "outputs": [],
      "source": [
        "df = pd.DataFrame(list(zip(arrival_date, preds_test)), columns =['arrival_date', 'adr']) "
      ]
    },
    {
      "cell_type": "code",
      "execution_count": null,
      "metadata": {
        "id": "uQjIpiObkGAs"
      },
      "outputs": [],
      "source": [
        "df.to_csv(r'test_label_adr_v4.csv', index = False)"
      ]
    },
    {
      "cell_type": "markdown",
      "metadata": {
        "id": "y83CnbbckGAs"
      },
      "source": [
        "## 計算 test daily revenue"
      ]
    },
    {
      "cell_type": "code",
      "execution_count": null,
      "metadata": {
        "id": "mdhloEgpkGAs"
      },
      "outputs": [],
      "source": [
        "test = pd.read_csv('preprocess_test_dummy.csv')\n",
        "canceled = pd.read_csv('test_label_is_canceled_v4.csv')\n",
        "adr = pd.read_csv('test_label_adr_v4.csv')"
      ]
    },
    {
      "cell_type": "code",
      "execution_count": null,
      "metadata": {
        "id": "v11wbEc-kGAt"
      },
      "outputs": [],
      "source": [
        "canceled = canceled.drop('arrival_date', 1)\n",
        "adr = adr.drop('arrival_date', 1)"
      ]
    },
    {
      "cell_type": "code",
      "execution_count": null,
      "metadata": {
        "id": "Iko0XQtGkGAt"
      },
      "outputs": [],
      "source": [
        "frames = [test, canceled, adr]"
      ]
    },
    {
      "cell_type": "code",
      "execution_count": null,
      "metadata": {
        "id": "p_m0yiXHkGAt"
      },
      "outputs": [],
      "source": [
        "df = pd.concat(frames, axis=1)"
      ]
    },
    {
      "cell_type": "code",
      "execution_count": null,
      "metadata": {
        "id": "dJNNoBQckGAt"
      },
      "outputs": [],
      "source": [
        "columns = df.columns.tolist()"
      ]
    },
    {
      "cell_type": "code",
      "execution_count": null,
      "metadata": {
        "id": "ZurTHxCJkGAt"
      },
      "outputs": [],
      "source": [
        "date_list = df['arrival_date'].unique()"
      ]
    },
    {
      "cell_type": "code",
      "execution_count": null,
      "metadata": {
        "id": "Rm16XPqFkGAu"
      },
      "outputs": [],
      "source": [
        "n = len(date_list)\n",
        "n\n",
        "\n",
        "test_list = []\n",
        "for i in range(len(df)):\n",
        "    days = df.loc[i, 'stays_in_weekend_nights'] + df.loc[i,'stays_in_week_nights']\n",
        "    revenue = df.loc[i, 'adr'] * days\n",
        "    li = list(df.loc[i,])\n",
        "    li.append(days)\n",
        "    li.append(revenue)\n",
        "    test_list.append(li)"
      ]
    },
    {
      "cell_type": "code",
      "execution_count": null,
      "metadata": {
        "id": "x3ANBc2zkGAu",
        "outputId": "a174b67e-7061-4928-9483-c1219f6c0c30"
      },
      "outputs": [
        {
          "data": {
            "text/plain": [
              "27859"
            ]
          },
          "execution_count": 94,
          "metadata": {},
          "output_type": "execute_result"
        }
      ],
      "source": [
        "len(test_list)"
      ]
    },
    {
      "cell_type": "code",
      "execution_count": null,
      "metadata": {
        "id": "C6jSxCPKkGAu"
      },
      "outputs": [],
      "source": [
        "columns.append('days')\n",
        "columns.append('revenue')\n",
        "new_test = pd.DataFrame(test_list, columns=columns)"
      ]
    },
    {
      "cell_type": "code",
      "execution_count": null,
      "metadata": {
        "id": "81kABtyikGAu"
      },
      "outputs": [],
      "source": [
        "new_test.to_csv(r'test_predict_all_v4.csv', index = False)"
      ]
    },
    {
      "cell_type": "code",
      "execution_count": null,
      "metadata": {
        "id": "CxcLEOHqkGAv"
      },
      "outputs": [],
      "source": [
        "date_list = new_test['arrival_date'].unique()\n",
        "n = len(date_list)\n",
        "\n",
        "daily_revenue = []\n",
        "label = []\n",
        "for date in date_list:\n",
        "    df_r = new_test.loc[(new_test['arrival_date'] == date) & (new_test['is_canceled'] == 0)]\n",
        "    format_date = str(date).split('T')[0]\n",
        "    N = len(df)\n",
        "\n",
        "    revenue = df_r[\"revenue\"].sum(axis = 0, skipna = True)\n",
        "    revenue_scale = int(revenue/10000)\n",
        "    \n",
        "    daily_revenue.append(revenue)\n",
        "    label.append(revenue_scale)"
      ]
    },
    {
      "cell_type": "code",
      "execution_count": null,
      "metadata": {
        "id": "6xDzxZwCkGAv"
      },
      "outputs": [],
      "source": [
        "df = {'date': date_list, 'daily_revenue': daily_revenue, 'label': label}"
      ]
    },
    {
      "cell_type": "code",
      "execution_count": null,
      "metadata": {
        "id": "iWk3WJ81kGAv"
      },
      "outputs": [],
      "source": [
        "result_df = pd.DataFrame(df)"
      ]
    },
    {
      "cell_type": "code",
      "execution_count": null,
      "metadata": {
        "id": "KXG6HrRjkGAv",
        "outputId": "17d3e93b-f522-4f1a-e11f-837ecd48761b"
      },
      "outputs": [
        {
          "data": {
            "text/html": [
              "<div>\n",
              "<style scoped>\n",
              "    .dataframe tbody tr th:only-of-type {\n",
              "        vertical-align: middle;\n",
              "    }\n",
              "\n",
              "    .dataframe tbody tr th {\n",
              "        vertical-align: top;\n",
              "    }\n",
              "\n",
              "    .dataframe thead th {\n",
              "        text-align: right;\n",
              "    }\n",
              "</style>\n",
              "<table border=\"1\" class=\"dataframe\">\n",
              "  <thead>\n",
              "    <tr style=\"text-align: right;\">\n",
              "      <th></th>\n",
              "      <th>date</th>\n",
              "      <th>daily_revenue</th>\n",
              "      <th>label</th>\n",
              "    </tr>\n",
              "  </thead>\n",
              "  <tbody>\n",
              "    <tr>\n",
              "      <th>0</th>\n",
              "      <td>2017/4/1</td>\n",
              "      <td>32021.421868</td>\n",
              "      <td>3</td>\n",
              "    </tr>\n",
              "    <tr>\n",
              "      <th>1</th>\n",
              "      <td>2017/4/2</td>\n",
              "      <td>24163.995358</td>\n",
              "      <td>2</td>\n",
              "    </tr>\n",
              "    <tr>\n",
              "      <th>2</th>\n",
              "      <td>2017/4/3</td>\n",
              "      <td>39177.609517</td>\n",
              "      <td>3</td>\n",
              "    </tr>\n",
              "    <tr>\n",
              "      <th>3</th>\n",
              "      <td>2017/4/4</td>\n",
              "      <td>13881.683029</td>\n",
              "      <td>1</td>\n",
              "    </tr>\n",
              "    <tr>\n",
              "      <th>4</th>\n",
              "      <td>2017/4/5</td>\n",
              "      <td>34217.406389</td>\n",
              "      <td>3</td>\n",
              "    </tr>\n",
              "    <tr>\n",
              "      <th>...</th>\n",
              "      <td>...</td>\n",
              "      <td>...</td>\n",
              "      <td>...</td>\n",
              "    </tr>\n",
              "    <tr>\n",
              "      <th>148</th>\n",
              "      <td>2017/8/27</td>\n",
              "      <td>58669.670479</td>\n",
              "      <td>5</td>\n",
              "    </tr>\n",
              "    <tr>\n",
              "      <th>149</th>\n",
              "      <td>2017/8/28</td>\n",
              "      <td>73566.480101</td>\n",
              "      <td>7</td>\n",
              "    </tr>\n",
              "    <tr>\n",
              "      <th>150</th>\n",
              "      <td>2017/8/29</td>\n",
              "      <td>38783.062929</td>\n",
              "      <td>3</td>\n",
              "    </tr>\n",
              "    <tr>\n",
              "      <th>151</th>\n",
              "      <td>2017/8/30</td>\n",
              "      <td>30973.379883</td>\n",
              "      <td>3</td>\n",
              "    </tr>\n",
              "    <tr>\n",
              "      <th>152</th>\n",
              "      <td>2017/8/31</td>\n",
              "      <td>46025.987553</td>\n",
              "      <td>4</td>\n",
              "    </tr>\n",
              "  </tbody>\n",
              "</table>\n",
              "<p>153 rows × 3 columns</p>\n",
              "</div>"
            ],
            "text/plain": [
              "          date  daily_revenue  label\n",
              "0     2017/4/1   32021.421868      3\n",
              "1     2017/4/2   24163.995358      2\n",
              "2     2017/4/3   39177.609517      3\n",
              "3     2017/4/4   13881.683029      1\n",
              "4     2017/4/5   34217.406389      3\n",
              "..         ...            ...    ...\n",
              "148  2017/8/27   58669.670479      5\n",
              "149  2017/8/28   73566.480101      7\n",
              "150  2017/8/29   38783.062929      3\n",
              "151  2017/8/30   30973.379883      3\n",
              "152  2017/8/31   46025.987553      4\n",
              "\n",
              "[153 rows x 3 columns]"
            ]
          },
          "execution_count": 100,
          "metadata": {},
          "output_type": "execute_result"
        }
      ],
      "source": [
        "result_df"
      ]
    },
    {
      "cell_type": "code",
      "execution_count": null,
      "metadata": {
        "id": "55Sw1xrkkGAv"
      },
      "outputs": [],
      "source": [
        "df = {'arrival_date': date_list, 'label': label}"
      ]
    },
    {
      "cell_type": "code",
      "execution_count": null,
      "metadata": {
        "id": "CREGtmTokGAv"
      },
      "outputs": [],
      "source": [
        "test_label = pd.DataFrame(df)"
      ]
    },
    {
      "cell_type": "code",
      "execution_count": null,
      "metadata": {
        "id": "_ilIK_azkGAw"
      },
      "outputs": [],
      "source": [
        "test_label.to_csv(r'test_label_v4.csv', index = False)"
      ]
    },
    {
      "cell_type": "code",
      "execution_count": null,
      "metadata": {
        "id": "0tKprOwBkGAw"
      },
      "outputs": [],
      "source": [
        ""
      ]
    }
  ],
  "metadata": {
    "kernelspec": {
      "display_name": "Python 3",
      "language": "python",
      "name": "python3"
    },
    "language_info": {
      "codemirror_mode": {
        "name": "ipython",
        "version": 3
      },
      "file_extension": ".py",
      "mimetype": "text/x-python",
      "name": "python",
      "nbconvert_exporter": "python",
      "pygments_lexer": "ipython3",
      "version": "3.7.1"
    },
    "colab": {
      "name": "XGBoost-個數.ipynb",
      "provenance": []
    }
  },
  "nbformat": 4,
  "nbformat_minor": 0
}