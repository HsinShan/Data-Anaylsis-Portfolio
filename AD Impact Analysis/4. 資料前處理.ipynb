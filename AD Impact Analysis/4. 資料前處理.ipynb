{
 "cells": [
  {
   "cell_type": "code",
   "execution_count": 1,
   "metadata": {},
   "outputs": [],
   "source": [
    "import pandas as pd\n",
    "from functools import reduce"
   ]
  },
  {
   "cell_type": "code",
   "execution_count": 2,
   "metadata": {},
   "outputs": [],
   "source": [
    "data1 = pd.read_excel('整理後資料/購買意圖分數_直接購買.xlsx')\n",
    "data2 = pd.read_excel('整理後資料/購買意圖分數_影響最深.xlsx')\n",
    "data3 = pd.read_csv('整理後資料/消費金額_直接購買.csv', encoding='big5')\n",
    "data4 = pd.read_csv('整理後資料/消費金額_影響最深.csv', encoding='big5')\n",
    "data5 = pd.read_csv('整理後資料/廣告活動來源_影響最深.csv')\n",
    "data6 = pd.read_csv('整理後資料/廣告活動媒介_影響最深.csv')\n",
    "data7 = pd.read_csv('整理後資料/直接購買會員貼標資料.csv', encoding='utf8')\n",
    "data8 = pd.read_csv('整理後資料/影響最深貼標資料（重複ID只留第一筆）.csv', encoding='utf8')"
   ]
  },
  {
   "cell_type": "code",
   "execution_count": 3,
   "metadata": {},
   "outputs": [
    {
     "name": "stdout",
     "output_type": "stream",
     "text": [
      "1571 1959 1591 1962 1781 1715 1845 1958\n"
     ]
    }
   ],
   "source": [
    "print(len(data1), len(data2), len(data3), len(data4), len(data5), len(data6), len(data7), len(data8))"
   ]
  },
  {
   "cell_type": "code",
   "execution_count": 4,
   "metadata": {},
   "outputs": [],
   "source": [
    "# data7['month_usage_score'].unique()"
   ]
  },
  {
   "cell_type": "code",
   "execution_count": 5,
   "metadata": {},
   "outputs": [],
   "source": [
    "direct = pd.read_csv('直接購買_uid.csv', encoding='big5')\n",
    "ad = pd.read_csv('影響最深_uid.csv', encoding='big5')\n",
    "direct_uids = list(direct['行為資料 uid'])\n",
    "ad_uids = list(ad['行為資料 uid'])\n",
    "direct_app_uids = list(direct['APP uid'])\n",
    "ad_app_uids = list(ad['APP uid'])"
   ]
  },
  {
   "cell_type": "code",
   "execution_count": 6,
   "metadata": {},
   "outputs": [
    {
     "name": "stdout",
     "output_type": "stream",
     "text": [
      "1569 1587\n",
      "1958 1958 1772 1706\n",
      "1845 1958\n"
     ]
    }
   ],
   "source": [
    "print(len(data1.loc[data1['uid'].isin(direct_uids)]), len(data3.loc[data3['uid'].isin(direct_uids)]))\n",
    "print(len(data2.loc[data2['uid'].isin(ad_uids)]), len(data4.loc[data4['uid'].isin(ad_uids)]), len(data5.loc[data5['uid'].isin(ad_uids)]), len(data6.loc[data6['uid'].isin(ad_uids)]))\n",
    "print(len(data7.loc[data7['MemberID'].isin(direct_app_uids)]), len(data8.loc[data8['MemberID'].isin(ad_app_uids)]))"
   ]
  },
  {
   "cell_type": "code",
   "execution_count": 7,
   "metadata": {},
   "outputs": [
    {
     "data": {
      "text/plain": [
       "1845"
      ]
     },
     "execution_count": 7,
     "metadata": {},
     "output_type": "execute_result"
    }
   ],
   "source": [
    "len(data7.loc[data7['MemberID'].isin(direct_app_uids)]['MemberID'])"
   ]
  },
  {
   "cell_type": "code",
   "execution_count": 8,
   "metadata": {},
   "outputs": [
    {
     "data": {
      "text/plain": [
       "1958"
      ]
     },
     "execution_count": 8,
     "metadata": {},
     "output_type": "execute_result"
    }
   ],
   "source": [
    "len(data8.loc[data8['MemberID'].isin(ad_app_uids)]['MemberID'].unique())"
   ]
  },
  {
   "cell_type": "code",
   "execution_count": 9,
   "metadata": {},
   "outputs": [],
   "source": [
    "data7 = data7.rename(columns={'location _highest': 'location_highest'})"
   ]
  },
  {
   "cell_type": "code",
   "execution_count": 10,
   "metadata": {},
   "outputs": [
    {
     "data": {
      "text/html": [
       "<div>\n",
       "<style scoped>\n",
       "    .dataframe tbody tr th:only-of-type {\n",
       "        vertical-align: middle;\n",
       "    }\n",
       "\n",
       "    .dataframe tbody tr th {\n",
       "        vertical-align: top;\n",
       "    }\n",
       "\n",
       "    .dataframe thead th {\n",
       "        text-align: right;\n",
       "    }\n",
       "</style>\n",
       "<table border=\"1\" class=\"dataframe\">\n",
       "  <thead>\n",
       "    <tr style=\"text-align: right;\">\n",
       "      <th></th>\n",
       "      <th>uid</th>\n",
       "      <th>累計金額</th>\n",
       "      <th>每次平均消費金額</th>\n",
       "    </tr>\n",
       "  </thead>\n",
       "  <tbody>\n",
       "    <tr>\n",
       "      <th>0</th>\n",
       "      <td>%2B%2B6rOXDBdSgRq7Ks8WEtjF%2FacB6jaVRXpqWA4HRN...</td>\n",
       "      <td>1000~2000</td>\n",
       "      <td>1000~2000</td>\n",
       "    </tr>\n",
       "    <tr>\n",
       "      <th>1</th>\n",
       "      <td>%2B3ewi8VLqI8BqfOC%2F4jmUyOwhunaQjenxx0QtPTKNM...</td>\n",
       "      <td>4000~5000</td>\n",
       "      <td>1000~2000</td>\n",
       "    </tr>\n",
       "    <tr>\n",
       "      <th>2</th>\n",
       "      <td>%2BB7KaqyVcM77I5me2CAt7YAglTNGD5Dc5GH%2BnDDWdd...</td>\n",
       "      <td>3000~4000</td>\n",
       "      <td>1000~2000</td>\n",
       "    </tr>\n",
       "    <tr>\n",
       "      <th>3</th>\n",
       "      <td>%2BCOKHDKdkZqqKjForTGdnLm3MmDd8IU6p92T7WD%2FxJ...</td>\n",
       "      <td>1000~2000</td>\n",
       "      <td>1000~2000</td>\n",
       "    </tr>\n",
       "    <tr>\n",
       "      <th>4</th>\n",
       "      <td>%2BCSbH4dEHTU87B4l5wIL2sPR05x39YenLja%2BwhJHfC...</td>\n",
       "      <td>2000~3000</td>\n",
       "      <td>1000~2000</td>\n",
       "    </tr>\n",
       "    <tr>\n",
       "      <th>...</th>\n",
       "      <td>...</td>\n",
       "      <td>...</td>\n",
       "      <td>...</td>\n",
       "    </tr>\n",
       "    <tr>\n",
       "      <th>1957</th>\n",
       "      <td>zXbEjf7v8c3mEglJuvrOgAfDJLOKPfMIJBtWaaGbbmE%3D</td>\n",
       "      <td>1000~2000</td>\n",
       "      <td>0~1000</td>\n",
       "    </tr>\n",
       "    <tr>\n",
       "      <th>1958</th>\n",
       "      <td>zYfZEGjb87aleR0%2Bo%2FwppFEE0OUeB%2BBzelZRSgsR...</td>\n",
       "      <td>3000~4000</td>\n",
       "      <td>0~1000</td>\n",
       "    </tr>\n",
       "    <tr>\n",
       "      <th>1959</th>\n",
       "      <td>ZYovoMuuoGJaCyrO98oO1sc3y0xvMBddBPBSwmYOSSM%3D</td>\n",
       "      <td>3000~4000</td>\n",
       "      <td>3000~4000</td>\n",
       "    </tr>\n",
       "    <tr>\n",
       "      <th>1960</th>\n",
       "      <td>ZYoZybivohs6CXXKo6DxKeh4%2FLRU%2BqJT3Gluy1QtDd...</td>\n",
       "      <td>2000~3000</td>\n",
       "      <td>2000~3000</td>\n",
       "    </tr>\n",
       "    <tr>\n",
       "      <th>1961</th>\n",
       "      <td>zYXEyobJ6Xdck4XlCLvH19kIbtUsG2A6UfADpWePyOA%3D</td>\n",
       "      <td>8000~9000</td>\n",
       "      <td>0~1000</td>\n",
       "    </tr>\n",
       "  </tbody>\n",
       "</table>\n",
       "<p>1962 rows × 3 columns</p>\n",
       "</div>"
      ],
      "text/plain": [
       "                                                    uid       累計金額   每次平均消費金額\n",
       "0     %2B%2B6rOXDBdSgRq7Ks8WEtjF%2FacB6jaVRXpqWA4HRN...  1000~2000  1000~2000\n",
       "1     %2B3ewi8VLqI8BqfOC%2F4jmUyOwhunaQjenxx0QtPTKNM...  4000~5000  1000~2000\n",
       "2     %2BB7KaqyVcM77I5me2CAt7YAglTNGD5Dc5GH%2BnDDWdd...  3000~4000  1000~2000\n",
       "3     %2BCOKHDKdkZqqKjForTGdnLm3MmDd8IU6p92T7WD%2FxJ...  1000~2000  1000~2000\n",
       "4     %2BCSbH4dEHTU87B4l5wIL2sPR05x39YenLja%2BwhJHfC...  2000~3000  1000~2000\n",
       "...                                                 ...        ...        ...\n",
       "1957     zXbEjf7v8c3mEglJuvrOgAfDJLOKPfMIJBtWaaGbbmE%3D  1000~2000     0~1000\n",
       "1958  zYfZEGjb87aleR0%2Bo%2FwppFEE0OUeB%2BBzelZRSgsR...  3000~4000     0~1000\n",
       "1959     ZYovoMuuoGJaCyrO98oO1sc3y0xvMBddBPBSwmYOSSM%3D  3000~4000  3000~4000\n",
       "1960  ZYoZybivohs6CXXKo6DxKeh4%2FLRU%2BqJT3Gluy1QtDd...  2000~3000  2000~3000\n",
       "1961     zYXEyobJ6Xdck4XlCLvH19kIbtUsG2A6UfADpWePyOA%3D  8000~9000     0~1000\n",
       "\n",
       "[1962 rows x 3 columns]"
      ]
     },
     "execution_count": 10,
     "metadata": {},
     "output_type": "execute_result"
    }
   ],
   "source": [
    "data4"
   ]
  },
  {
   "cell_type": "markdown",
   "metadata": {},
   "source": [
    "## 處理 non-numerical data"
   ]
  },
  {
   "cell_type": "code",
   "execution_count": 11,
   "metadata": {},
   "outputs": [],
   "source": [
    "data7['人群標籤'] = [0] * len(data7)\n",
    "data8['人群標籤'] = [1] * len(data8)"
   ]
  },
  {
   "cell_type": "code",
   "execution_count": 12,
   "metadata": {},
   "outputs": [
    {
     "name": "stdout",
     "output_type": "stream",
     "text": [
      "1569 1958\n"
     ]
    }
   ],
   "source": [
    "# 去除重複 uid\n",
    "data7 = data7.drop_duplicates(subset='MemberID', keep=\"first\")\n",
    "data8 = data8.drop_duplicates(subset='MemberID', keep=\"first\")\n",
    "print(len(data7), len(data8))"
   ]
  },
  {
   "cell_type": "code",
   "execution_count": 13,
   "metadata": {},
   "outputs": [
    {
     "data": {
      "text/plain": [
       "1569"
      ]
     },
     "execution_count": 13,
     "metadata": {},
     "output_type": "execute_result"
    }
   ],
   "source": [
    "remain_uid = list(direct.loc[(direct['APP uid'].isin(list(data7['MemberID'])))]['行為資料 uid'].unique())\n",
    "len(remain_uid)"
   ]
  },
  {
   "cell_type": "code",
   "execution_count": 14,
   "metadata": {},
   "outputs": [],
   "source": [
    "uids = []\n",
    "\n",
    "for uid in list(data7['MemberID']):\n",
    "    uids.append(direct.loc[direct['APP uid'] == uid]['行為資料 uid'].iloc[0])"
   ]
  },
  {
   "cell_type": "code",
   "execution_count": 15,
   "metadata": {},
   "outputs": [],
   "source": [
    "data7['uid'] = uids"
   ]
  },
  {
   "cell_type": "code",
   "execution_count": 16,
   "metadata": {},
   "outputs": [],
   "source": [
    "uids = []\n",
    "\n",
    "for uid in list(data8['MemberID']):\n",
    "    uids.append(ad.loc[ad['APP uid'] == uid]['行為資料 uid'].iloc[0])"
   ]
  },
  {
   "cell_type": "code",
   "execution_count": 17,
   "metadata": {},
   "outputs": [],
   "source": [
    "data8['uid'] = uids"
   ]
  },
  {
   "cell_type": "code",
   "execution_count": 18,
   "metadata": {},
   "outputs": [],
   "source": [
    "data1 = data1.loc[data1['uid'].isin(remain_uid)]\n",
    "data2 = data2.loc[data2['uid'].isin(list(ad['行為資料 uid'].unique()))]\n",
    "data3 = data3.loc[data3['uid'].isin(remain_uid)]\n",
    "data4 = data4.loc[data4['uid'].isin(list(ad['行為資料 uid'].unique()))]"
   ]
  },
  {
   "cell_type": "code",
   "execution_count": 19,
   "metadata": {},
   "outputs": [
    {
     "name": "stdout",
     "output_type": "stream",
     "text": [
      "1569 1958 1569 1958\n"
     ]
    }
   ],
   "source": [
    "print(len(data1), len(data2), len(data3), len(data4))"
   ]
  },
  {
   "cell_type": "code",
   "execution_count": 20,
   "metadata": {},
   "outputs": [],
   "source": [
    "merge_direct = reduce(lambda df_left,df_right: pd.merge(df_left, df_right, on=['uid'], \n",
    "                                              how='outer'), [data7, data1]).fillna('none')"
   ]
  },
  {
   "cell_type": "code",
   "execution_count": 21,
   "metadata": {},
   "outputs": [],
   "source": [
    "merge_ad = reduce(lambda df_left,df_right: pd.merge(df_left, df_right, on=['uid'], \n",
    "                                              how='outer'), [data8, data2]).fillna('none')"
   ]
  },
  {
   "cell_type": "code",
   "execution_count": 22,
   "metadata": {},
   "outputs": [],
   "source": [
    "merge_direct = reduce(lambda df_left,df_right: pd.merge(df_left, df_right, on=['uid'], \n",
    "                                              how='outer'), [merge_direct, data3]).fillna('none')\n",
    "merge_ad = reduce(lambda df_left,df_right: pd.merge(df_left, df_right, on=['uid'], \n",
    "                                              how='outer'), [merge_ad, data4]).fillna('none')"
   ]
  },
  {
   "cell_type": "code",
   "execution_count": 23,
   "metadata": {},
   "outputs": [],
   "source": [
    "member_data = pd.concat([merge_direct, merge_ad])"
   ]
  },
  {
   "cell_type": "code",
   "execution_count": 24,
   "metadata": {},
   "outputs": [
    {
     "data": {
      "text/plain": [
       "Index(['MemberID', 'Age', 'Gender', 'Birthday', 'IsEnableEmail',\n",
       "       'IsEnablePushNotification', 'IsEnableShortMessage', 'MemberCardLevel',\n",
       "       'platform', 'os', 'browser', 'location_original', 'location',\n",
       "       'location_highest', 'habit_weekday', 'Monday', 'Tuesday', 'Wednesday',\n",
       "       'Thursday', 'Friday', 'Saturday', 'Sunday', 'habit_hour', '0-6', '6-12',\n",
       "       '12-18', '18-24', 'month_usage_score', '人群標籤', 'uid', 'viewproduct_all',\n",
       "       'add_all', 'checkout_all', 'ave_purchase_grade', '累計金額', '每次平均消費金額'],\n",
       "      dtype='object')"
      ]
     },
     "execution_count": 24,
     "metadata": {},
     "output_type": "execute_result"
    }
   ],
   "source": [
    "member_data.columns"
   ]
  },
  {
   "cell_type": "code",
   "execution_count": 25,
   "metadata": {},
   "outputs": [
    {
     "data": {
      "text/plain": [
       "Index(['MemberID', 'Age', 'Gender', 'Birthday', 'IsEnableEmail',\n",
       "       'IsEnablePushNotification', 'IsEnableShortMessage', 'MemberCardLevel',\n",
       "       'platform', 'os', 'browser', 'location_original', 'location',\n",
       "       'location_highest', 'habit_weekday', 'Monday', 'Tuesday', 'Wednesday',\n",
       "       'Thursday', 'Friday', 'Saturday', 'Sunday', 'habit_hour', '0-6', '6-12',\n",
       "       '12-18', '18-24', 'month_usage_score', '人群標籤', 'uid', 'viewproduct_all',\n",
       "       'add_all', 'checkout_all', 'ave_purchase_grade', '累計金額', '每次平均消費金額'],\n",
       "      dtype='object')"
      ]
     },
     "execution_count": 25,
     "metadata": {},
     "output_type": "execute_result"
    }
   ],
   "source": [
    "member_data.columns"
   ]
  },
  {
   "cell_type": "code",
   "execution_count": 26,
   "metadata": {},
   "outputs": [],
   "source": [
    "from sklearn.preprocessing import LabelEncoder\n",
    "\n",
    "lb_make = LabelEncoder()\n",
    "member_data['Gender_process'] = lb_make.fit_transform(member_data['Gender'].astype(str))\n",
    "member_data['IsEnableEmail_process'] = lb_make.fit_transform(member_data['IsEnableEmail'].astype(str))\n",
    "member_data['IsEnablePushNotification_process'] = lb_make.fit_transform(member_data['IsEnablePushNotification'].astype(str))\n",
    "member_data['IsEnableShortMessage_process'] = lb_make.fit_transform(member_data['IsEnableShortMessage'].astype(str))\n",
    "member_data['platform_process'] = lb_make.fit_transform(member_data['platform'].astype(str))\n",
    "member_data['os_process'] = lb_make.fit_transform(member_data['os'].astype(str))\n",
    "member_data['browser_process'] = lb_make.fit_transform(member_data['browser'].astype(str))\n",
    "member_data['location_highest_process'] = lb_make.fit_transform(member_data['location_highest'].astype(str))\n",
    "member_data['cumulated_value'] = lb_make.fit_transform(member_data['累計金額'].astype(str))\n",
    "member_data['average_cumulated_value'] = lb_make.fit_transform(member_data['每次平均消費金額'].astype(str))"
   ]
  },
  {
   "cell_type": "code",
   "execution_count": 27,
   "metadata": {},
   "outputs": [
    {
     "data": {
      "text/html": [
       "<div>\n",
       "<style scoped>\n",
       "    .dataframe tbody tr th:only-of-type {\n",
       "        vertical-align: middle;\n",
       "    }\n",
       "\n",
       "    .dataframe tbody tr th {\n",
       "        vertical-align: top;\n",
       "    }\n",
       "\n",
       "    .dataframe thead th {\n",
       "        text-align: right;\n",
       "    }\n",
       "</style>\n",
       "<table border=\"1\" class=\"dataframe\">\n",
       "  <thead>\n",
       "    <tr style=\"text-align: right;\">\n",
       "      <th></th>\n",
       "      <th>location_highest</th>\n",
       "      <th>location_highest_process</th>\n",
       "    </tr>\n",
       "  </thead>\n",
       "  <tbody>\n",
       "    <tr>\n",
       "      <th>0</th>\n",
       "      <td>台中</td>\n",
       "      <td>1</td>\n",
       "    </tr>\n",
       "    <tr>\n",
       "      <th>1</th>\n",
       "      <td>台北</td>\n",
       "      <td>2</td>\n",
       "    </tr>\n",
       "    <tr>\n",
       "      <th>2</th>\n",
       "      <td>台北</td>\n",
       "      <td>2</td>\n",
       "    </tr>\n",
       "    <tr>\n",
       "      <th>3</th>\n",
       "      <td>台北</td>\n",
       "      <td>2</td>\n",
       "    </tr>\n",
       "    <tr>\n",
       "      <th>4</th>\n",
       "      <td>高雄</td>\n",
       "      <td>35</td>\n",
       "    </tr>\n",
       "    <tr>\n",
       "      <th>...</th>\n",
       "      <td>...</td>\n",
       "      <td>...</td>\n",
       "    </tr>\n",
       "    <tr>\n",
       "      <th>1953</th>\n",
       "      <td>新北</td>\n",
       "      <td>24</td>\n",
       "    </tr>\n",
       "    <tr>\n",
       "      <th>1954</th>\n",
       "      <td>台北</td>\n",
       "      <td>2</td>\n",
       "    </tr>\n",
       "    <tr>\n",
       "      <th>1955</th>\n",
       "      <td>新北</td>\n",
       "      <td>24</td>\n",
       "    </tr>\n",
       "    <tr>\n",
       "      <th>1956</th>\n",
       "      <td>高雄</td>\n",
       "      <td>35</td>\n",
       "    </tr>\n",
       "    <tr>\n",
       "      <th>1957</th>\n",
       "      <td>台北</td>\n",
       "      <td>2</td>\n",
       "    </tr>\n",
       "  </tbody>\n",
       "</table>\n",
       "<p>3527 rows × 2 columns</p>\n",
       "</div>"
      ],
      "text/plain": [
       "     location_highest  location_highest_process\n",
       "0                  台中                         1\n",
       "1                  台北                         2\n",
       "2                  台北                         2\n",
       "3                  台北                         2\n",
       "4                  高雄                        35\n",
       "...               ...                       ...\n",
       "1953               新北                        24\n",
       "1954               台北                         2\n",
       "1955               新北                        24\n",
       "1956               高雄                        35\n",
       "1957               台北                         2\n",
       "\n",
       "[3527 rows x 2 columns]"
      ]
     },
     "execution_count": 27,
     "metadata": {},
     "output_type": "execute_result"
    }
   ],
   "source": [
    "member_data[['location_highest','location_highest_process']]"
   ]
  },
  {
   "cell_type": "markdown",
   "metadata": {},
   "source": [
    "## 建立購買意圖分數標籤"
   ]
  },
  {
   "cell_type": "code",
   "execution_count": 28,
   "metadata": {},
   "outputs": [],
   "source": [
    "score_label = []\n",
    "\n",
    "for score in list(member_data['ave_purchase_grade']):\n",
    "    if score < 10:\n",
    "        score_label.append(0)\n",
    "    elif score >= 10 and score < 20:\n",
    "        score_label.append(1)\n",
    "    elif score >= 20 and score < 40:\n",
    "        score_label.append(2)\n",
    "    elif score >= 40 and score < 60:\n",
    "        score_label.append(3)\n",
    "    else:\n",
    "        score_label.append(5)\n",
    "\n",
    "member_data['購買意圖標籤'] = score_label"
   ]
  },
  {
   "cell_type": "code",
   "execution_count": 29,
   "metadata": {},
   "outputs": [
    {
     "data": {
      "text/plain": [
       "0       5\n",
       "1       5\n",
       "2       0\n",
       "3       3\n",
       "4       0\n",
       "       ..\n",
       "1953    5\n",
       "1954    3\n",
       "1955    2\n",
       "1956    0\n",
       "1957    5\n",
       "Name: 購買意圖標籤, Length: 3527, dtype: int64"
      ]
     },
     "execution_count": 29,
     "metadata": {},
     "output_type": "execute_result"
    }
   ],
   "source": [
    "member_data['購買意圖標籤']"
   ]
  },
  {
   "cell_type": "code",
   "execution_count": 30,
   "metadata": {},
   "outputs": [],
   "source": [
    "member_data.to_csv('會員資料和購買意圖整理對照表.csv', index = False, encoding='big5')"
   ]
  },
  {
   "cell_type": "code",
   "execution_count": 32,
   "metadata": {},
   "outputs": [],
   "source": [
    "member_data = pd.read_csv('會員資料和購買意圖整理對照表.csv', encoding='big5')"
   ]
  },
  {
   "cell_type": "code",
   "execution_count": 33,
   "metadata": {},
   "outputs": [],
   "source": [
    "score_label = []\n",
    "\n",
    "for score in list(member_data['ave_purchase_grade']):\n",
    "    if score < 20:\n",
    "        score_label.append(0)\n",
    "    elif score >= 20 and score < 60:\n",
    "        score_label.append(1)\n",
    "    else:\n",
    "        score_label.append(2)\n",
    "\n",
    "member_data['購買意圖標籤_new'] = score_label"
   ]
  },
  {
   "cell_type": "code",
   "execution_count": 34,
   "metadata": {},
   "outputs": [],
   "source": [
    "member_data.to_csv('會員資料和購買意圖整理對照表_with_new_score_label.csv', index = False, encoding='big5')"
   ]
  },
  {
   "cell_type": "markdown",
   "metadata": {},
   "source": [
    "## 依照兩群人分開檔案"
   ]
  },
  {
   "cell_type": "code",
   "execution_count": 35,
   "metadata": {},
   "outputs": [],
   "source": [
    "direct_data = member_data.loc[member_data['人群標籤'] == 0]"
   ]
  },
  {
   "cell_type": "code",
   "execution_count": 36,
   "metadata": {},
   "outputs": [],
   "source": [
    "ad_data = member_data.loc[member_data['人群標籤'] == 1]"
   ]
  },
  {
   "cell_type": "code",
   "execution_count": 37,
   "metadata": {},
   "outputs": [],
   "source": [
    "direct_data.to_csv('會員資料+購買意圖整理對照表_直接購買.csv', index = False, encoding='big5')\n",
    "ad_data.to_csv('會員資料+購買意圖整理對照表_影響最深.csv', index = False, encoding='big5')"
   ]
  },
  {
   "cell_type": "markdown",
   "metadata": {},
   "source": [
    "## 整理影響最深資料"
   ]
  },
  {
   "cell_type": "code",
   "execution_count": 49,
   "metadata": {},
   "outputs": [],
   "source": [
    "ad = pd.read_csv('training data/會員資料+購買意圖整理對照表_影響最深.csv', encoding='big5')"
   ]
  },
  {
   "cell_type": "code",
   "execution_count": 50,
   "metadata": {},
   "outputs": [
    {
     "data": {
      "text/plain": [
       "0        qikOnApfO8fGPvmETsk2UdQtquDmj6PdGli%2BflLA5vU%3D\n",
       "1       06vUSRrOovhRI%2FikR2Rn7U0%2BrEcAGnuYXP0kcaufy2...\n",
       "2          wjr0DprHIp91CWjCEec7a3urwaBrUeWG5g9amlbuKlg%3D\n",
       "3        4klVm1xIdWF0vkBXz6FhMzo7%2F7ngkScb3HsHeziDSrM%3D\n",
       "4          rudBuDaPgcgix8NT879P7HSiQFiJyZp4qEafwxExMg4%3D\n",
       "                              ...                        \n",
       "1953       0y36Ex0BjVoz2E5L9NR6XrSZle0VeNVnnpHdQlIA9z0%3D\n",
       "1954       JsJXGZ7IarY3DbE2pW4t1BIvW4itykD6PzW2ocFHywg%3D\n",
       "1955    y%2B4YTkK79%2F%2FfX2kG8TUqvYx2otO9D6OLW%2B2du%...\n",
       "1956    5I6ubhY%2BJwFcgfC8i3%2FiS4iQXQ0PWMroVp%2FNIpxE...\n",
       "1957    %2FMIQHuLB7mLpwR%2FekuJEnlxw0EgBD1oDRgk24QcuDr...\n",
       "Name: uid, Length: 1958, dtype: object"
      ]
     },
     "execution_count": 50,
     "metadata": {},
     "output_type": "execute_result"
    }
   ],
   "source": [
    "ad['uid']"
   ]
  },
  {
   "cell_type": "code",
   "execution_count": 51,
   "metadata": {},
   "outputs": [],
   "source": [
    "data5 = data5.loc[data5['uid'].isin(list(ad['uid'].unique()))]\n",
    "data6 = data6.loc[data6['uid'].isin(list(ad['uid'].unique()))]"
   ]
  },
  {
   "cell_type": "code",
   "execution_count": 52,
   "metadata": {},
   "outputs": [
    {
     "name": "stdout",
     "output_type": "stream",
     "text": [
      "1772 1706\n"
     ]
    }
   ],
   "source": [
    "# 去除重複 uid\n",
    "data5 = data5.drop_duplicates(subset='uid', keep=\"first\")\n",
    "data6 = data6.drop_duplicates(subset='uid', keep=\"first\")\n",
    "print(len(data5), len(data6))"
   ]
  },
  {
   "cell_type": "code",
   "execution_count": 53,
   "metadata": {},
   "outputs": [
    {
     "data": {
      "text/html": [
       "<div>\n",
       "<style scoped>\n",
       "    .dataframe tbody tr th:only-of-type {\n",
       "        vertical-align: middle;\n",
       "    }\n",
       "\n",
       "    .dataframe tbody tr th {\n",
       "        vertical-align: top;\n",
       "    }\n",
       "\n",
       "    .dataframe thead th {\n",
       "        text-align: right;\n",
       "    }\n",
       "</style>\n",
       "<table border=\"1\" class=\"dataframe\">\n",
       "  <thead>\n",
       "    <tr style=\"text-align: right;\">\n",
       "      <th></th>\n",
       "      <th>uid</th>\n",
       "      <th>cs_v1</th>\n",
       "      <th>cs_v2</th>\n",
       "    </tr>\n",
       "  </thead>\n",
       "  <tbody>\n",
       "    <tr>\n",
       "      <th>0</th>\n",
       "      <td>qikOnApfO8fGPvmETsk2UdQtquDmj6PdGli%2BflLA5vU%3D</td>\n",
       "      <td>['FB:0.95', '塔圖科技:0.03', 'IG:0.02']</td>\n",
       "      <td>FB</td>\n",
       "    </tr>\n",
       "    <tr>\n",
       "      <th>1</th>\n",
       "      <td>06vUSRrOovhRI%2FikR2Rn7U0%2BrEcAGnuYXP0kcaufy2...</td>\n",
       "      <td>['Google:0.35', 'FB:0.23', '塔圖科技:0.04', 'Youtu...</td>\n",
       "      <td>Youtube</td>\n",
       "    </tr>\n",
       "    <tr>\n",
       "      <th>2</th>\n",
       "      <td>wjr0DprHIp91CWjCEec7a3urwaBrUeWG5g9amlbuKlg%3D</td>\n",
       "      <td>['Google:0.07', 'FB:0.93']</td>\n",
       "      <td>FB</td>\n",
       "    </tr>\n",
       "    <tr>\n",
       "      <th>3</th>\n",
       "      <td>4klVm1xIdWF0vkBXz6FhMzo7%2F7ngkScb3HsHeziDSrM%3D</td>\n",
       "      <td>['Google:0.89', 'FB:0.11']</td>\n",
       "      <td>Google</td>\n",
       "    </tr>\n",
       "    <tr>\n",
       "      <th>4</th>\n",
       "      <td>rudBuDaPgcgix8NT879P7HSiQFiJyZp4qEafwxExMg4%3D</td>\n",
       "      <td>['FB:0.77', '塔圖科技:0.16', '宇匯知識科技:0.03', 'Googl...</td>\n",
       "      <td>FB</td>\n",
       "    </tr>\n",
       "    <tr>\n",
       "      <th>...</th>\n",
       "      <td>...</td>\n",
       "      <td>...</td>\n",
       "      <td>...</td>\n",
       "    </tr>\n",
       "    <tr>\n",
       "      <th>1776</th>\n",
       "      <td>0y36Ex0BjVoz2E5L9NR6XrSZle0VeNVnnpHdQlIA9z0%3D</td>\n",
       "      <td>['FB:0.87', 'IG:0.01', 'Youtube:0.04', '宇匯知識科技...</td>\n",
       "      <td>FB</td>\n",
       "    </tr>\n",
       "    <tr>\n",
       "      <th>1777</th>\n",
       "      <td>JsJXGZ7IarY3DbE2pW4t1BIvW4itykD6PzW2ocFHywg%3D</td>\n",
       "      <td>['Google:1.0']</td>\n",
       "      <td>Google</td>\n",
       "    </tr>\n",
       "    <tr>\n",
       "      <th>1778</th>\n",
       "      <td>y%2B4YTkK79%2F%2FfX2kG8TUqvYx2otO9D6OLW%2B2du%...</td>\n",
       "      <td>['FB:1.0']</td>\n",
       "      <td>FB</td>\n",
       "    </tr>\n",
       "    <tr>\n",
       "      <th>1779</th>\n",
       "      <td>5I6ubhY%2BJwFcgfC8i3%2FiS4iQXQ0PWMroVp%2FNIpxE...</td>\n",
       "      <td>['Google:1.0']</td>\n",
       "      <td>Google</td>\n",
       "    </tr>\n",
       "    <tr>\n",
       "      <th>1780</th>\n",
       "      <td>%2FMIQHuLB7mLpwR%2FekuJEnlxw0EgBD1oDRgk24QcuDr...</td>\n",
       "      <td>['宇匯知識科技:0.72', 'Google:0.21', '塔圖科技:0.06', 'A...</td>\n",
       "      <td>宇匯知識科技</td>\n",
       "    </tr>\n",
       "  </tbody>\n",
       "</table>\n",
       "<p>1772 rows × 3 columns</p>\n",
       "</div>"
      ],
      "text/plain": [
       "                                                    uid  \\\n",
       "0      qikOnApfO8fGPvmETsk2UdQtquDmj6PdGli%2BflLA5vU%3D   \n",
       "1     06vUSRrOovhRI%2FikR2Rn7U0%2BrEcAGnuYXP0kcaufy2...   \n",
       "2        wjr0DprHIp91CWjCEec7a3urwaBrUeWG5g9amlbuKlg%3D   \n",
       "3      4klVm1xIdWF0vkBXz6FhMzo7%2F7ngkScb3HsHeziDSrM%3D   \n",
       "4        rudBuDaPgcgix8NT879P7HSiQFiJyZp4qEafwxExMg4%3D   \n",
       "...                                                 ...   \n",
       "1776     0y36Ex0BjVoz2E5L9NR6XrSZle0VeNVnnpHdQlIA9z0%3D   \n",
       "1777     JsJXGZ7IarY3DbE2pW4t1BIvW4itykD6PzW2ocFHywg%3D   \n",
       "1778  y%2B4YTkK79%2F%2FfX2kG8TUqvYx2otO9D6OLW%2B2du%...   \n",
       "1779  5I6ubhY%2BJwFcgfC8i3%2FiS4iQXQ0PWMroVp%2FNIpxE...   \n",
       "1780  %2FMIQHuLB7mLpwR%2FekuJEnlxw0EgBD1oDRgk24QcuDr...   \n",
       "\n",
       "                                                  cs_v1    cs_v2  \n",
       "0                   ['FB:0.95', '塔圖科技:0.03', 'IG:0.02']       FB  \n",
       "1     ['Google:0.35', 'FB:0.23', '塔圖科技:0.04', 'Youtu...  Youtube  \n",
       "2                            ['Google:0.07', 'FB:0.93']       FB  \n",
       "3                            ['Google:0.89', 'FB:0.11']   Google  \n",
       "4     ['FB:0.77', '塔圖科技:0.16', '宇匯知識科技:0.03', 'Googl...       FB  \n",
       "...                                                 ...      ...  \n",
       "1776  ['FB:0.87', 'IG:0.01', 'Youtube:0.04', '宇匯知識科技...       FB  \n",
       "1777                                     ['Google:1.0']   Google  \n",
       "1778                                         ['FB:1.0']       FB  \n",
       "1779                                     ['Google:1.0']   Google  \n",
       "1780  ['宇匯知識科技:0.72', 'Google:0.21', '塔圖科技:0.06', 'A...   宇匯知識科技  \n",
       "\n",
       "[1772 rows x 3 columns]"
      ]
     },
     "execution_count": 53,
     "metadata": {},
     "output_type": "execute_result"
    }
   ],
   "source": [
    "data5"
   ]
  },
  {
   "cell_type": "code",
   "execution_count": 54,
   "metadata": {},
   "outputs": [],
   "source": [
    "merge_ad = reduce(lambda df_left,df_right: pd.merge(df_left, df_right, on=['uid'], \n",
    "                                              how='outer'), [ad, data5]).fillna('none')"
   ]
  },
  {
   "cell_type": "code",
   "execution_count": 55,
   "metadata": {},
   "outputs": [],
   "source": [
    "merge_ad = reduce(lambda df_left,df_right: pd.merge(df_left, df_right, on=['uid'], \n",
    "                                              how='outer'), [merge_ad, data6]).fillna('none')"
   ]
  },
  {
   "cell_type": "code",
   "execution_count": 56,
   "metadata": {},
   "outputs": [],
   "source": [
    "merge_ad['cs_process'] = lb_make.fit_transform(merge_ad['cs_v2'].astype(str))\n",
    "merge_ad['cm_process'] = lb_make.fit_transform(merge_ad['cm_v2'].astype(str))"
   ]
  },
  {
   "cell_type": "code",
   "execution_count": 59,
   "metadata": {},
   "outputs": [],
   "source": [
    "merge_ad.to_csv('training data/影響最深-所有資料對照表.csv', index=False, encoding='big5')"
   ]
  },
  {
   "cell_type": "code",
   "execution_count": 60,
   "metadata": {},
   "outputs": [
    {
     "data": {
      "text/html": [
       "<div>\n",
       "<style scoped>\n",
       "    .dataframe tbody tr th:only-of-type {\n",
       "        vertical-align: middle;\n",
       "    }\n",
       "\n",
       "    .dataframe tbody tr th {\n",
       "        vertical-align: top;\n",
       "    }\n",
       "\n",
       "    .dataframe thead th {\n",
       "        text-align: right;\n",
       "    }\n",
       "</style>\n",
       "<table border=\"1\" class=\"dataframe\">\n",
       "  <thead>\n",
       "    <tr style=\"text-align: right;\">\n",
       "      <th></th>\n",
       "      <th>MemberID</th>\n",
       "      <th>Age</th>\n",
       "      <th>Gender</th>\n",
       "      <th>Birthday</th>\n",
       "      <th>IsEnableEmail</th>\n",
       "      <th>IsEnablePushNotification</th>\n",
       "      <th>IsEnableShortMessage</th>\n",
       "      <th>MemberCardLevel</th>\n",
       "      <th>platform</th>\n",
       "      <th>os</th>\n",
       "      <th>...</th>\n",
       "      <th>cumulated_value</th>\n",
       "      <th>average_cumulated_value</th>\n",
       "      <th>購買意圖標籤</th>\n",
       "      <th>購買意圖標籤_new</th>\n",
       "      <th>cs_v1</th>\n",
       "      <th>cs_v2</th>\n",
       "      <th>cm_v1</th>\n",
       "      <th>cm_v2</th>\n",
       "      <th>cs_process</th>\n",
       "      <th>cm_process</th>\n",
       "    </tr>\n",
       "  </thead>\n",
       "  <tbody>\n",
       "    <tr>\n",
       "      <th>0</th>\n",
       "      <td>qikOnApfO8fGPvmETsk2UdQtquDmj6PdGli+flLA5vU=</td>\n",
       "      <td>36</td>\n",
       "      <td>Female</td>\n",
       "      <td>1984/11/22</td>\n",
       "      <td>True</td>\n",
       "      <td>True</td>\n",
       "      <td>True</td>\n",
       "      <td>20</td>\n",
       "      <td>[PC]</td>\n",
       "      <td>[Windows]</td>\n",
       "      <td>...</td>\n",
       "      <td>1</td>\n",
       "      <td>1</td>\n",
       "      <td>3</td>\n",
       "      <td>1</td>\n",
       "      <td>['FB:0.95', '塔圖科技:0.03', 'IG:0.02']</td>\n",
       "      <td>FB</td>\n",
       "      <td>['referral:0.23', '其他:0.72', 'cpc:0.03', 'FB:0...</td>\n",
       "      <td>其他</td>\n",
       "      <td>2</td>\n",
       "      <td>12</td>\n",
       "    </tr>\n",
       "    <tr>\n",
       "      <th>1</th>\n",
       "      <td>06vUSRrOovhRI/ikR2Rn7U0+rEcAGnuYXP0kcaufy24=</td>\n",
       "      <td>121</td>\n",
       "      <td>none</td>\n",
       "      <td>1900/1/1</td>\n",
       "      <td>True</td>\n",
       "      <td>True</td>\n",
       "      <td>True</td>\n",
       "      <td>30</td>\n",
       "      <td>[PC]</td>\n",
       "      <td>[Windows]</td>\n",
       "      <td>...</td>\n",
       "      <td>31</td>\n",
       "      <td>1</td>\n",
       "      <td>2</td>\n",
       "      <td>1</td>\n",
       "      <td>['Google:0.35', 'FB:0.23', '塔圖科技:0.04', 'Youtu...</td>\n",
       "      <td>Youtube</td>\n",
       "      <td>['cpc:0.38', '其他:0.46', 'referral:0.15']</td>\n",
       "      <td>其他</td>\n",
       "      <td>9</td>\n",
       "      <td>12</td>\n",
       "    </tr>\n",
       "    <tr>\n",
       "      <th>2</th>\n",
       "      <td>wjr0DprHIp91CWjCEec7a3urwaBrUeWG5g9amlbuKlg=</td>\n",
       "      <td>49</td>\n",
       "      <td>Female</td>\n",
       "      <td>1971/8/30</td>\n",
       "      <td>True</td>\n",
       "      <td>True</td>\n",
       "      <td>True</td>\n",
       "      <td>20</td>\n",
       "      <td>[PC]</td>\n",
       "      <td>[Windows]</td>\n",
       "      <td>...</td>\n",
       "      <td>24</td>\n",
       "      <td>1</td>\n",
       "      <td>1</td>\n",
       "      <td>0</td>\n",
       "      <td>['Google:0.07', 'FB:0.93']</td>\n",
       "      <td>FB</td>\n",
       "      <td>['cpc:0.07', '其他:0.83', 'referral:0.1']</td>\n",
       "      <td>其他</td>\n",
       "      <td>2</td>\n",
       "      <td>12</td>\n",
       "    </tr>\n",
       "    <tr>\n",
       "      <th>3</th>\n",
       "      <td>4klVm1xIdWF0vkBXz6FhMzo7/7ngkScb3HsHeziDSrM=</td>\n",
       "      <td>28</td>\n",
       "      <td>Female</td>\n",
       "      <td>1993/1/16</td>\n",
       "      <td>False</td>\n",
       "      <td>True</td>\n",
       "      <td>True</td>\n",
       "      <td>10</td>\n",
       "      <td>[PC]</td>\n",
       "      <td>[Windows]</td>\n",
       "      <td>...</td>\n",
       "      <td>31</td>\n",
       "      <td>1</td>\n",
       "      <td>2</td>\n",
       "      <td>1</td>\n",
       "      <td>['Google:0.89', 'FB:0.11']</td>\n",
       "      <td>Google</td>\n",
       "      <td>['cpc:0.42', '其他:0.11', 'organic:0.47']</td>\n",
       "      <td>organic</td>\n",
       "      <td>3</td>\n",
       "      <td>9</td>\n",
       "    </tr>\n",
       "    <tr>\n",
       "      <th>4</th>\n",
       "      <td>rudBuDaPgcgix8NT879P7HSiQFiJyZp4qEafwxExMg4=</td>\n",
       "      <td>121</td>\n",
       "      <td>none</td>\n",
       "      <td>1900/1/1</td>\n",
       "      <td>True</td>\n",
       "      <td>True</td>\n",
       "      <td>True</td>\n",
       "      <td>10</td>\n",
       "      <td>[PC]</td>\n",
       "      <td>[Windows]</td>\n",
       "      <td>...</td>\n",
       "      <td>2</td>\n",
       "      <td>0</td>\n",
       "      <td>1</td>\n",
       "      <td>0</td>\n",
       "      <td>['FB:0.77', '塔圖科技:0.16', '宇匯知識科技:0.03', 'Googl...</td>\n",
       "      <td>FB</td>\n",
       "      <td>['其他:0.49', 'cpc:0.19', 'referral:0.33']</td>\n",
       "      <td>其他</td>\n",
       "      <td>2</td>\n",
       "      <td>12</td>\n",
       "    </tr>\n",
       "    <tr>\n",
       "      <th>...</th>\n",
       "      <td>...</td>\n",
       "      <td>...</td>\n",
       "      <td>...</td>\n",
       "      <td>...</td>\n",
       "      <td>...</td>\n",
       "      <td>...</td>\n",
       "      <td>...</td>\n",
       "      <td>...</td>\n",
       "      <td>...</td>\n",
       "      <td>...</td>\n",
       "      <td>...</td>\n",
       "      <td>...</td>\n",
       "      <td>...</td>\n",
       "      <td>...</td>\n",
       "      <td>...</td>\n",
       "      <td>...</td>\n",
       "      <td>...</td>\n",
       "      <td>...</td>\n",
       "      <td>...</td>\n",
       "      <td>...</td>\n",
       "      <td>...</td>\n",
       "    </tr>\n",
       "    <tr>\n",
       "      <th>1953</th>\n",
       "      <td>0y36Ex0BjVoz2E5L9NR6XrSZle0VeNVnnpHdQlIA9z0=</td>\n",
       "      <td>39</td>\n",
       "      <td>Female</td>\n",
       "      <td>1981/9/27</td>\n",
       "      <td>False</td>\n",
       "      <td>True</td>\n",
       "      <td>True</td>\n",
       "      <td>10</td>\n",
       "      <td>[Mobile]</td>\n",
       "      <td>[Android]</td>\n",
       "      <td>...</td>\n",
       "      <td>2</td>\n",
       "      <td>1</td>\n",
       "      <td>5</td>\n",
       "      <td>2</td>\n",
       "      <td>['FB:0.87', 'IG:0.01', 'Youtube:0.04', '宇匯知識科技...</td>\n",
       "      <td>FB</td>\n",
       "      <td>['其他:0.83', 'referral:0.16', 'StoreList:0.02']</td>\n",
       "      <td>其他</td>\n",
       "      <td>2</td>\n",
       "      <td>12</td>\n",
       "    </tr>\n",
       "    <tr>\n",
       "      <th>1954</th>\n",
       "      <td>JsJXGZ7IarY3DbE2pW4t1BIvW4itykD6PzW2ocFHywg=</td>\n",
       "      <td>121</td>\n",
       "      <td>none</td>\n",
       "      <td>1900/1/1</td>\n",
       "      <td>True</td>\n",
       "      <td>True</td>\n",
       "      <td>True</td>\n",
       "      <td>10</td>\n",
       "      <td>[PC]</td>\n",
       "      <td>[Windows]</td>\n",
       "      <td>...</td>\n",
       "      <td>24</td>\n",
       "      <td>1</td>\n",
       "      <td>3</td>\n",
       "      <td>1</td>\n",
       "      <td>['Google:1.0']</td>\n",
       "      <td>Google</td>\n",
       "      <td>['cpc:1.0']</td>\n",
       "      <td>cpc</td>\n",
       "      <td>3</td>\n",
       "      <td>5</td>\n",
       "    </tr>\n",
       "    <tr>\n",
       "      <th>1955</th>\n",
       "      <td>y+4YTkK79//fX2kG8TUqvYx2otO9D6OLW+2du/FkUW0=</td>\n",
       "      <td>39</td>\n",
       "      <td>Female</td>\n",
       "      <td>1981/10/31</td>\n",
       "      <td>True</td>\n",
       "      <td>True</td>\n",
       "      <td>True</td>\n",
       "      <td>20</td>\n",
       "      <td>[Mobile]</td>\n",
       "      <td>[Android]</td>\n",
       "      <td>...</td>\n",
       "      <td>2</td>\n",
       "      <td>1</td>\n",
       "      <td>2</td>\n",
       "      <td>1</td>\n",
       "      <td>['FB:1.0']</td>\n",
       "      <td>FB</td>\n",
       "      <td>['其他:0.83', 'StoreList:0.17']</td>\n",
       "      <td>其他</td>\n",
       "      <td>2</td>\n",
       "      <td>12</td>\n",
       "    </tr>\n",
       "    <tr>\n",
       "      <th>1956</th>\n",
       "      <td>5I6ubhY+JwFcgfC8i3/iS4iQXQ0PWMroVp/NIpxE51k=</td>\n",
       "      <td>35</td>\n",
       "      <td>Female</td>\n",
       "      <td>1985/6/16</td>\n",
       "      <td>False</td>\n",
       "      <td>True</td>\n",
       "      <td>True</td>\n",
       "      <td>10</td>\n",
       "      <td>[PC]</td>\n",
       "      <td>[Others]</td>\n",
       "      <td>...</td>\n",
       "      <td>2</td>\n",
       "      <td>1</td>\n",
       "      <td>0</td>\n",
       "      <td>0</td>\n",
       "      <td>['Google:1.0']</td>\n",
       "      <td>Google</td>\n",
       "      <td>['cpc:1.0']</td>\n",
       "      <td>cpc</td>\n",
       "      <td>3</td>\n",
       "      <td>5</td>\n",
       "    </tr>\n",
       "    <tr>\n",
       "      <th>1957</th>\n",
       "      <td>/MIQHuLB7mLpwR/ekuJEnlxw0EgBD1oDRgk24QcuDr4=</td>\n",
       "      <td>32</td>\n",
       "      <td>Female</td>\n",
       "      <td>1988/11/16</td>\n",
       "      <td>True</td>\n",
       "      <td>True</td>\n",
       "      <td>True</td>\n",
       "      <td>20</td>\n",
       "      <td>[Mobile]</td>\n",
       "      <td>[Android]</td>\n",
       "      <td>...</td>\n",
       "      <td>2</td>\n",
       "      <td>1</td>\n",
       "      <td>5</td>\n",
       "      <td>2</td>\n",
       "      <td>['宇匯知識科技:0.72', 'Google:0.21', '塔圖科技:0.06', 'A...</td>\n",
       "      <td>宇匯知識科技</td>\n",
       "      <td>['cpc:0.93', 'E-mail:0.07']</td>\n",
       "      <td>cpc</td>\n",
       "      <td>13</td>\n",
       "      <td>5</td>\n",
       "    </tr>\n",
       "  </tbody>\n",
       "</table>\n",
       "<p>1958 rows × 54 columns</p>\n",
       "</div>"
      ],
      "text/plain": [
       "                                          MemberID  Age  Gender    Birthday  \\\n",
       "0     qikOnApfO8fGPvmETsk2UdQtquDmj6PdGli+flLA5vU=   36  Female  1984/11/22   \n",
       "1     06vUSRrOovhRI/ikR2Rn7U0+rEcAGnuYXP0kcaufy24=  121    none    1900/1/1   \n",
       "2     wjr0DprHIp91CWjCEec7a3urwaBrUeWG5g9amlbuKlg=   49  Female   1971/8/30   \n",
       "3     4klVm1xIdWF0vkBXz6FhMzo7/7ngkScb3HsHeziDSrM=   28  Female   1993/1/16   \n",
       "4     rudBuDaPgcgix8NT879P7HSiQFiJyZp4qEafwxExMg4=  121    none    1900/1/1   \n",
       "...                                            ...  ...     ...         ...   \n",
       "1953  0y36Ex0BjVoz2E5L9NR6XrSZle0VeNVnnpHdQlIA9z0=   39  Female   1981/9/27   \n",
       "1954  JsJXGZ7IarY3DbE2pW4t1BIvW4itykD6PzW2ocFHywg=  121    none    1900/1/1   \n",
       "1955  y+4YTkK79//fX2kG8TUqvYx2otO9D6OLW+2du/FkUW0=   39  Female  1981/10/31   \n",
       "1956  5I6ubhY+JwFcgfC8i3/iS4iQXQ0PWMroVp/NIpxE51k=   35  Female   1985/6/16   \n",
       "1957  /MIQHuLB7mLpwR/ekuJEnlxw0EgBD1oDRgk24QcuDr4=   32  Female  1988/11/16   \n",
       "\n",
       "      IsEnableEmail  IsEnablePushNotification  IsEnableShortMessage  \\\n",
       "0              True                      True                  True   \n",
       "1              True                      True                  True   \n",
       "2              True                      True                  True   \n",
       "3             False                      True                  True   \n",
       "4              True                      True                  True   \n",
       "...             ...                       ...                   ...   \n",
       "1953          False                      True                  True   \n",
       "1954           True                      True                  True   \n",
       "1955           True                      True                  True   \n",
       "1956          False                      True                  True   \n",
       "1957           True                      True                  True   \n",
       "\n",
       "      MemberCardLevel  platform         os  ... cumulated_value  \\\n",
       "0                  20      [PC]  [Windows]  ...               1   \n",
       "1                  30      [PC]  [Windows]  ...              31   \n",
       "2                  20      [PC]  [Windows]  ...              24   \n",
       "3                  10      [PC]  [Windows]  ...              31   \n",
       "4                  10      [PC]  [Windows]  ...               2   \n",
       "...               ...       ...        ...  ...             ...   \n",
       "1953               10  [Mobile]  [Android]  ...               2   \n",
       "1954               10      [PC]  [Windows]  ...              24   \n",
       "1955               20  [Mobile]  [Android]  ...               2   \n",
       "1956               10      [PC]   [Others]  ...               2   \n",
       "1957               20  [Mobile]  [Android]  ...               2   \n",
       "\n",
       "     average_cumulated_value 購買意圖標籤 購買意圖標籤_new  \\\n",
       "0                          1      3          1   \n",
       "1                          1      2          1   \n",
       "2                          1      1          0   \n",
       "3                          1      2          1   \n",
       "4                          0      1          0   \n",
       "...                      ...    ...        ...   \n",
       "1953                       1      5          2   \n",
       "1954                       1      3          1   \n",
       "1955                       1      2          1   \n",
       "1956                       1      0          0   \n",
       "1957                       1      5          2   \n",
       "\n",
       "                                                  cs_v1    cs_v2  \\\n",
       "0                   ['FB:0.95', '塔圖科技:0.03', 'IG:0.02']       FB   \n",
       "1     ['Google:0.35', 'FB:0.23', '塔圖科技:0.04', 'Youtu...  Youtube   \n",
       "2                            ['Google:0.07', 'FB:0.93']       FB   \n",
       "3                            ['Google:0.89', 'FB:0.11']   Google   \n",
       "4     ['FB:0.77', '塔圖科技:0.16', '宇匯知識科技:0.03', 'Googl...       FB   \n",
       "...                                                 ...      ...   \n",
       "1953  ['FB:0.87', 'IG:0.01', 'Youtube:0.04', '宇匯知識科技...       FB   \n",
       "1954                                     ['Google:1.0']   Google   \n",
       "1955                                         ['FB:1.0']       FB   \n",
       "1956                                     ['Google:1.0']   Google   \n",
       "1957  ['宇匯知識科技:0.72', 'Google:0.21', '塔圖科技:0.06', 'A...   宇匯知識科技   \n",
       "\n",
       "                                                  cm_v1    cm_v2  cs_process  \\\n",
       "0     ['referral:0.23', '其他:0.72', 'cpc:0.03', 'FB:0...       其他           2   \n",
       "1              ['cpc:0.38', '其他:0.46', 'referral:0.15']       其他           9   \n",
       "2               ['cpc:0.07', '其他:0.83', 'referral:0.1']       其他           2   \n",
       "3               ['cpc:0.42', '其他:0.11', 'organic:0.47']  organic           3   \n",
       "4              ['其他:0.49', 'cpc:0.19', 'referral:0.33']       其他           2   \n",
       "...                                                 ...      ...         ...   \n",
       "1953     ['其他:0.83', 'referral:0.16', 'StoreList:0.02']       其他           2   \n",
       "1954                                        ['cpc:1.0']      cpc           3   \n",
       "1955                      ['其他:0.83', 'StoreList:0.17']       其他           2   \n",
       "1956                                        ['cpc:1.0']      cpc           3   \n",
       "1957                        ['cpc:0.93', 'E-mail:0.07']      cpc          13   \n",
       "\n",
       "      cm_process  \n",
       "0             12  \n",
       "1             12  \n",
       "2             12  \n",
       "3              9  \n",
       "4             12  \n",
       "...          ...  \n",
       "1953          12  \n",
       "1954           5  \n",
       "1955          12  \n",
       "1956           5  \n",
       "1957           5  \n",
       "\n",
       "[1958 rows x 54 columns]"
      ]
     },
     "execution_count": 60,
     "metadata": {},
     "output_type": "execute_result"
    }
   ],
   "source": [
    "merge_ad"
   ]
  },
  {
   "cell_type": "code",
   "execution_count": null,
   "metadata": {},
   "outputs": [],
   "source": []
  },
  {
   "cell_type": "code",
   "execution_count": null,
   "metadata": {},
   "outputs": [],
   "source": []
  }
 ],
 "metadata": {
  "kernelspec": {
   "display_name": "Python 3",
   "language": "python",
   "name": "python3"
  },
  "language_info": {
   "codemirror_mode": {
    "name": "ipython",
    "version": 3
   },
   "file_extension": ".py",
   "mimetype": "text/x-python",
   "name": "python",
   "nbconvert_exporter": "python",
   "pygments_lexer": "ipython3",
   "version": "3.7.1"
  }
 },
 "nbformat": 4,
 "nbformat_minor": 4
}
